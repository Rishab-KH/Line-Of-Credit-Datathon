{
 "cells": [
  {
   "cell_type": "code",
   "execution_count": 2,
   "id": "f9b6fba3",
   "metadata": {},
   "outputs": [],
   "source": [
    "import numpy as np # linear algebra\n",
    "import pandas as pd # data processing, CSV file I/O (e.g. pd.read_csv)\n",
    "import seaborn as sns\n",
    "import matplotlib.pyplot as plt"
   ]
  },
  {
   "cell_type": "code",
   "execution_count": 3,
   "id": "07dacc6b",
   "metadata": {},
   "outputs": [
    {
     "name": "stdout",
     "output_type": "stream",
     "text": [
      "C:\\Users\\lenovo\\Datathon\\draft_1.ipynb\n",
      "C:\\Users\\lenovo\\Datathon\\EDA.ipynb\n",
      "C:\\Users\\lenovo\\Datathon\\Neural Network Output.ipynb\n",
      "C:\\Users\\lenovo\\Datathon\\sample_submission.csv\n",
      "C:\\Users\\lenovo\\Datathon\\submission.csv\n",
      "C:\\Users\\lenovo\\Datathon\\test.csv\n",
      "C:\\Users\\lenovo\\Datathon\\train.csv\n",
      "C:\\Users\\lenovo\\Datathon\\xgb_submission.csv\n",
      "C:\\Users\\lenovo\\Datathon\\xgb_submission_2.csv\n",
      "C:\\Users\\lenovo\\Datathon\\xgb_submission_3.csv\n",
      "C:\\Users\\lenovo\\Datathon\\X_train.csv\n",
      "C:\\Users\\lenovo\\Datathon\\.ipynb_checkpoints\\draft_1-checkpoint.ipynb\n",
      "C:\\Users\\lenovo\\Datathon\\.ipynb_checkpoints\\EDA-checkpoint.ipynb\n",
      "C:\\Users\\lenovo\\Datathon\\.ipynb_checkpoints\\Neural Network Output-checkpoint.ipynb\n"
     ]
    }
   ],
   "source": [
    "import os\n",
    "for dirname, _, filenames in os.walk('C:\\\\Users\\\\lenovo\\\\Datathon'):\n",
    "    for filename in filenames:\n",
    "        print(os.path.join(dirname, filename))"
   ]
  },
  {
   "cell_type": "code",
   "execution_count": 4,
   "id": "829f28ea",
   "metadata": {},
   "outputs": [],
   "source": [
    "train_df = pd.read_csv(\"C:\\\\Users\\\\lenovo\\\\Datathon\\\\train.csv\")"
   ]
  },
  {
   "cell_type": "code",
   "execution_count": 5,
   "id": "9865f922",
   "metadata": {},
   "outputs": [],
   "source": [
    "test_df = pd.read_csv(\"C:\\\\Users\\\\lenovo\\\\Datathon\\\\test.csv\")"
   ]
  },
  {
   "cell_type": "code",
   "execution_count": 6,
   "id": "f70cb3ed",
   "metadata": {},
   "outputs": [
    {
     "data": {
      "text/html": [
       "<div>\n",
       "<style scoped>\n",
       "    .dataframe tbody tr th:only-of-type {\n",
       "        vertical-align: middle;\n",
       "    }\n",
       "\n",
       "    .dataframe tbody tr th {\n",
       "        vertical-align: top;\n",
       "    }\n",
       "\n",
       "    .dataframe thead th {\n",
       "        text-align: right;\n",
       "    }\n",
       "</style>\n",
       "<table border=\"1\" class=\"dataframe\">\n",
       "  <thead>\n",
       "    <tr style=\"text-align: right;\">\n",
       "      <th></th>\n",
       "      <th>id</th>\n",
       "      <th>time</th>\n",
       "      <th>duration</th>\n",
       "      <th>feature_0</th>\n",
       "      <th>checkpoint</th>\n",
       "      <th>feature_1</th>\n",
       "      <th>feature_2</th>\n",
       "      <th>feature_3</th>\n",
       "      <th>feature_4</th>\n",
       "      <th>feature_5</th>\n",
       "      <th>...</th>\n",
       "      <th>feature_28</th>\n",
       "      <th>feature_29</th>\n",
       "      <th>feature_30</th>\n",
       "      <th>feature_31</th>\n",
       "      <th>feature_32</th>\n",
       "      <th>feature_33</th>\n",
       "      <th>feature_34</th>\n",
       "      <th>feature_35</th>\n",
       "      <th>feature_36</th>\n",
       "      <th>target</th>\n",
       "    </tr>\n",
       "  </thead>\n",
       "  <tbody>\n",
       "    <tr>\n",
       "      <th>0</th>\n",
       "      <td>eac9059b997a667954a1c2f19079c463</td>\n",
       "      <td>NaN</td>\n",
       "      <td>36 months</td>\n",
       "      <td>0.0</td>\n",
       "      <td>91th week</td>\n",
       "      <td>UT</td>\n",
       "      <td>130000.0</td>\n",
       "      <td>INDIVIDUAL</td>\n",
       "      <td>BAT3016651</td>\n",
       "      <td>0.0</td>\n",
       "      <td>...</td>\n",
       "      <td>D2</td>\n",
       "      <td>Debt consolidation</td>\n",
       "      <td>0.0</td>\n",
       "      <td>39779.0</td>\n",
       "      <td>5701.17</td>\n",
       "      <td>0.0</td>\n",
       "      <td>37400.0</td>\n",
       "      <td>Source Verified</td>\n",
       "      <td>841xx</td>\n",
       "      <td>28.0</td>\n",
       "    </tr>\n",
       "    <tr>\n",
       "      <th>1</th>\n",
       "      <td>f2bdbfe82b2a63a35726cb1a630af56a</td>\n",
       "      <td>NaN</td>\n",
       "      <td>36 months</td>\n",
       "      <td>0.0</td>\n",
       "      <td>4th week</td>\n",
       "      <td>LA</td>\n",
       "      <td>50000.0</td>\n",
       "      <td>INDIVIDUAL</td>\n",
       "      <td>BAT1184694</td>\n",
       "      <td>0.0</td>\n",
       "      <td>...</td>\n",
       "      <td>D2</td>\n",
       "      <td>Business</td>\n",
       "      <td>138.0</td>\n",
       "      <td>115674.0</td>\n",
       "      <td>11.84</td>\n",
       "      <td>0.0</td>\n",
       "      <td>49000.0</td>\n",
       "      <td>Verified</td>\n",
       "      <td>701xx</td>\n",
       "      <td>39.0</td>\n",
       "    </tr>\n",
       "    <tr>\n",
       "      <th>2</th>\n",
       "      <td>0a73ee5d7841b012f1fb62542d7664c7</td>\n",
       "      <td>NaN</td>\n",
       "      <td>36 months</td>\n",
       "      <td>0.0</td>\n",
       "      <td>65th week</td>\n",
       "      <td>VA</td>\n",
       "      <td>40000.0</td>\n",
       "      <td>INDIVIDUAL</td>\n",
       "      <td>BAT2078974</td>\n",
       "      <td>0.0</td>\n",
       "      <td>...</td>\n",
       "      <td>C1</td>\n",
       "      <td>Debt consolidation</td>\n",
       "      <td>0.0</td>\n",
       "      <td>40075.0</td>\n",
       "      <td>1689.09</td>\n",
       "      <td>0.0</td>\n",
       "      <td>17600.0</td>\n",
       "      <td>Verified</td>\n",
       "      <td>241xx</td>\n",
       "      <td>29.0</td>\n",
       "    </tr>\n",
       "    <tr>\n",
       "      <th>3</th>\n",
       "      <td>d9a39c969e294fe16601279e114fc9c0</td>\n",
       "      <td>&lt; 1 year</td>\n",
       "      <td>60 months</td>\n",
       "      <td>0.0</td>\n",
       "      <td>9th week</td>\n",
       "      <td>MI</td>\n",
       "      <td>50000.0</td>\n",
       "      <td>INDIVIDUAL</td>\n",
       "      <td>BAT4106493</td>\n",
       "      <td>0.0</td>\n",
       "      <td>...</td>\n",
       "      <td>F2</td>\n",
       "      <td>Credit card refinancing</td>\n",
       "      <td>0.0</td>\n",
       "      <td>20459.0</td>\n",
       "      <td>348.68</td>\n",
       "      <td>0.0</td>\n",
       "      <td>20100.0</td>\n",
       "      <td>Source Verified</td>\n",
       "      <td>480xx</td>\n",
       "      <td>15.0</td>\n",
       "    </tr>\n",
       "    <tr>\n",
       "      <th>4</th>\n",
       "      <td>3a44d3ab14792dcc7aaf391db0bdb72c</td>\n",
       "      <td>5 years</td>\n",
       "      <td>36 months</td>\n",
       "      <td>0.0</td>\n",
       "      <td>139th week</td>\n",
       "      <td>NC</td>\n",
       "      <td>45000.0</td>\n",
       "      <td>INDIVIDUAL</td>\n",
       "      <td></td>\n",
       "      <td>0.0</td>\n",
       "      <td>...</td>\n",
       "      <td>B5</td>\n",
       "      <td>debt consolidation</td>\n",
       "      <td>0.0</td>\n",
       "      <td>100987.0</td>\n",
       "      <td>2164.96</td>\n",
       "      <td>0.0</td>\n",
       "      <td>15000.0</td>\n",
       "      <td>Verified</td>\n",
       "      <td>282xx</td>\n",
       "      <td>18.0</td>\n",
       "    </tr>\n",
       "  </tbody>\n",
       "</table>\n",
       "<p>5 rows × 42 columns</p>\n",
       "</div>"
      ],
      "text/plain": [
       "                                 id      time   duration  feature_0  \\\n",
       "0  eac9059b997a667954a1c2f19079c463       NaN  36 months        0.0   \n",
       "1  f2bdbfe82b2a63a35726cb1a630af56a       NaN  36 months        0.0   \n",
       "2  0a73ee5d7841b012f1fb62542d7664c7       NaN  36 months        0.0   \n",
       "3  d9a39c969e294fe16601279e114fc9c0  < 1 year  60 months        0.0   \n",
       "4  3a44d3ab14792dcc7aaf391db0bdb72c   5 years  36 months        0.0   \n",
       "\n",
       "   checkpoint feature_1  feature_2   feature_3   feature_4  feature_5  ...  \\\n",
       "0   91th week        UT   130000.0  INDIVIDUAL  BAT3016651        0.0  ...   \n",
       "1    4th week        LA    50000.0  INDIVIDUAL  BAT1184694        0.0  ...   \n",
       "2   65th week        VA    40000.0  INDIVIDUAL  BAT2078974        0.0  ...   \n",
       "3    9th week        MI    50000.0  INDIVIDUAL  BAT4106493        0.0  ...   \n",
       "4  139th week        NC    45000.0  INDIVIDUAL                    0.0  ...   \n",
       "\n",
       "   feature_28               feature_29  feature_30 feature_31  feature_32  \\\n",
       "0          D2       Debt consolidation         0.0    39779.0     5701.17   \n",
       "1          D2                 Business       138.0   115674.0       11.84   \n",
       "2          C1       Debt consolidation         0.0    40075.0     1689.09   \n",
       "3          F2  Credit card refinancing         0.0    20459.0      348.68   \n",
       "4          B5       debt consolidation         0.0   100987.0     2164.96   \n",
       "\n",
       "   feature_33 feature_34       feature_35 feature_36  target  \n",
       "0         0.0    37400.0  Source Verified      841xx    28.0  \n",
       "1         0.0    49000.0         Verified      701xx    39.0  \n",
       "2         0.0    17600.0         Verified      241xx    29.0  \n",
       "3         0.0    20100.0  Source Verified      480xx    15.0  \n",
       "4         0.0    15000.0         Verified      282xx    18.0  \n",
       "\n",
       "[5 rows x 42 columns]"
      ]
     },
     "execution_count": 6,
     "metadata": {},
     "output_type": "execute_result"
    }
   ],
   "source": [
    "train_df.head()"
   ]
  },
  {
   "cell_type": "code",
   "execution_count": 7,
   "id": "72d1e3d4",
   "metadata": {},
   "outputs": [
    {
     "data": {
      "text/html": [
       "<div>\n",
       "<style scoped>\n",
       "    .dataframe tbody tr th:only-of-type {\n",
       "        vertical-align: middle;\n",
       "    }\n",
       "\n",
       "    .dataframe tbody tr th {\n",
       "        vertical-align: top;\n",
       "    }\n",
       "\n",
       "    .dataframe thead th {\n",
       "        text-align: right;\n",
       "    }\n",
       "</style>\n",
       "<table border=\"1\" class=\"dataframe\">\n",
       "  <thead>\n",
       "    <tr style=\"text-align: right;\">\n",
       "      <th></th>\n",
       "      <th>feature_12</th>\n",
       "      <th>feature_24</th>\n",
       "    </tr>\n",
       "  </thead>\n",
       "  <tbody>\n",
       "    <tr>\n",
       "      <th>0</th>\n",
       "      <td>D</td>\n",
       "      <td>n</td>\n",
       "    </tr>\n",
       "    <tr>\n",
       "      <th>1</th>\n",
       "      <td>D</td>\n",
       "      <td>n</td>\n",
       "    </tr>\n",
       "    <tr>\n",
       "      <th>2</th>\n",
       "      <td>C</td>\n",
       "      <td>n</td>\n",
       "    </tr>\n",
       "    <tr>\n",
       "      <th>3</th>\n",
       "      <td>F</td>\n",
       "      <td>n</td>\n",
       "    </tr>\n",
       "    <tr>\n",
       "      <th>4</th>\n",
       "      <td>B</td>\n",
       "      <td>n</td>\n",
       "    </tr>\n",
       "    <tr>\n",
       "      <th>...</th>\n",
       "      <td>...</td>\n",
       "      <td>...</td>\n",
       "    </tr>\n",
       "    <tr>\n",
       "      <th>419035</th>\n",
       "      <td>E</td>\n",
       "      <td>n</td>\n",
       "    </tr>\n",
       "    <tr>\n",
       "      <th>419036</th>\n",
       "      <td>B</td>\n",
       "      <td>n</td>\n",
       "    </tr>\n",
       "    <tr>\n",
       "      <th>419037</th>\n",
       "      <td>C</td>\n",
       "      <td>n</td>\n",
       "    </tr>\n",
       "    <tr>\n",
       "      <th>419038</th>\n",
       "      <td>A</td>\n",
       "      <td>n</td>\n",
       "    </tr>\n",
       "    <tr>\n",
       "      <th>419039</th>\n",
       "      <td>E</td>\n",
       "      <td>n</td>\n",
       "    </tr>\n",
       "  </tbody>\n",
       "</table>\n",
       "<p>419040 rows × 2 columns</p>\n",
       "</div>"
      ],
      "text/plain": [
       "       feature_12 feature_24\n",
       "0               D          n\n",
       "1               D          n\n",
       "2               C          n\n",
       "3               F          n\n",
       "4               B          n\n",
       "...           ...        ...\n",
       "419035          E          n\n",
       "419036          B          n\n",
       "419037          C          n\n",
       "419038          A          n\n",
       "419039          E          n\n",
       "\n",
       "[419040 rows x 2 columns]"
      ]
     },
     "execution_count": 7,
     "metadata": {},
     "output_type": "execute_result"
    }
   ],
   "source": [
    "train_df[[\"feature_12\", \"feature_24\"]]"
   ]
  },
  {
   "cell_type": "code",
   "execution_count": 8,
   "id": "e1726e09",
   "metadata": {},
   "outputs": [
    {
     "data": {
      "text/html": [
       "<div>\n",
       "<style scoped>\n",
       "    .dataframe tbody tr th:only-of-type {\n",
       "        vertical-align: middle;\n",
       "    }\n",
       "\n",
       "    .dataframe tbody tr th {\n",
       "        vertical-align: top;\n",
       "    }\n",
       "\n",
       "    .dataframe thead th {\n",
       "        text-align: right;\n",
       "    }\n",
       "</style>\n",
       "<table border=\"1\" class=\"dataframe\">\n",
       "  <thead>\n",
       "    <tr style=\"text-align: right;\">\n",
       "      <th></th>\n",
       "      <th>id</th>\n",
       "      <th>time</th>\n",
       "      <th>duration</th>\n",
       "      <th>feature_0</th>\n",
       "      <th>checkpoint</th>\n",
       "      <th>feature_1</th>\n",
       "      <th>feature_2</th>\n",
       "      <th>feature_3</th>\n",
       "      <th>feature_4</th>\n",
       "      <th>feature_5</th>\n",
       "      <th>...</th>\n",
       "      <th>feature_27</th>\n",
       "      <th>feature_28</th>\n",
       "      <th>feature_29</th>\n",
       "      <th>feature_30</th>\n",
       "      <th>feature_31</th>\n",
       "      <th>feature_32</th>\n",
       "      <th>feature_33</th>\n",
       "      <th>feature_34</th>\n",
       "      <th>feature_35</th>\n",
       "      <th>feature_36</th>\n",
       "    </tr>\n",
       "  </thead>\n",
       "  <tbody>\n",
       "    <tr>\n",
       "      <th>0</th>\n",
       "      <td>2183e7e6f5901c2fe2bc14ca6d43a6fa</td>\n",
       "      <td>6 years</td>\n",
       "      <td>36 months</td>\n",
       "      <td>0.0</td>\n",
       "      <td>22th week</td>\n",
       "      <td>CA</td>\n",
       "      <td>42000.0</td>\n",
       "      <td>INDIVIDUAL</td>\n",
       "      <td></td>\n",
       "      <td>0.0</td>\n",
       "      <td>...</td>\n",
       "      <td>79.4</td>\n",
       "      <td>C4</td>\n",
       "      <td>Credit card refinancing</td>\n",
       "      <td>0.0</td>\n",
       "      <td>16261.0</td>\n",
       "      <td>548.59</td>\n",
       "      <td>0.0</td>\n",
       "      <td>20000.0</td>\n",
       "      <td>Not Verified</td>\n",
       "      <td>900xx</td>\n",
       "    </tr>\n",
       "    <tr>\n",
       "      <th>1</th>\n",
       "      <td>a495f8f7ec5a034c6db1405b40c7f473</td>\n",
       "      <td>5 years</td>\n",
       "      <td>36 months</td>\n",
       "      <td>0.0</td>\n",
       "      <td>48th week</td>\n",
       "      <td>WI</td>\n",
       "      <td>52000.0</td>\n",
       "      <td>INDIVIDUAL</td>\n",
       "      <td>BAT4729018</td>\n",
       "      <td>0.0</td>\n",
       "      <td>...</td>\n",
       "      <td>27.5</td>\n",
       "      <td>A2</td>\n",
       "      <td>Credit card refinancing</td>\n",
       "      <td>0.0</td>\n",
       "      <td>124771.0</td>\n",
       "      <td>988.83</td>\n",
       "      <td>0.0</td>\n",
       "      <td>78000.0</td>\n",
       "      <td>Not Verified</td>\n",
       "      <td>549xx</td>\n",
       "    </tr>\n",
       "    <tr>\n",
       "      <th>2</th>\n",
       "      <td>c57ccaed44245b3b7eaa76c5ec99a0ea</td>\n",
       "      <td>10+ years</td>\n",
       "      <td>36 months</td>\n",
       "      <td>0.0</td>\n",
       "      <td>35th week</td>\n",
       "      <td>NY</td>\n",
       "      <td>125000.0</td>\n",
       "      <td>INDIVIDUAL</td>\n",
       "      <td>BAT1184694</td>\n",
       "      <td>0.0</td>\n",
       "      <td>...</td>\n",
       "      <td>51.6</td>\n",
       "      <td>A5</td>\n",
       "      <td>Debt consolidation</td>\n",
       "      <td>0.0</td>\n",
       "      <td>409247.0</td>\n",
       "      <td>1177.84</td>\n",
       "      <td>0.0</td>\n",
       "      <td>68500.0</td>\n",
       "      <td>Source Verified</td>\n",
       "      <td>111xx</td>\n",
       "    </tr>\n",
       "    <tr>\n",
       "      <th>3</th>\n",
       "      <td>f19d65cf813f5ddbdefa6075278c1d41</td>\n",
       "      <td>1 year</td>\n",
       "      <td>36 months</td>\n",
       "      <td>0.0</td>\n",
       "      <td>9th week</td>\n",
       "      <td>OH</td>\n",
       "      <td>81832.0</td>\n",
       "      <td>INDIVIDUAL</td>\n",
       "      <td></td>\n",
       "      <td>0.0</td>\n",
       "      <td>...</td>\n",
       "      <td>40.9</td>\n",
       "      <td>B5</td>\n",
       "      <td>Debt consolidation</td>\n",
       "      <td>109.0</td>\n",
       "      <td>476699.0</td>\n",
       "      <td>211.79</td>\n",
       "      <td>0.0</td>\n",
       "      <td>62200.0</td>\n",
       "      <td>Source Verified</td>\n",
       "      <td>430xx</td>\n",
       "    </tr>\n",
       "    <tr>\n",
       "      <th>4</th>\n",
       "      <td>5aaec38f837a17c42fab041c2c6b5a4f</td>\n",
       "      <td>10+ years</td>\n",
       "      <td>36 months</td>\n",
       "      <td>0.0</td>\n",
       "      <td>31th week</td>\n",
       "      <td>PA</td>\n",
       "      <td>95000.0</td>\n",
       "      <td>INDIVIDUAL</td>\n",
       "      <td>BAT422167</td>\n",
       "      <td>0.0</td>\n",
       "      <td>...</td>\n",
       "      <td>34.7</td>\n",
       "      <td>B2</td>\n",
       "      <td>Debt consolidation</td>\n",
       "      <td>0.0</td>\n",
       "      <td>126652.0</td>\n",
       "      <td>1471.29</td>\n",
       "      <td>0.0</td>\n",
       "      <td>100000.0</td>\n",
       "      <td>Source Verified</td>\n",
       "      <td>190xx</td>\n",
       "    </tr>\n",
       "    <tr>\n",
       "      <th>...</th>\n",
       "      <td>...</td>\n",
       "      <td>...</td>\n",
       "      <td>...</td>\n",
       "      <td>...</td>\n",
       "      <td>...</td>\n",
       "      <td>...</td>\n",
       "      <td>...</td>\n",
       "      <td>...</td>\n",
       "      <td>...</td>\n",
       "      <td>...</td>\n",
       "      <td>...</td>\n",
       "      <td>...</td>\n",
       "      <td>...</td>\n",
       "      <td>...</td>\n",
       "      <td>...</td>\n",
       "      <td>...</td>\n",
       "      <td>...</td>\n",
       "      <td>...</td>\n",
       "      <td>...</td>\n",
       "      <td>...</td>\n",
       "      <td>...</td>\n",
       "    </tr>\n",
       "    <tr>\n",
       "      <th>225632</th>\n",
       "      <td>c2d12c317da392b4c805a5267accf5bf</td>\n",
       "      <td>10+ years</td>\n",
       "      <td>60 months</td>\n",
       "      <td>0.0</td>\n",
       "      <td>65th week</td>\n",
       "      <td>CA</td>\n",
       "      <td>56000.0</td>\n",
       "      <td>INDIVIDUAL</td>\n",
       "      <td>BAT2078974</td>\n",
       "      <td>0.0</td>\n",
       "      <td>...</td>\n",
       "      <td>60.7</td>\n",
       "      <td>E4</td>\n",
       "      <td>Credit card refinancing</td>\n",
       "      <td>413.0</td>\n",
       "      <td>19180.0</td>\n",
       "      <td>4868.41</td>\n",
       "      <td>0.0</td>\n",
       "      <td>31100.0</td>\n",
       "      <td>Source Verified</td>\n",
       "      <td>957xx</td>\n",
       "    </tr>\n",
       "    <tr>\n",
       "      <th>225633</th>\n",
       "      <td>ce24f3311881d184c48c4ed2d7be96c1</td>\n",
       "      <td>NaN</td>\n",
       "      <td>36 months</td>\n",
       "      <td>0.0</td>\n",
       "      <td>NAth week</td>\n",
       "      <td>CT</td>\n",
       "      <td>34068.0</td>\n",
       "      <td>INDIVIDUAL</td>\n",
       "      <td>BAT6004464</td>\n",
       "      <td>0.0</td>\n",
       "      <td>...</td>\n",
       "      <td>10.4</td>\n",
       "      <td>A1</td>\n",
       "      <td>Credit card refinancing</td>\n",
       "      <td>0.0</td>\n",
       "      <td>145777.0</td>\n",
       "      <td>0.00</td>\n",
       "      <td>0.0</td>\n",
       "      <td>66400.0</td>\n",
       "      <td>Not Verified</td>\n",
       "      <td>060xx</td>\n",
       "    </tr>\n",
       "    <tr>\n",
       "      <th>225634</th>\n",
       "      <td>11b58c759028d0b32695224533b47e5b</td>\n",
       "      <td>2 years</td>\n",
       "      <td>36 months</td>\n",
       "      <td>0.0</td>\n",
       "      <td>9th week</td>\n",
       "      <td>NY</td>\n",
       "      <td>145000.0</td>\n",
       "      <td>INDIVIDUAL</td>\n",
       "      <td>NaN</td>\n",
       "      <td>0.0</td>\n",
       "      <td>...</td>\n",
       "      <td>35.4</td>\n",
       "      <td>A2</td>\n",
       "      <td>Credit card refinancing</td>\n",
       "      <td>0.0</td>\n",
       "      <td>27182.0</td>\n",
       "      <td>158.74</td>\n",
       "      <td>0.0</td>\n",
       "      <td>31200.0</td>\n",
       "      <td>Source Verified</td>\n",
       "      <td>112xx</td>\n",
       "    </tr>\n",
       "    <tr>\n",
       "      <th>225635</th>\n",
       "      <td>d1cff3f77d9bce11001f3c7a93a9a2c2</td>\n",
       "      <td>10+ years</td>\n",
       "      <td>60 months</td>\n",
       "      <td>0.0</td>\n",
       "      <td>83th week</td>\n",
       "      <td>LA</td>\n",
       "      <td>42000.0</td>\n",
       "      <td>INDIVIDUAL</td>\n",
       "      <td></td>\n",
       "      <td>0.0</td>\n",
       "      <td>...</td>\n",
       "      <td>30.4</td>\n",
       "      <td>F2</td>\n",
       "      <td>Home improvement</td>\n",
       "      <td>0.0</td>\n",
       "      <td>100717.0</td>\n",
       "      <td>5821.35</td>\n",
       "      <td>0.0</td>\n",
       "      <td>20000.0</td>\n",
       "      <td>Source Verified</td>\n",
       "      <td>712xx</td>\n",
       "    </tr>\n",
       "    <tr>\n",
       "      <th>225636</th>\n",
       "      <td>914ec7ff363841226bd69e9c256f3554</td>\n",
       "      <td>5 years</td>\n",
       "      <td>60 months</td>\n",
       "      <td>0.0</td>\n",
       "      <td>35th week</td>\n",
       "      <td>CO</td>\n",
       "      <td>48000.0</td>\n",
       "      <td>INDIVIDUAL</td>\n",
       "      <td>BAT4217242</td>\n",
       "      <td>0.0</td>\n",
       "      <td>...</td>\n",
       "      <td>94.5</td>\n",
       "      <td>E3</td>\n",
       "      <td>Debt consolidation</td>\n",
       "      <td>0.0</td>\n",
       "      <td>124051.0</td>\n",
       "      <td>2234.18</td>\n",
       "      <td>0.0</td>\n",
       "      <td>24600.0</td>\n",
       "      <td>Source Verified</td>\n",
       "      <td>810xx</td>\n",
       "    </tr>\n",
       "  </tbody>\n",
       "</table>\n",
       "<p>225637 rows × 41 columns</p>\n",
       "</div>"
      ],
      "text/plain": [
       "                                      id       time   duration  feature_0  \\\n",
       "0       2183e7e6f5901c2fe2bc14ca6d43a6fa    6 years  36 months        0.0   \n",
       "1       a495f8f7ec5a034c6db1405b40c7f473    5 years  36 months        0.0   \n",
       "2       c57ccaed44245b3b7eaa76c5ec99a0ea  10+ years  36 months        0.0   \n",
       "3       f19d65cf813f5ddbdefa6075278c1d41     1 year  36 months        0.0   \n",
       "4       5aaec38f837a17c42fab041c2c6b5a4f  10+ years  36 months        0.0   \n",
       "...                                  ...        ...        ...        ...   \n",
       "225632  c2d12c317da392b4c805a5267accf5bf  10+ years  60 months        0.0   \n",
       "225633  ce24f3311881d184c48c4ed2d7be96c1        NaN  36 months        0.0   \n",
       "225634  11b58c759028d0b32695224533b47e5b    2 years  36 months        0.0   \n",
       "225635  d1cff3f77d9bce11001f3c7a93a9a2c2  10+ years  60 months        0.0   \n",
       "225636  914ec7ff363841226bd69e9c256f3554    5 years  60 months        0.0   \n",
       "\n",
       "       checkpoint feature_1  feature_2   feature_3   feature_4  feature_5  \\\n",
       "0       22th week        CA    42000.0  INDIVIDUAL                    0.0   \n",
       "1       48th week        WI    52000.0  INDIVIDUAL  BAT4729018        0.0   \n",
       "2       35th week        NY   125000.0  INDIVIDUAL  BAT1184694        0.0   \n",
       "3        9th week        OH    81832.0  INDIVIDUAL                    0.0   \n",
       "4       31th week        PA    95000.0  INDIVIDUAL   BAT422167        0.0   \n",
       "...           ...       ...        ...         ...         ...        ...   \n",
       "225632  65th week        CA    56000.0  INDIVIDUAL  BAT2078974        0.0   \n",
       "225633  NAth week        CT    34068.0  INDIVIDUAL  BAT6004464        0.0   \n",
       "225634   9th week        NY   145000.0  INDIVIDUAL         NaN        0.0   \n",
       "225635  83th week        LA    42000.0  INDIVIDUAL                    0.0   \n",
       "225636  35th week        CO    48000.0  INDIVIDUAL  BAT4217242        0.0   \n",
       "\n",
       "        ...  feature_27  feature_28               feature_29 feature_30  \\\n",
       "0       ...        79.4          C4  Credit card refinancing        0.0   \n",
       "1       ...        27.5          A2  Credit card refinancing        0.0   \n",
       "2       ...        51.6          A5       Debt consolidation        0.0   \n",
       "3       ...        40.9          B5       Debt consolidation      109.0   \n",
       "4       ...        34.7          B2       Debt consolidation        0.0   \n",
       "...     ...         ...         ...                      ...        ...   \n",
       "225632  ...        60.7          E4  Credit card refinancing      413.0   \n",
       "225633  ...        10.4          A1  Credit card refinancing        0.0   \n",
       "225634  ...        35.4          A2  Credit card refinancing        0.0   \n",
       "225635  ...        30.4          F2         Home improvement        0.0   \n",
       "225636  ...        94.5          E3       Debt consolidation        0.0   \n",
       "\n",
       "        feature_31  feature_32 feature_33 feature_34       feature_35  \\\n",
       "0          16261.0      548.59        0.0    20000.0     Not Verified   \n",
       "1         124771.0      988.83        0.0    78000.0     Not Verified   \n",
       "2         409247.0     1177.84        0.0    68500.0  Source Verified   \n",
       "3         476699.0      211.79        0.0    62200.0  Source Verified   \n",
       "4         126652.0     1471.29        0.0   100000.0  Source Verified   \n",
       "...            ...         ...        ...        ...              ...   \n",
       "225632     19180.0     4868.41        0.0    31100.0  Source Verified   \n",
       "225633    145777.0        0.00        0.0    66400.0     Not Verified   \n",
       "225634     27182.0      158.74        0.0    31200.0  Source Verified   \n",
       "225635    100717.0     5821.35        0.0    20000.0  Source Verified   \n",
       "225636    124051.0     2234.18        0.0    24600.0  Source Verified   \n",
       "\n",
       "        feature_36  \n",
       "0            900xx  \n",
       "1            549xx  \n",
       "2            111xx  \n",
       "3            430xx  \n",
       "4            190xx  \n",
       "...            ...  \n",
       "225632       957xx  \n",
       "225633       060xx  \n",
       "225634       112xx  \n",
       "225635       712xx  \n",
       "225636       810xx  \n",
       "\n",
       "[225637 rows x 41 columns]"
      ]
     },
     "execution_count": 8,
     "metadata": {},
     "output_type": "execute_result"
    }
   ],
   "source": [
    "test_df"
   ]
  },
  {
   "cell_type": "code",
   "execution_count": 9,
   "id": "d1fc7441",
   "metadata": {},
   "outputs": [
    {
     "name": "stdout",
     "output_type": "stream",
     "text": [
      "<class 'pandas.core.frame.DataFrame'>\n",
      "RangeIndex: 419040 entries, 0 to 419039\n",
      "Data columns (total 42 columns):\n",
      " #   Column      Non-Null Count   Dtype  \n",
      "---  ------      --------------   -----  \n",
      " 0   id          419040 non-null  object \n",
      " 1   time        397052 non-null  object \n",
      " 2   duration    419040 non-null  object \n",
      " 3   feature_0   419040 non-null  float64\n",
      " 4   checkpoint  419040 non-null  object \n",
      " 5   feature_1   419040 non-null  object \n",
      " 6   feature_2   419040 non-null  float64\n",
      " 7   feature_3   419040 non-null  object \n",
      " 8   feature_4   357082 non-null  object \n",
      " 9   feature_5   419040 non-null  float64\n",
      " 10  feature_6   419040 non-null  float64\n",
      " 11  feature_7   419040 non-null  float64\n",
      " 12  feature_8   419040 non-null  float64\n",
      " 13  feature_9   394776 non-null  object \n",
      " 14  feature_10  419040 non-null  int64  \n",
      " 15  feature_11  419040 non-null  float64\n",
      " 16  feature_12  419040 non-null  object \n",
      " 17  feature_13  419040 non-null  object \n",
      " 18  feature_14  419040 non-null  object \n",
      " 19  feature_15  419040 non-null  float64\n",
      " 20  feature_16  419040 non-null  float64\n",
      " 21  feature_17  419040 non-null  int64  \n",
      " 22  feature_18  419040 non-null  int64  \n",
      " 23  feature_19  209176 non-null  float64\n",
      " 24  feature_20  113450 non-null  float64\n",
      " 25  feature_21  68265 non-null   float64\n",
      " 26  feature_22  419040 non-null  float64\n",
      " 27  feature_23  419040 non-null  object \n",
      " 28  feature_24  419040 non-null  object \n",
      " 29  feature_25  419040 non-null  float64\n",
      " 30  feature_26  419040 non-null  float64\n",
      " 31  feature_27  418857 non-null  float64\n",
      " 32  feature_28  419040 non-null  object \n",
      " 33  feature_29  418974 non-null  object \n",
      " 34  feature_30  419040 non-null  float64\n",
      " 35  feature_31  419040 non-null  float64\n",
      " 36  feature_32  419040 non-null  float64\n",
      " 37  feature_33  419040 non-null  float64\n",
      " 38  feature_34  419040 non-null  float64\n",
      " 39  feature_35  419040 non-null  object \n",
      " 40  feature_36  419040 non-null  object \n",
      " 41  target      419040 non-null  float64\n",
      "dtypes: float64(22), int64(3), object(17)\n",
      "memory usage: 134.3+ MB\n"
     ]
    }
   ],
   "source": [
    "train_df.info()"
   ]
  },
  {
   "cell_type": "code",
   "execution_count": 10,
   "id": "6b8e3c6c",
   "metadata": {},
   "outputs": [
    {
     "data": {
      "text/plain": [
       "id                 0\n",
       "time           21988\n",
       "duration           0\n",
       "feature_0          0\n",
       "checkpoint         0\n",
       "feature_1          0\n",
       "feature_2          0\n",
       "feature_3          0\n",
       "feature_4      61958\n",
       "feature_5          0\n",
       "feature_6          0\n",
       "feature_7          0\n",
       "feature_8          0\n",
       "feature_9      24264\n",
       "feature_10         0\n",
       "feature_11         0\n",
       "feature_12         0\n",
       "feature_13         0\n",
       "feature_14         0\n",
       "feature_15         0\n",
       "feature_16         0\n",
       "feature_17         0\n",
       "feature_18         0\n",
       "feature_19    209864\n",
       "feature_20    305590\n",
       "feature_21    350775\n",
       "feature_22         0\n",
       "feature_23         0\n",
       "feature_24         0\n",
       "feature_25         0\n",
       "feature_26         0\n",
       "feature_27       183\n",
       "feature_28         0\n",
       "feature_29        66\n",
       "feature_30         0\n",
       "feature_31         0\n",
       "feature_32         0\n",
       "feature_33         0\n",
       "feature_34         0\n",
       "feature_35         0\n",
       "feature_36         0\n",
       "target             0\n",
       "dtype: int64"
      ]
     },
     "execution_count": 10,
     "metadata": {},
     "output_type": "execute_result"
    }
   ],
   "source": [
    "train_df.isna().sum()"
   ]
  },
  {
   "cell_type": "code",
   "execution_count": 11,
   "id": "0b8467c4",
   "metadata": {},
   "outputs": [
    {
     "data": {
      "text/plain": [
       "array([nan, '< 1 year', '5 years', '8 years', '3 years', '10+ years',\n",
       "       '1 year', '2 years', '9 years', '7 years', '4 years', '6 years'],\n",
       "      dtype=object)"
      ]
     },
     "execution_count": 11,
     "metadata": {},
     "output_type": "execute_result"
    }
   ],
   "source": [
    "train_df[\"time\"].unique()"
   ]
  },
  {
   "cell_type": "code",
   "execution_count": 12,
   "id": "8d0a886b",
   "metadata": {},
   "outputs": [
    {
     "name": "stdout",
     "output_type": "stream",
     "text": [
      "time 0.0525% missing values\n",
      "feature_4 0.1479% missing values\n",
      "feature_9 0.0579% missing values\n",
      "feature_19 0.5008% missing values\n",
      "feature_20 0.7293% missing values\n",
      "feature_21 0.8371% missing values\n",
      "feature_27 0.0004% missing values\n",
      "feature_29 0.0002% missing values\n"
     ]
    }
   ],
   "source": [
    "features_with_na=[features for features in train_df.columns if train_df[features].isnull().sum()>1]\n",
    "## 2- step print the feature name and the percentage of missing values\n",
    "\n",
    "for feature in features_with_na:\n",
    "    print('{} {}% missing values'.format(feature, np.round(train_df[feature].isnull().mean(), 4)))"
   ]
  },
  {
   "cell_type": "code",
   "execution_count": 13,
   "id": "f159facf",
   "metadata": {},
   "outputs": [
    {
     "name": "stdout",
     "output_type": "stream",
     "text": [
      "time 0.0522% missing values\n",
      "feature_4 0.147% missing values\n",
      "feature_9 0.0575% missing values\n",
      "feature_19 0.5004% missing values\n",
      "feature_20 0.7274% missing values\n",
      "feature_21 0.8383% missing values\n",
      "feature_27 0.0005% missing values\n",
      "feature_29 0.0002% missing values\n"
     ]
    }
   ],
   "source": [
    "features_with_na=[features for features in test_df.columns if test_df[features].isnull().sum()>1]\n",
    "## 2- step print the feature name and the percentage of missing values\n",
    "\n",
    "for feature in features_with_na:\n",
    "    print('{} {}% missing values'.format(feature, np.round(test_df[feature].isnull().mean(), 4)))"
   ]
  },
  {
   "cell_type": "code",
   "execution_count": 14,
   "id": "219d038a",
   "metadata": {},
   "outputs": [
    {
     "data": {
      "text/html": [
       "<div>\n",
       "<style scoped>\n",
       "    .dataframe tbody tr th:only-of-type {\n",
       "        vertical-align: middle;\n",
       "    }\n",
       "\n",
       "    .dataframe tbody tr th {\n",
       "        vertical-align: top;\n",
       "    }\n",
       "\n",
       "    .dataframe thead th {\n",
       "        text-align: right;\n",
       "    }\n",
       "</style>\n",
       "<table border=\"1\" class=\"dataframe\">\n",
       "  <thead>\n",
       "    <tr style=\"text-align: right;\">\n",
       "      <th></th>\n",
       "      <th>feature_23</th>\n",
       "      <th>target</th>\n",
       "    </tr>\n",
       "  </thead>\n",
       "  <tbody>\n",
       "    <tr>\n",
       "      <th>0</th>\n",
       "      <td>debt_consolidation</td>\n",
       "      <td>28.0</td>\n",
       "    </tr>\n",
       "    <tr>\n",
       "      <th>1</th>\n",
       "      <td>small_business</td>\n",
       "      <td>39.0</td>\n",
       "    </tr>\n",
       "    <tr>\n",
       "      <th>2</th>\n",
       "      <td>debt_consolidation</td>\n",
       "      <td>29.0</td>\n",
       "    </tr>\n",
       "    <tr>\n",
       "      <th>3</th>\n",
       "      <td>credit_card</td>\n",
       "      <td>15.0</td>\n",
       "    </tr>\n",
       "    <tr>\n",
       "      <th>4</th>\n",
       "      <td>debt_consolidation</td>\n",
       "      <td>18.0</td>\n",
       "    </tr>\n",
       "    <tr>\n",
       "      <th>...</th>\n",
       "      <td>...</td>\n",
       "      <td>...</td>\n",
       "    </tr>\n",
       "    <tr>\n",
       "      <th>419035</th>\n",
       "      <td>debt_consolidation</td>\n",
       "      <td>27.0</td>\n",
       "    </tr>\n",
       "    <tr>\n",
       "      <th>419036</th>\n",
       "      <td>credit_card</td>\n",
       "      <td>27.0</td>\n",
       "    </tr>\n",
       "    <tr>\n",
       "      <th>419037</th>\n",
       "      <td>credit_card</td>\n",
       "      <td>46.0</td>\n",
       "    </tr>\n",
       "    <tr>\n",
       "      <th>419038</th>\n",
       "      <td>debt_consolidation</td>\n",
       "      <td>13.0</td>\n",
       "    </tr>\n",
       "    <tr>\n",
       "      <th>419039</th>\n",
       "      <td>debt_consolidation</td>\n",
       "      <td>20.0</td>\n",
       "    </tr>\n",
       "  </tbody>\n",
       "</table>\n",
       "<p>419040 rows × 2 columns</p>\n",
       "</div>"
      ],
      "text/plain": [
       "                feature_23  target\n",
       "0       debt_consolidation    28.0\n",
       "1           small_business    39.0\n",
       "2       debt_consolidation    29.0\n",
       "3              credit_card    15.0\n",
       "4       debt_consolidation    18.0\n",
       "...                    ...     ...\n",
       "419035  debt_consolidation    27.0\n",
       "419036         credit_card    27.0\n",
       "419037         credit_card    46.0\n",
       "419038  debt_consolidation    13.0\n",
       "419039  debt_consolidation    20.0\n",
       "\n",
       "[419040 rows x 2 columns]"
      ]
     },
     "execution_count": 14,
     "metadata": {},
     "output_type": "execute_result"
    }
   ],
   "source": [
    "train_df[['feature_23', 'target']]"
   ]
  },
  {
   "cell_type": "code",
   "execution_count": 15,
   "id": "bcd42da8",
   "metadata": {},
   "outputs": [],
   "source": [
    "train_df[\"time\"].fillna(train_df[\"time\"].mode().values[0], inplace=True)"
   ]
  },
  {
   "cell_type": "code",
   "execution_count": 16,
   "id": "b77bf186",
   "metadata": {
    "scrolled": true
   },
   "outputs": [],
   "source": [
    "train_df.drop(\"feature_21\", axis=1, inplace=True)"
   ]
  },
  {
   "cell_type": "code",
   "execution_count": 17,
   "id": "7c214699",
   "metadata": {},
   "outputs": [],
   "source": [
    "train_df[\"feature_9\"].fillna(train_df[\"feature_9\"].mode().values[0], inplace=True)"
   ]
  },
  {
   "cell_type": "code",
   "execution_count": 18,
   "id": "0c4f35b7",
   "metadata": {},
   "outputs": [],
   "source": [
    "train_df[\"feature_19\"].fillna(train_df[\"feature_19\"].median(), inplace=True)"
   ]
  },
  {
   "cell_type": "code",
   "execution_count": 19,
   "id": "ce05757a",
   "metadata": {},
   "outputs": [],
   "source": [
    "train_df[\"feature_20\"].fillna(train_df[\"feature_20\"].median(), inplace=True)"
   ]
  },
  {
   "cell_type": "code",
   "execution_count": 20,
   "id": "70d1313c",
   "metadata": {},
   "outputs": [],
   "source": [
    "train_df.drop(\"feature_4\", axis=1, inplace=True)"
   ]
  },
  {
   "cell_type": "code",
   "execution_count": 21,
   "id": "e32984a4",
   "metadata": {},
   "outputs": [],
   "source": [
    "train_df[\"feature_27\"].fillna(train_df[\"feature_27\"].median(), inplace=True)"
   ]
  },
  {
   "cell_type": "code",
   "execution_count": 22,
   "id": "e3fca7cb",
   "metadata": {},
   "outputs": [],
   "source": [
    "train_df[\"feature_29\"].fillna(train_df[\"feature_29\"].mode().values[0], inplace=True)"
   ]
  },
  {
   "cell_type": "code",
   "execution_count": 23,
   "id": "fbec04a2",
   "metadata": {},
   "outputs": [
    {
     "data": {
      "text/plain": [
       "id            0\n",
       "time          0\n",
       "duration      0\n",
       "feature_0     0\n",
       "checkpoint    0\n",
       "feature_1     0\n",
       "feature_2     0\n",
       "feature_3     0\n",
       "feature_5     0\n",
       "feature_6     0\n",
       "feature_7     0\n",
       "feature_8     0\n",
       "feature_9     0\n",
       "feature_10    0\n",
       "feature_11    0\n",
       "feature_12    0\n",
       "feature_13    0\n",
       "feature_14    0\n",
       "feature_15    0\n",
       "feature_16    0\n",
       "feature_17    0\n",
       "feature_18    0\n",
       "feature_19    0\n",
       "feature_20    0\n",
       "feature_22    0\n",
       "feature_23    0\n",
       "feature_24    0\n",
       "feature_25    0\n",
       "feature_26    0\n",
       "feature_27    0\n",
       "feature_28    0\n",
       "feature_29    0\n",
       "feature_30    0\n",
       "feature_31    0\n",
       "feature_32    0\n",
       "feature_33    0\n",
       "feature_34    0\n",
       "feature_35    0\n",
       "feature_36    0\n",
       "target        0\n",
       "dtype: int64"
      ]
     },
     "execution_count": 23,
     "metadata": {},
     "output_type": "execute_result"
    }
   ],
   "source": [
    "train_df.isna().sum()"
   ]
  },
  {
   "cell_type": "code",
   "execution_count": 24,
   "id": "6450e297",
   "metadata": {},
   "outputs": [
    {
     "data": {
      "text/plain": [
       "id                 0\n",
       "time           11783\n",
       "duration           0\n",
       "feature_0          0\n",
       "checkpoint         0\n",
       "feature_1          0\n",
       "feature_2          0\n",
       "feature_3          0\n",
       "feature_4      33172\n",
       "feature_5          0\n",
       "feature_6          0\n",
       "feature_7          0\n",
       "feature_8          0\n",
       "feature_9      12976\n",
       "feature_10         0\n",
       "feature_11         0\n",
       "feature_12         0\n",
       "feature_13         0\n",
       "feature_14         0\n",
       "feature_15         0\n",
       "feature_16         0\n",
       "feature_17         0\n",
       "feature_18         0\n",
       "feature_19    112903\n",
       "feature_20    164128\n",
       "feature_21    189150\n",
       "feature_22         0\n",
       "feature_23         0\n",
       "feature_24         0\n",
       "feature_25         0\n",
       "feature_26         0\n",
       "feature_27       120\n",
       "feature_28         0\n",
       "feature_29        43\n",
       "feature_30         0\n",
       "feature_31         0\n",
       "feature_32         0\n",
       "feature_33         0\n",
       "feature_34         0\n",
       "feature_35         0\n",
       "feature_36         0\n",
       "dtype: int64"
      ]
     },
     "execution_count": 24,
     "metadata": {},
     "output_type": "execute_result"
    }
   ],
   "source": [
    "test_df.isna().sum()"
   ]
  },
  {
   "cell_type": "code",
   "execution_count": 25,
   "id": "5a1f0774",
   "metadata": {},
   "outputs": [],
   "source": [
    "test_df[\"time\"].fillna(test_df[\"time\"].mode().values[0], inplace=True)"
   ]
  },
  {
   "cell_type": "code",
   "execution_count": 26,
   "id": "f5cc234c",
   "metadata": {},
   "outputs": [],
   "source": [
    "test_df.drop(columns=[\"feature_4\", \"feature_21\"], axis=1, inplace=True)"
   ]
  },
  {
   "cell_type": "code",
   "execution_count": 27,
   "id": "d193f7a6",
   "metadata": {},
   "outputs": [],
   "source": [
    "test_df[\"feature_9\"].fillna(test_df[\"feature_9\"].mode().values[0], inplace=True)"
   ]
  },
  {
   "cell_type": "code",
   "execution_count": 28,
   "id": "ffbaa4dc",
   "metadata": {},
   "outputs": [],
   "source": [
    "test_df[\"feature_19\"].fillna(test_df[\"feature_19\"].median(), inplace=True)"
   ]
  },
  {
   "cell_type": "code",
   "execution_count": 29,
   "id": "81ad98ed",
   "metadata": {},
   "outputs": [],
   "source": [
    "test_df[\"feature_20\"].fillna(test_df[\"feature_20\"].median(), inplace=True)"
   ]
  },
  {
   "cell_type": "code",
   "execution_count": 30,
   "id": "efaee696",
   "metadata": {},
   "outputs": [],
   "source": [
    "test_df[\"feature_27\"].fillna(test_df[\"feature_27\"].median(), inplace=True)"
   ]
  },
  {
   "cell_type": "code",
   "execution_count": 31,
   "id": "acd4872b",
   "metadata": {},
   "outputs": [],
   "source": [
    "test_df[\"feature_29\"].fillna(test_df[\"feature_29\"].mode().values[0], inplace=True)"
   ]
  },
  {
   "cell_type": "code",
   "execution_count": 32,
   "id": "6964841e",
   "metadata": {},
   "outputs": [
    {
     "data": {
      "text/plain": [
       "id            0\n",
       "time          0\n",
       "duration      0\n",
       "feature_0     0\n",
       "checkpoint    0\n",
       "feature_1     0\n",
       "feature_2     0\n",
       "feature_3     0\n",
       "feature_5     0\n",
       "feature_6     0\n",
       "feature_7     0\n",
       "feature_8     0\n",
       "feature_9     0\n",
       "feature_10    0\n",
       "feature_11    0\n",
       "feature_12    0\n",
       "feature_13    0\n",
       "feature_14    0\n",
       "feature_15    0\n",
       "feature_16    0\n",
       "feature_17    0\n",
       "feature_18    0\n",
       "feature_19    0\n",
       "feature_20    0\n",
       "feature_22    0\n",
       "feature_23    0\n",
       "feature_24    0\n",
       "feature_25    0\n",
       "feature_26    0\n",
       "feature_27    0\n",
       "feature_28    0\n",
       "feature_29    0\n",
       "feature_30    0\n",
       "feature_31    0\n",
       "feature_32    0\n",
       "feature_33    0\n",
       "feature_34    0\n",
       "feature_35    0\n",
       "feature_36    0\n",
       "dtype: int64"
      ]
     },
     "execution_count": 32,
     "metadata": {},
     "output_type": "execute_result"
    }
   ],
   "source": [
    "test_df.isna().sum()"
   ]
  },
  {
   "cell_type": "code",
   "execution_count": 33,
   "id": "df07d629",
   "metadata": {},
   "outputs": [
    {
     "data": {
      "text/plain": [
       "(419040, 40)"
      ]
     },
     "execution_count": 33,
     "metadata": {},
     "output_type": "execute_result"
    }
   ],
   "source": [
    "train_df.shape"
   ]
  },
  {
   "cell_type": "code",
   "execution_count": 34,
   "id": "0063e927",
   "metadata": {},
   "outputs": [
    {
     "data": {
      "text/plain": [
       "(225637, 39)"
      ]
     },
     "execution_count": 34,
     "metadata": {},
     "output_type": "execute_result"
    }
   ],
   "source": [
    "test_df.shape"
   ]
  },
  {
   "cell_type": "code",
   "execution_count": 35,
   "id": "886e6fc3",
   "metadata": {},
   "outputs": [],
   "source": [
    "df_train = train_df.copy()\n",
    "df_test = test_df.copy()"
   ]
  },
  {
   "cell_type": "code",
   "execution_count": 36,
   "id": "9d6b33f3",
   "metadata": {},
   "outputs": [
    {
     "data": {
      "text/plain": [
       "['feature_24',\n",
       " 'feature_1',\n",
       " 'feature_12',\n",
       " 'checkpoint',\n",
       " 'feature_23',\n",
       " 'feature_14',\n",
       " 'feature_9',\n",
       " 'feature_36',\n",
       " 'feature_29',\n",
       " 'feature_35',\n",
       " 'feature_3',\n",
       " 'feature_28',\n",
       " 'time',\n",
       " 'feature_13',\n",
       " 'id',\n",
       " 'duration']"
      ]
     },
     "execution_count": 36,
     "metadata": {},
     "output_type": "execute_result"
    }
   ],
   "source": [
    "cols_train = df_train.columns\n",
    "num_cols_train = df_train._get_numeric_data().columns\n",
    "cat_cols_train = list(set(cols_train) - set(num_cols_train))\n",
    "cat_cols_train"
   ]
  },
  {
   "cell_type": "code",
   "execution_count": 37,
   "id": "cc6ff7b1",
   "metadata": {},
   "outputs": [
    {
     "data": {
      "text/plain": [
       "['feature_24',\n",
       " 'feature_1',\n",
       " 'feature_12',\n",
       " 'checkpoint',\n",
       " 'feature_23',\n",
       " 'feature_14',\n",
       " 'feature_9',\n",
       " 'feature_36',\n",
       " 'feature_29',\n",
       " 'feature_35',\n",
       " 'feature_3',\n",
       " 'feature_28',\n",
       " 'time',\n",
       " 'feature_13',\n",
       " 'id',\n",
       " 'duration']"
      ]
     },
     "execution_count": 37,
     "metadata": {},
     "output_type": "execute_result"
    }
   ],
   "source": [
    "cols_test = df_test.columns\n",
    "num_cols_test = df_test._get_numeric_data().columns\n",
    "cat_cols_test = list(set(cols_test) - set(num_cols_test))\n",
    "cat_cols_test"
   ]
  },
  {
   "cell_type": "code",
   "execution_count": 38,
   "id": "dbb8d43b",
   "metadata": {},
   "outputs": [],
   "source": [
    "num_features=['feature_10', 'feature_11', 'feature_17']\n",
    "\n",
    "for feature in num_features:\n",
    "    df_train[feature]=np.log(df_train[feature])\n",
    "    df_test[feature]=np.log(df_test[feature])"
   ]
  },
  {
   "cell_type": "code",
   "execution_count": 39,
   "id": "b4ffc238",
   "metadata": {},
   "outputs": [
    {
     "data": {
      "text/html": [
       "<div>\n",
       "<style scoped>\n",
       "    .dataframe tbody tr th:only-of-type {\n",
       "        vertical-align: middle;\n",
       "    }\n",
       "\n",
       "    .dataframe tbody tr th {\n",
       "        vertical-align: top;\n",
       "    }\n",
       "\n",
       "    .dataframe thead th {\n",
       "        text-align: right;\n",
       "    }\n",
       "</style>\n",
       "<table border=\"1\" class=\"dataframe\">\n",
       "  <thead>\n",
       "    <tr style=\"text-align: right;\">\n",
       "      <th></th>\n",
       "      <th>id</th>\n",
       "      <th>time</th>\n",
       "      <th>duration</th>\n",
       "      <th>feature_0</th>\n",
       "      <th>checkpoint</th>\n",
       "      <th>feature_1</th>\n",
       "      <th>feature_2</th>\n",
       "      <th>feature_3</th>\n",
       "      <th>feature_5</th>\n",
       "      <th>feature_6</th>\n",
       "      <th>...</th>\n",
       "      <th>feature_28</th>\n",
       "      <th>feature_29</th>\n",
       "      <th>feature_30</th>\n",
       "      <th>feature_31</th>\n",
       "      <th>feature_32</th>\n",
       "      <th>feature_33</th>\n",
       "      <th>feature_34</th>\n",
       "      <th>feature_35</th>\n",
       "      <th>feature_36</th>\n",
       "      <th>target</th>\n",
       "    </tr>\n",
       "  </thead>\n",
       "  <tbody>\n",
       "    <tr>\n",
       "      <th>0</th>\n",
       "      <td>eac9059b997a667954a1c2f19079c463</td>\n",
       "      <td>10+ years</td>\n",
       "      <td>36 months</td>\n",
       "      <td>0.0</td>\n",
       "      <td>91th week</td>\n",
       "      <td>UT</td>\n",
       "      <td>130000.0</td>\n",
       "      <td>INDIVIDUAL</td>\n",
       "      <td>0.0</td>\n",
       "      <td>0.0</td>\n",
       "      <td>...</td>\n",
       "      <td>D2</td>\n",
       "      <td>Debt consolidation</td>\n",
       "      <td>0.0</td>\n",
       "      <td>39779.0</td>\n",
       "      <td>5701.17</td>\n",
       "      <td>0.0</td>\n",
       "      <td>37400.0</td>\n",
       "      <td>Source Verified</td>\n",
       "      <td>841xx</td>\n",
       "      <td>28.0</td>\n",
       "    </tr>\n",
       "    <tr>\n",
       "      <th>1</th>\n",
       "      <td>f2bdbfe82b2a63a35726cb1a630af56a</td>\n",
       "      <td>10+ years</td>\n",
       "      <td>36 months</td>\n",
       "      <td>0.0</td>\n",
       "      <td>4th week</td>\n",
       "      <td>LA</td>\n",
       "      <td>50000.0</td>\n",
       "      <td>INDIVIDUAL</td>\n",
       "      <td>0.0</td>\n",
       "      <td>0.0</td>\n",
       "      <td>...</td>\n",
       "      <td>D2</td>\n",
       "      <td>Business</td>\n",
       "      <td>138.0</td>\n",
       "      <td>115674.0</td>\n",
       "      <td>11.84</td>\n",
       "      <td>0.0</td>\n",
       "      <td>49000.0</td>\n",
       "      <td>Verified</td>\n",
       "      <td>701xx</td>\n",
       "      <td>39.0</td>\n",
       "    </tr>\n",
       "    <tr>\n",
       "      <th>2</th>\n",
       "      <td>0a73ee5d7841b012f1fb62542d7664c7</td>\n",
       "      <td>10+ years</td>\n",
       "      <td>36 months</td>\n",
       "      <td>0.0</td>\n",
       "      <td>65th week</td>\n",
       "      <td>VA</td>\n",
       "      <td>40000.0</td>\n",
       "      <td>INDIVIDUAL</td>\n",
       "      <td>0.0</td>\n",
       "      <td>0.0</td>\n",
       "      <td>...</td>\n",
       "      <td>C1</td>\n",
       "      <td>Debt consolidation</td>\n",
       "      <td>0.0</td>\n",
       "      <td>40075.0</td>\n",
       "      <td>1689.09</td>\n",
       "      <td>0.0</td>\n",
       "      <td>17600.0</td>\n",
       "      <td>Verified</td>\n",
       "      <td>241xx</td>\n",
       "      <td>29.0</td>\n",
       "    </tr>\n",
       "    <tr>\n",
       "      <th>3</th>\n",
       "      <td>d9a39c969e294fe16601279e114fc9c0</td>\n",
       "      <td>&lt; 1 year</td>\n",
       "      <td>60 months</td>\n",
       "      <td>0.0</td>\n",
       "      <td>9th week</td>\n",
       "      <td>MI</td>\n",
       "      <td>50000.0</td>\n",
       "      <td>INDIVIDUAL</td>\n",
       "      <td>0.0</td>\n",
       "      <td>0.0</td>\n",
       "      <td>...</td>\n",
       "      <td>F2</td>\n",
       "      <td>Credit card refinancing</td>\n",
       "      <td>0.0</td>\n",
       "      <td>20459.0</td>\n",
       "      <td>348.68</td>\n",
       "      <td>0.0</td>\n",
       "      <td>20100.0</td>\n",
       "      <td>Source Verified</td>\n",
       "      <td>480xx</td>\n",
       "      <td>15.0</td>\n",
       "    </tr>\n",
       "    <tr>\n",
       "      <th>4</th>\n",
       "      <td>3a44d3ab14792dcc7aaf391db0bdb72c</td>\n",
       "      <td>5 years</td>\n",
       "      <td>36 months</td>\n",
       "      <td>0.0</td>\n",
       "      <td>139th week</td>\n",
       "      <td>NC</td>\n",
       "      <td>45000.0</td>\n",
       "      <td>INDIVIDUAL</td>\n",
       "      <td>0.0</td>\n",
       "      <td>0.0</td>\n",
       "      <td>...</td>\n",
       "      <td>B5</td>\n",
       "      <td>debt consolidation</td>\n",
       "      <td>0.0</td>\n",
       "      <td>100987.0</td>\n",
       "      <td>2164.96</td>\n",
       "      <td>0.0</td>\n",
       "      <td>15000.0</td>\n",
       "      <td>Verified</td>\n",
       "      <td>282xx</td>\n",
       "      <td>18.0</td>\n",
       "    </tr>\n",
       "  </tbody>\n",
       "</table>\n",
       "<p>5 rows × 40 columns</p>\n",
       "</div>"
      ],
      "text/plain": [
       "                                 id       time   duration  feature_0  \\\n",
       "0  eac9059b997a667954a1c2f19079c463  10+ years  36 months        0.0   \n",
       "1  f2bdbfe82b2a63a35726cb1a630af56a  10+ years  36 months        0.0   \n",
       "2  0a73ee5d7841b012f1fb62542d7664c7  10+ years  36 months        0.0   \n",
       "3  d9a39c969e294fe16601279e114fc9c0   < 1 year  60 months        0.0   \n",
       "4  3a44d3ab14792dcc7aaf391db0bdb72c    5 years  36 months        0.0   \n",
       "\n",
       "   checkpoint feature_1  feature_2   feature_3  feature_5  feature_6  ...  \\\n",
       "0   91th week        UT   130000.0  INDIVIDUAL        0.0        0.0  ...   \n",
       "1    4th week        LA    50000.0  INDIVIDUAL        0.0        0.0  ...   \n",
       "2   65th week        VA    40000.0  INDIVIDUAL        0.0        0.0  ...   \n",
       "3    9th week        MI    50000.0  INDIVIDUAL        0.0        0.0  ...   \n",
       "4  139th week        NC    45000.0  INDIVIDUAL        0.0        0.0  ...   \n",
       "\n",
       "   feature_28               feature_29 feature_30  feature_31  feature_32  \\\n",
       "0          D2       Debt consolidation        0.0     39779.0     5701.17   \n",
       "1          D2                 Business      138.0    115674.0       11.84   \n",
       "2          C1       Debt consolidation        0.0     40075.0     1689.09   \n",
       "3          F2  Credit card refinancing        0.0     20459.0      348.68   \n",
       "4          B5       debt consolidation        0.0    100987.0     2164.96   \n",
       "\n",
       "  feature_33 feature_34       feature_35  feature_36  target  \n",
       "0        0.0    37400.0  Source Verified       841xx    28.0  \n",
       "1        0.0    49000.0         Verified       701xx    39.0  \n",
       "2        0.0    17600.0         Verified       241xx    29.0  \n",
       "3        0.0    20100.0  Source Verified       480xx    15.0  \n",
       "4        0.0    15000.0         Verified       282xx    18.0  \n",
       "\n",
       "[5 rows x 40 columns]"
      ]
     },
     "execution_count": 39,
     "metadata": {},
     "output_type": "execute_result"
    }
   ],
   "source": [
    "df_train.head()"
   ]
  },
  {
   "cell_type": "code",
   "execution_count": 40,
   "id": "36cf3388",
   "metadata": {},
   "outputs": [],
   "source": [
    "df_train.drop(\"feature_36\", axis=1, inplace=True)\n",
    "df_test.drop(\"feature_36\", axis=1, inplace=True)"
   ]
  },
  {
   "cell_type": "code",
   "execution_count": 41,
   "id": "7b94a545",
   "metadata": {},
   "outputs": [
    {
     "data": {
      "text/html": [
       "<div>\n",
       "<style scoped>\n",
       "    .dataframe tbody tr th:only-of-type {\n",
       "        vertical-align: middle;\n",
       "    }\n",
       "\n",
       "    .dataframe tbody tr th {\n",
       "        vertical-align: top;\n",
       "    }\n",
       "\n",
       "    .dataframe thead th {\n",
       "        text-align: right;\n",
       "    }\n",
       "</style>\n",
       "<table border=\"1\" class=\"dataframe\">\n",
       "  <thead>\n",
       "    <tr style=\"text-align: right;\">\n",
       "      <th></th>\n",
       "      <th>feature_24</th>\n",
       "      <th>feature_28</th>\n",
       "      <th>feature_29</th>\n",
       "      <th>target</th>\n",
       "    </tr>\n",
       "  </thead>\n",
       "  <tbody>\n",
       "    <tr>\n",
       "      <th>0</th>\n",
       "      <td>n</td>\n",
       "      <td>D2</td>\n",
       "      <td>Debt consolidation</td>\n",
       "      <td>28.0</td>\n",
       "    </tr>\n",
       "    <tr>\n",
       "      <th>1</th>\n",
       "      <td>n</td>\n",
       "      <td>D2</td>\n",
       "      <td>Business</td>\n",
       "      <td>39.0</td>\n",
       "    </tr>\n",
       "    <tr>\n",
       "      <th>2</th>\n",
       "      <td>n</td>\n",
       "      <td>C1</td>\n",
       "      <td>Debt consolidation</td>\n",
       "      <td>29.0</td>\n",
       "    </tr>\n",
       "    <tr>\n",
       "      <th>3</th>\n",
       "      <td>n</td>\n",
       "      <td>F2</td>\n",
       "      <td>Credit card refinancing</td>\n",
       "      <td>15.0</td>\n",
       "    </tr>\n",
       "    <tr>\n",
       "      <th>4</th>\n",
       "      <td>n</td>\n",
       "      <td>B5</td>\n",
       "      <td>debt consolidation</td>\n",
       "      <td>18.0</td>\n",
       "    </tr>\n",
       "    <tr>\n",
       "      <th>...</th>\n",
       "      <td>...</td>\n",
       "      <td>...</td>\n",
       "      <td>...</td>\n",
       "      <td>...</td>\n",
       "    </tr>\n",
       "    <tr>\n",
       "      <th>419035</th>\n",
       "      <td>n</td>\n",
       "      <td>E3</td>\n",
       "      <td>Debt consolidation</td>\n",
       "      <td>27.0</td>\n",
       "    </tr>\n",
       "    <tr>\n",
       "      <th>419036</th>\n",
       "      <td>n</td>\n",
       "      <td>B1</td>\n",
       "      <td>Credit card refinancing</td>\n",
       "      <td>27.0</td>\n",
       "    </tr>\n",
       "    <tr>\n",
       "      <th>419037</th>\n",
       "      <td>n</td>\n",
       "      <td>C2</td>\n",
       "      <td>Credit card refinancing</td>\n",
       "      <td>46.0</td>\n",
       "    </tr>\n",
       "    <tr>\n",
       "      <th>419038</th>\n",
       "      <td>n</td>\n",
       "      <td>A4</td>\n",
       "      <td>Debt consolidation</td>\n",
       "      <td>13.0</td>\n",
       "    </tr>\n",
       "    <tr>\n",
       "      <th>419039</th>\n",
       "      <td>n</td>\n",
       "      <td>E4</td>\n",
       "      <td>Debt consolidation</td>\n",
       "      <td>20.0</td>\n",
       "    </tr>\n",
       "  </tbody>\n",
       "</table>\n",
       "<p>419040 rows × 4 columns</p>\n",
       "</div>"
      ],
      "text/plain": [
       "       feature_24 feature_28               feature_29  target\n",
       "0               n         D2       Debt consolidation    28.0\n",
       "1               n         D2                 Business    39.0\n",
       "2               n         C1       Debt consolidation    29.0\n",
       "3               n         F2  Credit card refinancing    15.0\n",
       "4               n         B5       debt consolidation    18.0\n",
       "...           ...        ...                      ...     ...\n",
       "419035          n         E3       Debt consolidation    27.0\n",
       "419036          n         B1  Credit card refinancing    27.0\n",
       "419037          n         C2  Credit card refinancing    46.0\n",
       "419038          n         A4       Debt consolidation    13.0\n",
       "419039          n         E4       Debt consolidation    20.0\n",
       "\n",
       "[419040 rows x 4 columns]"
      ]
     },
     "execution_count": 41,
     "metadata": {},
     "output_type": "execute_result"
    }
   ],
   "source": [
    "df_train[[\"feature_24\", \"feature_28\", \"feature_29\", \"target\"]]"
   ]
  },
  {
   "cell_type": "code",
   "execution_count": 42,
   "id": "f57a858b",
   "metadata": {},
   "outputs": [
    {
     "data": {
      "text/plain": [
       "['feature_24',\n",
       " 'feature_1',\n",
       " 'feature_12',\n",
       " 'checkpoint',\n",
       " 'feature_23',\n",
       " 'feature_14',\n",
       " 'feature_9',\n",
       " 'feature_36',\n",
       " 'feature_29',\n",
       " 'feature_35',\n",
       " 'feature_3',\n",
       " 'feature_28',\n",
       " 'time',\n",
       " 'feature_13',\n",
       " 'duration']"
      ]
     },
     "execution_count": 42,
     "metadata": {},
     "output_type": "execute_result"
    }
   ],
   "source": [
    "cat_cols_train.remove(\"id\")\n",
    "cat_cols_train"
   ]
  },
  {
   "cell_type": "code",
   "execution_count": 43,
   "id": "ef2f62d8",
   "metadata": {},
   "outputs": [
    {
     "data": {
      "text/plain": [
       "['feature_24',\n",
       " 'feature_1',\n",
       " 'feature_12',\n",
       " 'checkpoint',\n",
       " 'feature_23',\n",
       " 'feature_14',\n",
       " 'feature_9',\n",
       " 'feature_36',\n",
       " 'feature_29',\n",
       " 'feature_35',\n",
       " 'feature_3',\n",
       " 'feature_28',\n",
       " 'time',\n",
       " 'feature_13',\n",
       " 'duration']"
      ]
     },
     "execution_count": 43,
     "metadata": {},
     "output_type": "execute_result"
    }
   ],
   "source": [
    "cat_cols_test.remove(\"id\")\n",
    "cat_cols_test"
   ]
  },
  {
   "cell_type": "code",
   "execution_count": 44,
   "id": "5a20d9f2",
   "metadata": {},
   "outputs": [],
   "source": [
    "df_train.drop(columns=[\"feature_24\", \"feature_28\"], inplace = True)\n",
    "df_test.drop(columns=[\"feature_24\", \"feature_28\"], inplace = True)"
   ]
  },
  {
   "cell_type": "code",
   "execution_count": 45,
   "id": "dd7509a5",
   "metadata": {},
   "outputs": [
    {
     "data": {
      "text/html": [
       "<div>\n",
       "<style scoped>\n",
       "    .dataframe tbody tr th:only-of-type {\n",
       "        vertical-align: middle;\n",
       "    }\n",
       "\n",
       "    .dataframe tbody tr th {\n",
       "        vertical-align: top;\n",
       "    }\n",
       "\n",
       "    .dataframe thead th {\n",
       "        text-align: right;\n",
       "    }\n",
       "</style>\n",
       "<table border=\"1\" class=\"dataframe\">\n",
       "  <thead>\n",
       "    <tr style=\"text-align: right;\">\n",
       "      <th></th>\n",
       "      <th>feature_35</th>\n",
       "      <th>feature_23</th>\n",
       "      <th>target</th>\n",
       "    </tr>\n",
       "  </thead>\n",
       "  <tbody>\n",
       "    <tr>\n",
       "      <th>0</th>\n",
       "      <td>Source Verified</td>\n",
       "      <td>debt_consolidation</td>\n",
       "      <td>28.0</td>\n",
       "    </tr>\n",
       "    <tr>\n",
       "      <th>1</th>\n",
       "      <td>Verified</td>\n",
       "      <td>small_business</td>\n",
       "      <td>39.0</td>\n",
       "    </tr>\n",
       "    <tr>\n",
       "      <th>2</th>\n",
       "      <td>Verified</td>\n",
       "      <td>debt_consolidation</td>\n",
       "      <td>29.0</td>\n",
       "    </tr>\n",
       "    <tr>\n",
       "      <th>3</th>\n",
       "      <td>Source Verified</td>\n",
       "      <td>credit_card</td>\n",
       "      <td>15.0</td>\n",
       "    </tr>\n",
       "    <tr>\n",
       "      <th>4</th>\n",
       "      <td>Verified</td>\n",
       "      <td>debt_consolidation</td>\n",
       "      <td>18.0</td>\n",
       "    </tr>\n",
       "    <tr>\n",
       "      <th>...</th>\n",
       "      <td>...</td>\n",
       "      <td>...</td>\n",
       "      <td>...</td>\n",
       "    </tr>\n",
       "    <tr>\n",
       "      <th>419035</th>\n",
       "      <td>Verified</td>\n",
       "      <td>debt_consolidation</td>\n",
       "      <td>27.0</td>\n",
       "    </tr>\n",
       "    <tr>\n",
       "      <th>419036</th>\n",
       "      <td>Not Verified</td>\n",
       "      <td>credit_card</td>\n",
       "      <td>27.0</td>\n",
       "    </tr>\n",
       "    <tr>\n",
       "      <th>419037</th>\n",
       "      <td>Source Verified</td>\n",
       "      <td>credit_card</td>\n",
       "      <td>46.0</td>\n",
       "    </tr>\n",
       "    <tr>\n",
       "      <th>419038</th>\n",
       "      <td>Source Verified</td>\n",
       "      <td>debt_consolidation</td>\n",
       "      <td>13.0</td>\n",
       "    </tr>\n",
       "    <tr>\n",
       "      <th>419039</th>\n",
       "      <td>Source Verified</td>\n",
       "      <td>debt_consolidation</td>\n",
       "      <td>20.0</td>\n",
       "    </tr>\n",
       "  </tbody>\n",
       "</table>\n",
       "<p>419040 rows × 3 columns</p>\n",
       "</div>"
      ],
      "text/plain": [
       "             feature_35          feature_23  target\n",
       "0       Source Verified  debt_consolidation    28.0\n",
       "1              Verified      small_business    39.0\n",
       "2              Verified  debt_consolidation    29.0\n",
       "3       Source Verified         credit_card    15.0\n",
       "4              Verified  debt_consolidation    18.0\n",
       "...                 ...                 ...     ...\n",
       "419035         Verified  debt_consolidation    27.0\n",
       "419036     Not Verified         credit_card    27.0\n",
       "419037  Source Verified         credit_card    46.0\n",
       "419038  Source Verified  debt_consolidation    13.0\n",
       "419039  Source Verified  debt_consolidation    20.0\n",
       "\n",
       "[419040 rows x 3 columns]"
      ]
     },
     "execution_count": 45,
     "metadata": {},
     "output_type": "execute_result"
    }
   ],
   "source": [
    "df_train[[\"feature_35\",\"feature_23\", \"target\"]]"
   ]
  },
  {
   "cell_type": "code",
   "execution_count": 46,
   "id": "e6fbf08b",
   "metadata": {},
   "outputs": [
    {
     "data": {
      "text/html": [
       "<div>\n",
       "<style scoped>\n",
       "    .dataframe tbody tr th:only-of-type {\n",
       "        vertical-align: middle;\n",
       "    }\n",
       "\n",
       "    .dataframe tbody tr th {\n",
       "        vertical-align: top;\n",
       "    }\n",
       "\n",
       "    .dataframe thead th {\n",
       "        text-align: right;\n",
       "    }\n",
       "</style>\n",
       "<table border=\"1\" class=\"dataframe\">\n",
       "  <thead>\n",
       "    <tr style=\"text-align: right;\">\n",
       "      <th></th>\n",
       "      <th>feature_9</th>\n",
       "      <th>feature_10</th>\n",
       "      <th>feature_12</th>\n",
       "      <th>feature_14</th>\n",
       "    </tr>\n",
       "  </thead>\n",
       "  <tbody>\n",
       "    <tr>\n",
       "      <th>0</th>\n",
       "      <td>Teacher</td>\n",
       "      <td>10.126631</td>\n",
       "      <td>D</td>\n",
       "      <td>w</td>\n",
       "    </tr>\n",
       "    <tr>\n",
       "      <th>1</th>\n",
       "      <td>Teacher</td>\n",
       "      <td>8.517193</td>\n",
       "      <td>D</td>\n",
       "      <td>f</td>\n",
       "    </tr>\n",
       "    <tr>\n",
       "      <th>2</th>\n",
       "      <td>Teacher</td>\n",
       "      <td>9.433484</td>\n",
       "      <td>C</td>\n",
       "      <td>f</td>\n",
       "    </tr>\n",
       "    <tr>\n",
       "      <th>3</th>\n",
       "      <td>Sales Rep</td>\n",
       "      <td>9.952278</td>\n",
       "      <td>F</td>\n",
       "      <td>f</td>\n",
       "    </tr>\n",
       "    <tr>\n",
       "      <th>4</th>\n",
       "      <td>advance auto parts</td>\n",
       "      <td>9.159047</td>\n",
       "      <td>B</td>\n",
       "      <td>f</td>\n",
       "    </tr>\n",
       "    <tr>\n",
       "      <th>...</th>\n",
       "      <td>...</td>\n",
       "      <td>...</td>\n",
       "      <td>...</td>\n",
       "      <td>...</td>\n",
       "    </tr>\n",
       "    <tr>\n",
       "      <th>419035</th>\n",
       "      <td>Sr. Engineering Technician</td>\n",
       "      <td>10.066881</td>\n",
       "      <td>E</td>\n",
       "      <td>w</td>\n",
       "    </tr>\n",
       "    <tr>\n",
       "      <th>419036</th>\n",
       "      <td>Agent</td>\n",
       "      <td>8.699515</td>\n",
       "      <td>B</td>\n",
       "      <td>f</td>\n",
       "    </tr>\n",
       "    <tr>\n",
       "      <th>419037</th>\n",
       "      <td>Department of Homeland Security</td>\n",
       "      <td>10.463103</td>\n",
       "      <td>C</td>\n",
       "      <td>f</td>\n",
       "    </tr>\n",
       "    <tr>\n",
       "      <th>419038</th>\n",
       "      <td>Sales Manager</td>\n",
       "      <td>9.210340</td>\n",
       "      <td>A</td>\n",
       "      <td>w</td>\n",
       "    </tr>\n",
       "    <tr>\n",
       "      <th>419039</th>\n",
       "      <td>Fingerprint Technician</td>\n",
       "      <td>9.841612</td>\n",
       "      <td>E</td>\n",
       "      <td>w</td>\n",
       "    </tr>\n",
       "  </tbody>\n",
       "</table>\n",
       "<p>419040 rows × 4 columns</p>\n",
       "</div>"
      ],
      "text/plain": [
       "                              feature_9  feature_10 feature_12 feature_14\n",
       "0                               Teacher   10.126631          D          w\n",
       "1                               Teacher    8.517193          D          f\n",
       "2                               Teacher    9.433484          C          f\n",
       "3                             Sales Rep    9.952278          F          f\n",
       "4                    advance auto parts    9.159047          B          f\n",
       "...                                 ...         ...        ...        ...\n",
       "419035       Sr. Engineering Technician   10.066881          E          w\n",
       "419036                            Agent    8.699515          B          f\n",
       "419037  Department of Homeland Security   10.463103          C          f\n",
       "419038                    Sales Manager    9.210340          A          w\n",
       "419039           Fingerprint Technician    9.841612          E          w\n",
       "\n",
       "[419040 rows x 4 columns]"
      ]
     },
     "execution_count": 46,
     "metadata": {},
     "output_type": "execute_result"
    }
   ],
   "source": [
    "df_train[[\"feature_9\",\"feature_10\", \"feature_12\", \"feature_14\"]]"
   ]
  },
  {
   "cell_type": "code",
   "execution_count": 47,
   "id": "706c239b",
   "metadata": {},
   "outputs": [],
   "source": [
    "# df_train.drop(columns=[\"feature_23\", \"feature_36\"], inplace = True)\n",
    "# df_test.drop(columns=[\"feature_23\", \"feature_36\"], inplace = True)"
   ]
  },
  {
   "cell_type": "code",
   "execution_count": 48,
   "id": "01511488",
   "metadata": {},
   "outputs": [],
   "source": [
    "# df_train.drop(columns=[\"feature_35\"], inplace = True)\n",
    "# df_test.drop(columns=[\"feature_35\"], inplace = True)"
   ]
  },
  {
   "cell_type": "code",
   "execution_count": 49,
   "id": "1b18f172",
   "metadata": {},
   "outputs": [
    {
     "data": {
      "text/plain": [
       "Index(['id', 'time', 'duration', 'feature_0', 'checkpoint', 'feature_1',\n",
       "       'feature_2', 'feature_3', 'feature_5', 'feature_6', 'feature_7',\n",
       "       'feature_8', 'feature_9', 'feature_10', 'feature_11', 'feature_12',\n",
       "       'feature_13', 'feature_14', 'feature_15', 'feature_16', 'feature_17',\n",
       "       'feature_18', 'feature_19', 'feature_20', 'feature_22', 'feature_23',\n",
       "       'feature_25', 'feature_26', 'feature_27', 'feature_29', 'feature_30',\n",
       "       'feature_31', 'feature_32', 'feature_33', 'feature_34', 'feature_35',\n",
       "       'target'],\n",
       "      dtype='object')"
      ]
     },
     "execution_count": 49,
     "metadata": {},
     "output_type": "execute_result"
    }
   ],
   "source": [
    "df_train.columns"
   ]
  },
  {
   "cell_type": "code",
   "execution_count": 50,
   "id": "d445076a",
   "metadata": {},
   "outputs": [
    {
     "name": "stderr",
     "output_type": "stream",
     "text": [
      "C:\\Users\\lenovo\\AppData\\Local\\Temp\\ipykernel_19556\\2362695749.py:2: FutureWarning: The default value of numeric_only in DataFrame.corr is deprecated. In a future version, it will default to False. Select only valid columns or specify the value of numeric_only to silence this warning.\n",
      "  heatmap = sns.heatmap(df_train.corr(), annot = True, cmap=\"coolwarm\" )\n"
     ]
    },
    {
     "data": {
      "image/png": "[encoded data removed]",
      "text/plain": [
       "<Figure size 2000x1500 with 2 Axes>"
      ]
     },
     "metadata": {},
     "output_type": "display_data"
    }
   ],
   "source": [
    "plt.figure(figsize=(20, 15))\n",
    "heatmap = sns.heatmap(df_train.corr(), annot = True, cmap=\"coolwarm\" )\n",
    "plt.show()"
   ]
  },
  {
   "cell_type": "code",
   "execution_count": 50,
   "id": "00bf6a77",
   "metadata": {},
   "outputs": [],
   "source": [
    "# cols_train = df_train.columns.tolist()\n",
    "# cols_test = df_test.columns.tolist()\n",
    "# cols_train"
   ]
  },
  {
   "cell_type": "code",
   "execution_count": 51,
   "id": "4f504cf1",
   "metadata": {},
   "outputs": [],
   "source": [
    "# cols_train = cols_train[1:]\n",
    "# cols_test = cols_test[1:]"
   ]
  },
  {
   "cell_type": "code",
   "execution_count": null,
   "id": "705a0686",
   "metadata": {},
   "outputs": [],
   "source": [
    "# ids_train = df_train[\"id\"]\n",
    "# target = df_train[\"target\"]\n",
    "# df_train.drop(columns=[\"id\", \"target\"], inplace = True)"
   ]
  },
  {
   "cell_type": "code",
   "execution_count": null,
   "id": "46aea1a6",
   "metadata": {},
   "outputs": [],
   "source": [
    "# ids_test = df_test[\"id\"]\n",
    "# df_test.drop(columns=[\"id\"], inplace = True)"
   ]
  },
  {
   "cell_type": "code",
   "execution_count": null,
   "id": "8c5de486",
   "metadata": {},
   "outputs": [],
   "source": [
    "# combined_df = pd.concat([df_train, df_test], axis=0)"
   ]
  },
  {
   "cell_type": "code",
   "execution_count": null,
   "id": "e30bd548",
   "metadata": {},
   "outputs": [],
   "source": [
    "#combined_df.drop(columns=[\"feature_9\"], inplace = True)"
   ]
  },
  {
   "cell_type": "code",
   "execution_count": null,
   "id": "f8701518",
   "metadata": {},
   "outputs": [],
   "source": [
    "#combined_df.drop(columns=[\"feature_10\"], inplace = True)"
   ]
  },
  {
   "cell_type": "code",
   "execution_count": null,
   "id": "cce27f90",
   "metadata": {},
   "outputs": [],
   "source": [
    "#combined_df.drop(columns=[\"feature_12\"], inplace = True)"
   ]
  },
  {
   "cell_type": "code",
   "execution_count": null,
   "id": "488bff17",
   "metadata": {},
   "outputs": [],
   "source": [
    "#combined_df.drop(columns=[\"feature_14\"], inplace = True)"
   ]
  },
  {
   "cell_type": "code",
   "execution_count": null,
   "id": "593a276e",
   "metadata": {},
   "outputs": [],
   "source": [
    "# combined_df.columns"
   ]
  },
  {
   "cell_type": "code",
   "execution_count": null,
   "id": "7455033f",
   "metadata": {},
   "outputs": [],
   "source": [
    "# cols = combined_df.columns\n",
    "# num_cols = combined_df._get_numeric_data().columns\n",
    "# cat_cols = list(set(cols) - set(num_cols))\n",
    "# cat_cols"
   ]
  },
  {
   "cell_type": "code",
   "execution_count": null,
   "id": "844ed476",
   "metadata": {},
   "outputs": [],
   "source": [
    "# for col in cat_cols:\n",
    "#     print(\"{}:{}\".format(col,combined_df[col].unique()))\n",
    "#     print()"
   ]
  },
  {
   "cell_type": "code",
   "execution_count": null,
   "id": "6d849325",
   "metadata": {},
   "outputs": [],
   "source": [
    "# combined_df.drop(columns=[\"checkpoint\"], inplace = True)"
   ]
  },
  {
   "cell_type": "code",
   "execution_count": null,
   "id": "404b0017",
   "metadata": {},
   "outputs": [],
   "source": [
    "# from sklearn.preprocessing import StandardScaler\n",
    "\n",
    "# scaler = StandardScaler()\n",
    "\n",
    "# df_stand = combined_df.copy()\n",
    "\n",
    "# for i in num_cols:\n",
    "    \n",
    "#     # fit on training data column\n",
    "#     scale = StandardScaler().fit(df_stand[[i]])\n",
    "    \n",
    "#     # transform the training data column\n",
    "#     df_stand[i] = scale.transform(df_stand[[i]])\n",
    "    \n",
    "    "
   ]
  },
  {
   "cell_type": "code",
   "execution_count": null,
   "id": "0f651e54",
   "metadata": {},
   "outputs": [],
   "source": [
    "# df_combined_dummies = pd.get_dummies(df_stand, drop_first=True)"
   ]
  },
  {
   "cell_type": "code",
   "execution_count": null,
   "id": "e50428e0",
   "metadata": {},
   "outputs": [],
   "source": [
    "# df_combined_dummies.shape"
   ]
  },
  {
   "cell_type": "code",
   "execution_count": null,
   "id": "15d72050",
   "metadata": {},
   "outputs": [],
   "source": [
    "# df_combined_dummies.head()"
   ]
  },
  {
   "cell_type": "code",
   "execution_count": null,
   "id": "2ec39efb",
   "metadata": {},
   "outputs": [],
   "source": [
    "# dfTrain = df_combined_dummies.iloc[:df_train.shape[0], :]"
   ]
  },
  {
   "cell_type": "code",
   "execution_count": null,
   "id": "35fd3c38",
   "metadata": {},
   "outputs": [],
   "source": [
    "# dfTest = df_combined_dummies.iloc[df_train.shape[0]:, :]"
   ]
  },
  {
   "cell_type": "code",
   "execution_count": null,
   "id": "431e9254",
   "metadata": {},
   "outputs": [],
   "source": [
    "# ids_train.shape"
   ]
  },
  {
   "cell_type": "code",
   "execution_count": null,
   "id": "104e76f1",
   "metadata": {},
   "outputs": [],
   "source": [
    "# dfTrain.shape"
   ]
  },
  {
   "cell_type": "code",
   "execution_count": null,
   "id": "c7b57c7c",
   "metadata": {},
   "outputs": [],
   "source": [
    "# dfTrain[\"feature_0\"].unique()"
   ]
  },
  {
   "cell_type": "code",
   "execution_count": null,
   "id": "2a31b8e5",
   "metadata": {},
   "outputs": [],
   "source": [
    "# dfTest[\"feature_0\"].unique()"
   ]
  },
  {
   "cell_type": "code",
   "execution_count": null,
   "id": "e12b0021",
   "metadata": {},
   "outputs": [],
   "source": [
    "# target.shape"
   ]
  },
  {
   "cell_type": "code",
   "execution_count": null,
   "id": "643c7180",
   "metadata": {},
   "outputs": [],
   "source": [
    "# dfTrain[\"id\"] = ids_train\n",
    "# dfTrain[\"target\"] = target\n",
    "# dfTest[\"id\"] = ids_test"
   ]
  },
  {
   "cell_type": "code",
   "execution_count": null,
   "id": "67f10894",
   "metadata": {},
   "outputs": [],
   "source": [
    "# dfTrain"
   ]
  },
  {
   "cell_type": "code",
   "execution_count": null,
   "id": "6b611dcd",
   "metadata": {},
   "outputs": [],
   "source": [
    "# dfTrain.isna().sum()"
   ]
  },
  {
   "cell_type": "code",
   "execution_count": null,
   "id": "c0dd683b",
   "metadata": {},
   "outputs": [],
   "source": [
    "# dfTrain.columns"
   ]
  },
  {
   "cell_type": "code",
   "execution_count": null,
   "id": "d70cea54",
   "metadata": {},
   "outputs": [],
   "source": [
    "# dfTest.isna().sum()"
   ]
  },
  {
   "cell_type": "code",
   "execution_count": null,
   "id": "3c0f7abe",
   "metadata": {},
   "outputs": [],
   "source": [
    "# y = dfTrain[\"target\"]"
   ]
  },
  {
   "cell_type": "code",
   "execution_count": null,
   "id": "fd62bf31",
   "metadata": {},
   "outputs": [],
   "source": [
    "# X = dfTrain.drop(columns=[\"id\",\"target\"])"
   ]
  },
  {
   "cell_type": "code",
   "execution_count": null,
   "id": "7db80042",
   "metadata": {},
   "outputs": [],
   "source": [
    "# X_test = dfTest.drop(columns=[\"id\"])"
   ]
  },
  {
   "cell_type": "code",
   "execution_count": null,
   "id": "61a6ff1a",
   "metadata": {},
   "outputs": [],
   "source": [
    "# X.columns"
   ]
  },
  {
   "cell_type": "code",
   "execution_count": null,
   "id": "0f29434b",
   "metadata": {},
   "outputs": [],
   "source": [
    "# from sklearn.ensemble import ExtraTreesRegressor\n",
    "# model = ExtraTreesRegressor()\n",
    "# model.fit(X,y)"
   ]
  },
  {
   "cell_type": "code",
   "execution_count": null,
   "id": "4b226753",
   "metadata": {},
   "outputs": [],
   "source": [
    "# print(model.feature_importances_)"
   ]
  },
  {
   "cell_type": "code",
   "execution_count": null,
   "id": "0b0db630",
   "metadata": {},
   "outputs": [],
   "source": [
    "# feat_importance = pd.Series(model.feature_importances_, index=X.columns)\n",
    "# feat_importance.nlargest(30).plot(kind=\"barh\")\n",
    "# plt.show()"
   ]
  },
  {
   "cell_type": "code",
   "execution_count": null,
   "id": "b701871b",
   "metadata": {},
   "outputs": [],
   "source": [
    "# top_30 = feat_importance.sort_values(ascending=False)[:30]"
   ]
  },
  {
   "cell_type": "code",
   "execution_count": null,
   "id": "9db228f9",
   "metadata": {},
   "outputs": [],
   "source": [
    "# Xtrain = pd.DataFrame()\n",
    "# Xtest = pd.DataFrame()\n",
    "# for col in top_30.index.tolist():\n",
    "#     Xtrain[col] = X[col]\n",
    "#     Xtest[col] = X_test[col]\n"
   ]
  },
  {
   "cell_type": "code",
   "execution_count": null,
   "id": "d6e0cd79",
   "metadata": {},
   "outputs": [],
   "source": [
    "# X = Xtrain"
   ]
  },
  {
   "cell_type": "code",
   "execution_count": null,
   "id": "8cd849cf",
   "metadata": {},
   "outputs": [],
   "source": [
    "# X.head()"
   ]
  },
  {
   "cell_type": "code",
   "execution_count": null,
   "id": "d7478a43",
   "metadata": {},
   "outputs": [],
   "source": [
    "# y.head()"
   ]
  },
  {
   "cell_type": "code",
   "execution_count": null,
   "id": "e5ece4d0",
   "metadata": {},
   "outputs": [],
   "source": [
    "# import statsmodels.api as sm\n",
    "\n",
    "# # adding the constant term\n",
    "# X = sm.add_constant(X)\n",
    "\n",
    "# result = sm.OLS(y, X).fit()"
   ]
  },
  {
   "cell_type": "code",
   "execution_count": null,
   "id": "94436af6",
   "metadata": {},
   "outputs": [],
   "source": [
    "# print(result.summary())"
   ]
  },
  {
   "cell_type": "code",
   "execution_count": null,
   "id": "62599d3b",
   "metadata": {},
   "outputs": [],
   "source": [
    "# X.drop(columns = [\"feature_11\", \"feature_17\", \"feature_32\", \"time_3 years\"], inplace = True)                                                                                                                                                                                                                \n",
    "# X.shape"
   ]
  },
  {
   "cell_type": "code",
   "execution_count": null,
   "id": "32e62cd0",
   "metadata": {},
   "outputs": [],
   "source": [
    "# X.head()"
   ]
  },
  {
   "cell_type": "code",
   "execution_count": null,
   "id": "0c90f1b1",
   "metadata": {},
   "outputs": [],
   "source": [
    "# X.shape"
   ]
  },
  {
   "cell_type": "code",
   "execution_count": null,
   "id": "9ae919d9",
   "metadata": {},
   "outputs": [],
   "source": [
    "# from sklearn.ensemble import RandomForestRegressor\n",
    "# rf = RandomForestRegressor(n_estimators=500, min_samples_split=500, min_samples_leaf=25, \n",
    "#                                   max_features='auto', max_depth=30, bootstrap=True, n_jobs=-1)"
   ]
  },
  {
   "cell_type": "code",
   "execution_count": null,
   "id": "4c95fa56",
   "metadata": {},
   "outputs": [],
   "source": [
    "# from pprint import pprint\n",
    "# from sklearn.model_selection import RandomizedSearchCV\n",
    "\n",
    "# # Number of trees in random forest\n",
    "# n_estimators = [300, 500, 700]\n",
    "# # Number of features to consider at every split\n",
    "# max_features = ['auto', 'sqrt']\n",
    "# # Maximum number of levels in tree\n",
    "# max_depth = [10, 30, 50]\n",
    "# max_depth.append(None)\n",
    "# # Minimum number of samples required to split a node\n",
    "# min_samples_split = [2]\n",
    "# # Minimum number of samples required at each leaf node\n",
    "# min_samples_leaf = [1, 2, 4]\n",
    "# # Method of selecting samples for training each tree\n",
    "# bootstrap = [True]\n",
    "# # Create the random grid\n",
    "# random_grid = {'n_estimators': n_estimators,\n",
    "#                'max_features': max_features,\n",
    "#                'max_depth': max_depth,\n",
    "#                'min_samples_split': min_samples_split,\n",
    "#                'min_samples_leaf': min_samples_leaf,\n",
    "#                'bootstrap': bootstrap}\n",
    "# pprint(random_grid)"
   ]
  },
  {
   "cell_type": "code",
   "execution_count": null,
   "id": "0e1232b2",
   "metadata": {},
   "outputs": [],
   "source": [
    "# from sklearn.model_selection import train_test_split\n",
    "# X_train, X_val, y_train, y_val = train_test_split(X, y, test_size=0.33, random_state=42)"
   ]
  },
  {
   "cell_type": "code",
   "execution_count": null,
   "id": "eddba4ff",
   "metadata": {},
   "outputs": [],
   "source": [
    "# # rf_random = RandomizedSearchCV(estimator = rf, \n",
    "# #                                param_distributions = random_grid, \n",
    "# #                                n_iter = 50, cv = 2, verbose=2, \n",
    "# #                                random_state=42, n_jobs = -1)\n",
    "# # # Fit the random search model\n",
    "# rf.fit(X_train, y_train)"
   ]
  },
  {
   "cell_type": "code",
   "execution_count": null,
   "id": "a69292fd",
   "metadata": {},
   "outputs": [],
   "source": [
    "# from sklearn.metrics import mean_squared_log_error\n",
    "\n",
    "# def evaluate(model, test_features, test_labels):\n",
    "#     predictions = model.predict(test_features)\n",
    "#     errors = abs(predictions - test_labels)\n",
    "#     mape = 100 * np.mean(errors / test_labels)\n",
    "#     accuracy = 100 - mape\n",
    "#     print('Model Performance')\n",
    "#     print('Mean Squared Log Error: {:0.4f}'.format(mean_squared_log_error(test_labels, predictions)))\n",
    "#     print('Accuracy = {:0.2f}%.'.format(accuracy))\n",
    "    \n",
    "#     return accuracy\n",
    "\n",
    "\n",
    "# random_accuracy = evaluate(rf, X_val, y_val)"
   ]
  },
  {
   "cell_type": "code",
   "execution_count": null,
   "id": "452bd004",
   "metadata": {},
   "outputs": [],
   "source": [
    "# X_train.columns"
   ]
  },
  {
   "cell_type": "code",
   "execution_count": null,
   "id": "8fc88dd2",
   "metadata": {},
   "outputs": [],
   "source": [
    "# Xtest.columns"
   ]
  },
  {
   "cell_type": "code",
   "execution_count": null,
   "id": "04d9bbac",
   "metadata": {},
   "outputs": [],
   "source": [
    "# Xtrain.columns"
   ]
  },
  {
   "cell_type": "code",
   "execution_count": null,
   "id": "66aeb208",
   "metadata": {},
   "outputs": [],
   "source": [
    "# Xtest = sm.add_constant(Xtest)"
   ]
  },
  {
   "cell_type": "code",
   "execution_count": null,
   "id": "d0ef5961",
   "metadata": {},
   "outputs": [],
   "source": [
    "# Xtest.drop(columns = [\"feature_11\", \"feature_17\", \"feature_32\", \"time_3 years\"], inplace = True)                                                                                                                                                                                                                \n",
    "# Xtest.shape"
   ]
  },
  {
   "cell_type": "code",
   "execution_count": null,
   "id": "0189232e",
   "metadata": {},
   "outputs": [],
   "source": [
    "# y_pred = rf.predict(Xtest)"
   ]
  },
  {
   "cell_type": "code",
   "execution_count": null,
   "id": "0f83d010",
   "metadata": {},
   "outputs": [],
   "source": [
    "# submission = pd.DataFrame({'id': ids_test.values, 'target': y_pred})"
   ]
  },
  {
   "cell_type": "code",
   "execution_count": null,
   "id": "59560ed0",
   "metadata": {},
   "outputs": [],
   "source": [
    "# submission.to_csv('submission.csv', index=False)"
   ]
  },
  {
   "cell_type": "code",
   "execution_count": null,
   "id": "37dbd513",
   "metadata": {},
   "outputs": [],
   "source": [
    "# submission"
   ]
  },
  {
   "cell_type": "code",
   "execution_count": null,
   "id": "c19cefab",
   "metadata": {},
   "outputs": [],
   "source": [
    "# predicted_value = rf.predict(X_val)\n",
    "# plt.figure(figsize=(10,10))\n",
    "# plt.scatter(y_val, predicted_value, c='crimson')\n",
    "\n",
    "# plt.xlabel('True Values', fontsize=15)\n",
    "# plt.ylabel('Predictions', fontsize=15)\n",
    "# plt.axis('equal')\n",
    "# plt.show()"
   ]
  },
  {
   "cell_type": "code",
   "execution_count": null,
   "id": "b248fa9f",
   "metadata": {},
   "outputs": [],
   "source": [
    "# train_df[\"feature_3\"].unique()"
   ]
  },
  {
   "cell_type": "code",
   "execution_count": null,
   "id": "03dd1c59",
   "metadata": {},
   "outputs": [],
   "source": []
  },
  {
   "cell_type": "code",
   "execution_count": null,
   "id": "a5c2ea32",
   "metadata": {},
   "outputs": [],
   "source": [
    "# train_df.columns;"
   ]
  },
  {
   "cell_type": "code",
   "execution_count": null,
   "id": "2b71f66a",
   "metadata": {},
   "outputs": [],
   "source": [
    "# evaluate(rf, X_train, y_train)"
   ]
  },
  {
   "cell_type": "code",
   "execution_count": null,
   "id": "065fa6de",
   "metadata": {},
   "outputs": [],
   "source": []
  },
  {
   "cell_type": "code",
   "execution_count": null,
   "id": "b6e1097f",
   "metadata": {},
   "outputs": [],
   "source": [
    "# df_train.head()"
   ]
  },
  {
   "cell_type": "code",
   "execution_count": null,
   "id": "e09b74bd",
   "metadata": {},
   "outputs": [],
   "source": [
    "# df_train.shape"
   ]
  },
  {
   "cell_type": "code",
   "execution_count": null,
   "id": "4cf6594d",
   "metadata": {},
   "outputs": [],
   "source": [
    "# import matplotlib.pyplot as plt\n",
    "# import seaborn as sns"
   ]
  },
  {
   "cell_type": "code",
   "execution_count": null,
   "id": "bb0d2530",
   "metadata": {},
   "outputs": [],
   "source": [
    "# plt.figure(figsize=(20, 15))\n",
    "# heatmap = sns.heatmap(train_df.corr(), annot = True, cmap=\"coolwarm\" )\n",
    "# plt.show()"
   ]
  },
  {
   "cell_type": "code",
   "execution_count": 51,
   "id": "d078e81f",
   "metadata": {},
   "outputs": [],
   "source": [
    "# train_df.corr()"
   ]
  },
  {
   "cell_type": "code",
   "execution_count": 52,
   "id": "3e53ad51",
   "metadata": {},
   "outputs": [
    {
     "data": {
      "text/plain": [
       "id            0\n",
       "time          0\n",
       "duration      0\n",
       "feature_0     0\n",
       "checkpoint    0\n",
       "feature_1     0\n",
       "feature_2     0\n",
       "feature_3     0\n",
       "feature_5     0\n",
       "feature_6     0\n",
       "feature_7     0\n",
       "feature_8     0\n",
       "feature_9     0\n",
       "feature_10    0\n",
       "feature_11    0\n",
       "feature_12    0\n",
       "feature_13    0\n",
       "feature_14    0\n",
       "feature_15    0\n",
       "feature_16    0\n",
       "feature_17    0\n",
       "feature_18    0\n",
       "feature_19    0\n",
       "feature_20    0\n",
       "feature_22    0\n",
       "feature_23    0\n",
       "feature_25    0\n",
       "feature_26    0\n",
       "feature_27    0\n",
       "feature_29    0\n",
       "feature_30    0\n",
       "feature_31    0\n",
       "feature_32    0\n",
       "feature_33    0\n",
       "feature_34    0\n",
       "feature_35    0\n",
       "target        0\n",
       "dtype: int64"
      ]
     },
     "execution_count": 52,
     "metadata": {},
     "output_type": "execute_result"
    }
   ],
   "source": [
    "df_train.isna().sum()"
   ]
  },
  {
   "cell_type": "code",
   "execution_count": 53,
   "id": "f77f4436",
   "metadata": {},
   "outputs": [
    {
     "data": {
      "text/plain": [
       "id            0\n",
       "time          0\n",
       "duration      0\n",
       "feature_0     0\n",
       "checkpoint    0\n",
       "feature_1     0\n",
       "feature_2     0\n",
       "feature_3     0\n",
       "feature_5     0\n",
       "feature_6     0\n",
       "feature_7     0\n",
       "feature_8     0\n",
       "feature_9     0\n",
       "feature_10    0\n",
       "feature_11    0\n",
       "feature_12    0\n",
       "feature_13    0\n",
       "feature_14    0\n",
       "feature_15    0\n",
       "feature_16    0\n",
       "feature_17    0\n",
       "feature_18    0\n",
       "feature_19    0\n",
       "feature_20    0\n",
       "feature_22    0\n",
       "feature_23    0\n",
       "feature_25    0\n",
       "feature_26    0\n",
       "feature_27    0\n",
       "feature_29    0\n",
       "feature_30    0\n",
       "feature_31    0\n",
       "feature_32    0\n",
       "feature_33    0\n",
       "feature_34    0\n",
       "feature_35    0\n",
       "dtype: int64"
      ]
     },
     "execution_count": 53,
     "metadata": {},
     "output_type": "execute_result"
    }
   ],
   "source": [
    "df_test.isna().sum()"
   ]
  },
  {
   "cell_type": "code",
   "execution_count": 54,
   "id": "2428ea5d",
   "metadata": {},
   "outputs": [
    {
     "data": {
      "text/plain": [
       "array(['Source Verified', 'Verified', 'Not Verified'], dtype=object)"
      ]
     },
     "execution_count": 54,
     "metadata": {},
     "output_type": "execute_result"
    }
   ],
   "source": [
    "df_train[\"feature_35\"].unique()"
   ]
  },
  {
   "cell_type": "code",
   "execution_count": 55,
   "id": "e3cb2022",
   "metadata": {},
   "outputs": [
    {
     "data": {
      "text/plain": [
       "(419040, 37)"
      ]
     },
     "execution_count": 55,
     "metadata": {},
     "output_type": "execute_result"
    }
   ],
   "source": [
    "df_train.shape"
   ]
  },
  {
   "cell_type": "code",
   "execution_count": 56,
   "id": "af971bb4",
   "metadata": {},
   "outputs": [
    {
     "data": {
      "text/html": [
       "<div>\n",
       "<style scoped>\n",
       "    .dataframe tbody tr th:only-of-type {\n",
       "        vertical-align: middle;\n",
       "    }\n",
       "\n",
       "    .dataframe tbody tr th {\n",
       "        vertical-align: top;\n",
       "    }\n",
       "\n",
       "    .dataframe thead th {\n",
       "        text-align: right;\n",
       "    }\n",
       "</style>\n",
       "<table border=\"1\" class=\"dataframe\">\n",
       "  <thead>\n",
       "    <tr style=\"text-align: right;\">\n",
       "      <th></th>\n",
       "      <th>id</th>\n",
       "      <th>time</th>\n",
       "      <th>duration</th>\n",
       "      <th>feature_0</th>\n",
       "      <th>checkpoint</th>\n",
       "      <th>feature_1</th>\n",
       "      <th>feature_2</th>\n",
       "      <th>feature_3</th>\n",
       "      <th>feature_5</th>\n",
       "      <th>feature_6</th>\n",
       "      <th>...</th>\n",
       "      <th>feature_26</th>\n",
       "      <th>feature_27</th>\n",
       "      <th>feature_29</th>\n",
       "      <th>feature_30</th>\n",
       "      <th>feature_31</th>\n",
       "      <th>feature_32</th>\n",
       "      <th>feature_33</th>\n",
       "      <th>feature_34</th>\n",
       "      <th>feature_35</th>\n",
       "      <th>target</th>\n",
       "    </tr>\n",
       "  </thead>\n",
       "  <tbody>\n",
       "    <tr>\n",
       "      <th>0</th>\n",
       "      <td>eac9059b997a667954a1c2f19079c463</td>\n",
       "      <td>10+ years</td>\n",
       "      <td>36 months</td>\n",
       "      <td>0.0</td>\n",
       "      <td>91th week</td>\n",
       "      <td>UT</td>\n",
       "      <td>130000.0</td>\n",
       "      <td>INDIVIDUAL</td>\n",
       "      <td>0.0</td>\n",
       "      <td>0.0</td>\n",
       "      <td>...</td>\n",
       "      <td>34018.0</td>\n",
       "      <td>91.0</td>\n",
       "      <td>Debt consolidation</td>\n",
       "      <td>0.0</td>\n",
       "      <td>39779.0</td>\n",
       "      <td>5701.17</td>\n",
       "      <td>0.0</td>\n",
       "      <td>37400.0</td>\n",
       "      <td>Source Verified</td>\n",
       "      <td>28.0</td>\n",
       "    </tr>\n",
       "    <tr>\n",
       "      <th>1</th>\n",
       "      <td>f2bdbfe82b2a63a35726cb1a630af56a</td>\n",
       "      <td>10+ years</td>\n",
       "      <td>36 months</td>\n",
       "      <td>0.0</td>\n",
       "      <td>4th week</td>\n",
       "      <td>LA</td>\n",
       "      <td>50000.0</td>\n",
       "      <td>INDIVIDUAL</td>\n",
       "      <td>0.0</td>\n",
       "      <td>0.0</td>\n",
       "      <td>...</td>\n",
       "      <td>24808.0</td>\n",
       "      <td>50.6</td>\n",
       "      <td>Business</td>\n",
       "      <td>138.0</td>\n",
       "      <td>115674.0</td>\n",
       "      <td>11.84</td>\n",
       "      <td>0.0</td>\n",
       "      <td>49000.0</td>\n",
       "      <td>Verified</td>\n",
       "      <td>39.0</td>\n",
       "    </tr>\n",
       "    <tr>\n",
       "      <th>2</th>\n",
       "      <td>0a73ee5d7841b012f1fb62542d7664c7</td>\n",
       "      <td>10+ years</td>\n",
       "      <td>36 months</td>\n",
       "      <td>0.0</td>\n",
       "      <td>65th week</td>\n",
       "      <td>VA</td>\n",
       "      <td>40000.0</td>\n",
       "      <td>INDIVIDUAL</td>\n",
       "      <td>0.0</td>\n",
       "      <td>0.0</td>\n",
       "      <td>...</td>\n",
       "      <td>12417.0</td>\n",
       "      <td>70.6</td>\n",
       "      <td>Debt consolidation</td>\n",
       "      <td>0.0</td>\n",
       "      <td>40075.0</td>\n",
       "      <td>1689.09</td>\n",
       "      <td>0.0</td>\n",
       "      <td>17600.0</td>\n",
       "      <td>Verified</td>\n",
       "      <td>29.0</td>\n",
       "    </tr>\n",
       "    <tr>\n",
       "      <th>3</th>\n",
       "      <td>d9a39c969e294fe16601279e114fc9c0</td>\n",
       "      <td>&lt; 1 year</td>\n",
       "      <td>60 months</td>\n",
       "      <td>0.0</td>\n",
       "      <td>9th week</td>\n",
       "      <td>MI</td>\n",
       "      <td>50000.0</td>\n",
       "      <td>INDIVIDUAL</td>\n",
       "      <td>0.0</td>\n",
       "      <td>0.0</td>\n",
       "      <td>...</td>\n",
       "      <td>2105.0</td>\n",
       "      <td>10.5</td>\n",
       "      <td>Credit card refinancing</td>\n",
       "      <td>0.0</td>\n",
       "      <td>20459.0</td>\n",
       "      <td>348.68</td>\n",
       "      <td>0.0</td>\n",
       "      <td>20100.0</td>\n",
       "      <td>Source Verified</td>\n",
       "      <td>15.0</td>\n",
       "    </tr>\n",
       "    <tr>\n",
       "      <th>4</th>\n",
       "      <td>3a44d3ab14792dcc7aaf391db0bdb72c</td>\n",
       "      <td>5 years</td>\n",
       "      <td>36 months</td>\n",
       "      <td>0.0</td>\n",
       "      <td>139th week</td>\n",
       "      <td>NC</td>\n",
       "      <td>45000.0</td>\n",
       "      <td>INDIVIDUAL</td>\n",
       "      <td>0.0</td>\n",
       "      <td>0.0</td>\n",
       "      <td>...</td>\n",
       "      <td>10917.0</td>\n",
       "      <td>72.8</td>\n",
       "      <td>debt consolidation</td>\n",
       "      <td>0.0</td>\n",
       "      <td>100987.0</td>\n",
       "      <td>2164.96</td>\n",
       "      <td>0.0</td>\n",
       "      <td>15000.0</td>\n",
       "      <td>Verified</td>\n",
       "      <td>18.0</td>\n",
       "    </tr>\n",
       "  </tbody>\n",
       "</table>\n",
       "<p>5 rows × 37 columns</p>\n",
       "</div>"
      ],
      "text/plain": [
       "                                 id       time   duration  feature_0  \\\n",
       "0  eac9059b997a667954a1c2f19079c463  10+ years  36 months        0.0   \n",
       "1  f2bdbfe82b2a63a35726cb1a630af56a  10+ years  36 months        0.0   \n",
       "2  0a73ee5d7841b012f1fb62542d7664c7  10+ years  36 months        0.0   \n",
       "3  d9a39c969e294fe16601279e114fc9c0   < 1 year  60 months        0.0   \n",
       "4  3a44d3ab14792dcc7aaf391db0bdb72c    5 years  36 months        0.0   \n",
       "\n",
       "   checkpoint feature_1  feature_2   feature_3  feature_5  feature_6  ...  \\\n",
       "0   91th week        UT   130000.0  INDIVIDUAL        0.0        0.0  ...   \n",
       "1    4th week        LA    50000.0  INDIVIDUAL        0.0        0.0  ...   \n",
       "2   65th week        VA    40000.0  INDIVIDUAL        0.0        0.0  ...   \n",
       "3    9th week        MI    50000.0  INDIVIDUAL        0.0        0.0  ...   \n",
       "4  139th week        NC    45000.0  INDIVIDUAL        0.0        0.0  ...   \n",
       "\n",
       "   feature_26  feature_27               feature_29  feature_30  feature_31  \\\n",
       "0     34018.0        91.0       Debt consolidation         0.0     39779.0   \n",
       "1     24808.0        50.6                 Business       138.0    115674.0   \n",
       "2     12417.0        70.6       Debt consolidation         0.0     40075.0   \n",
       "3      2105.0        10.5  Credit card refinancing         0.0     20459.0   \n",
       "4     10917.0        72.8       debt consolidation         0.0    100987.0   \n",
       "\n",
       "  feature_32 feature_33 feature_34       feature_35  target  \n",
       "0    5701.17        0.0    37400.0  Source Verified    28.0  \n",
       "1      11.84        0.0    49000.0         Verified    39.0  \n",
       "2    1689.09        0.0    17600.0         Verified    29.0  \n",
       "3     348.68        0.0    20100.0  Source Verified    15.0  \n",
       "4    2164.96        0.0    15000.0         Verified    18.0  \n",
       "\n",
       "[5 rows x 37 columns]"
      ]
     },
     "execution_count": 56,
     "metadata": {},
     "output_type": "execute_result"
    }
   ],
   "source": [
    "df_train.head()"
   ]
  },
  {
   "cell_type": "code",
   "execution_count": 216,
   "id": "5555fdd4",
   "metadata": {},
   "outputs": [],
   "source": [
    "y_train = df_train[\"target\"]"
   ]
  },
  {
   "cell_type": "code",
   "execution_count": 171,
   "id": "ed59917c",
   "metadata": {},
   "outputs": [],
   "source": [
    "X_train = df_train.drop(columns=[\"target\"], axis=1)"
   ]
  },
  {
   "cell_type": "code",
   "execution_count": 58,
   "id": "c71a2ba8",
   "metadata": {},
   "outputs": [],
   "source": [
    "X_test = df_test"
   ]
  },
  {
   "cell_type": "code",
   "execution_count": 59,
   "id": "75ed9dc1",
   "metadata": {},
   "outputs": [],
   "source": [
    "ids_test = X_test[\"id\"]"
   ]
  },
  {
   "cell_type": "code",
   "execution_count": 60,
   "id": "9a7118c5",
   "metadata": {},
   "outputs": [
    {
     "data": {
      "text/plain": [
       "['feature_1',\n",
       " 'feature_12',\n",
       " 'checkpoint',\n",
       " 'feature_23',\n",
       " 'feature_14',\n",
       " 'feature_9',\n",
       " 'feature_29',\n",
       " 'feature_35',\n",
       " 'feature_3',\n",
       " 'feature_13',\n",
       " 'time',\n",
       " 'id',\n",
       " 'duration']"
      ]
     },
     "execution_count": 60,
     "metadata": {},
     "output_type": "execute_result"
    }
   ],
   "source": [
    "cols_train = X_train.columns\n",
    "num_cols_train = X_train._get_numeric_data().columns\n",
    "cat_cols_train = list(set(cols_train) - set(num_cols_train))\n",
    "cat_cols_train"
   ]
  },
  {
   "cell_type": "code",
   "execution_count": 61,
   "id": "7db71aaa",
   "metadata": {},
   "outputs": [
    {
     "data": {
      "text/plain": [
       "Index(['feature_0', 'feature_2', 'feature_5', 'feature_6', 'feature_7',\n",
       "       'feature_8', 'feature_10', 'feature_11', 'feature_15', 'feature_16',\n",
       "       'feature_17', 'feature_18', 'feature_19', 'feature_20', 'feature_22',\n",
       "       'feature_25', 'feature_26', 'feature_27', 'feature_30', 'feature_31',\n",
       "       'feature_32', 'feature_33', 'feature_34'],\n",
       "      dtype='object')"
      ]
     },
     "execution_count": 61,
     "metadata": {},
     "output_type": "execute_result"
    }
   ],
   "source": [
    "num_cols_train"
   ]
  },
  {
   "cell_type": "code",
   "execution_count": 62,
   "id": "d33db4ff",
   "metadata": {},
   "outputs": [],
   "source": [
    "num_cols_train=['feature_10', 'feature_11', 'feature_17']\n",
    "\n",
    "for feature in num_cols_train:\n",
    "    X_train[feature]=np.log(X_train[feature])"
   ]
  },
  {
   "cell_type": "code",
   "execution_count": 59,
   "id": "6ec2534e",
   "metadata": {},
   "outputs": [],
   "source": [
    "num_cols_test=['feature_10', 'feature_11', 'feature_17']\n",
    "\n",
    "for feature in num_cols_test:\n",
    "    X_test[feature]=np.log(X_test[feature])"
   ]
  },
  {
   "cell_type": "code",
   "execution_count": 63,
   "id": "a2060dc1",
   "metadata": {},
   "outputs": [
    {
     "data": {
      "text/plain": [
       "['feature_1',\n",
       " 'feature_12',\n",
       " 'checkpoint',\n",
       " 'feature_23',\n",
       " 'feature_14',\n",
       " 'feature_9',\n",
       " 'feature_29',\n",
       " 'feature_35',\n",
       " 'feature_3',\n",
       " 'feature_13',\n",
       " 'time',\n",
       " 'id',\n",
       " 'duration']"
      ]
     },
     "execution_count": 63,
     "metadata": {},
     "output_type": "execute_result"
    }
   ],
   "source": [
    "cols_test = X_test.columns\n",
    "num_cols_test = X_test._get_numeric_data().columns\n",
    "cat_cols_test = list(set(cols_test) - set(num_cols_test))\n",
    "cat_cols_test"
   ]
  },
  {
   "cell_type": "code",
   "execution_count": 64,
   "id": "a0c2fb1b",
   "metadata": {},
   "outputs": [
    {
     "data": {
      "text/plain": [
       "array(['91th week', '4th week', '65th week', '9th week', '139th week',\n",
       "       '17th week', '113th week', '74th week', '52th week', '69th week',\n",
       "       '117th week', '35th week', '43th week', '87th week', '22th week',\n",
       "       '78th week', '13th week', '26th week', '61th week', '31th week',\n",
       "       '100th week', '48th week', '152th week', '83th week', '39th week',\n",
       "       '143th week', '82th week', '131th week', '56th week', '126th week',\n",
       "       'NAth week', '44th week', '156th week', '96th week', '70th week',\n",
       "       '57th week', '104th week', '144th week', '8th week', '109th week',\n",
       "       '135th week', '122th week', '30th week', '95th week', '148th week',\n",
       "       '130th week', '18th week', '21th week', '161th week', '169th week',\n",
       "       '92th week', '108th week', '178th week', '121th week', '0th week',\n",
       "       '170th week', '165th week', '174th week'], dtype=object)"
      ]
     },
     "execution_count": 64,
     "metadata": {},
     "output_type": "execute_result"
    }
   ],
   "source": [
    "X_train[\"checkpoint\"].unique()"
   ]
  },
  {
   "cell_type": "code",
   "execution_count": 65,
   "id": "5e798e46",
   "metadata": {},
   "outputs": [],
   "source": [
    "X_train.drop(columns=[\"checkpoint\"],  axis=1, inplace=True)"
   ]
  },
  {
   "cell_type": "code",
   "execution_count": 66,
   "id": "c2305a9c",
   "metadata": {},
   "outputs": [],
   "source": [
    "X_test.drop(columns=[\"checkpoint\"],  axis=1, inplace=True)"
   ]
  },
  {
   "cell_type": "code",
   "execution_count": 67,
   "id": "5af92082",
   "metadata": {},
   "outputs": [
    {
     "data": {
      "text/plain": [
       "['feature_1',\n",
       " 'feature_12',\n",
       " 'feature_23',\n",
       " 'feature_9',\n",
       " 'feature_14',\n",
       " 'feature_29',\n",
       " 'feature_35',\n",
       " 'feature_3',\n",
       " 'feature_13',\n",
       " 'time',\n",
       " 'id',\n",
       " 'duration']"
      ]
     },
     "execution_count": 67,
     "metadata": {},
     "output_type": "execute_result"
    }
   ],
   "source": [
    "cols_train = X_train.columns\n",
    "num_cols_train = X_train._get_numeric_data().columns\n",
    "cat_cols_train = list(set(cols_train) - set(num_cols_train))\n",
    "cat_cols_train"
   ]
  },
  {
   "cell_type": "code",
   "execution_count": 68,
   "id": "074b6c68",
   "metadata": {},
   "outputs": [
    {
     "data": {
      "text/plain": [
       "['feature_1',\n",
       " 'feature_12',\n",
       " 'feature_23',\n",
       " 'feature_9',\n",
       " 'feature_14',\n",
       " 'feature_29',\n",
       " 'feature_35',\n",
       " 'feature_3',\n",
       " 'feature_13',\n",
       " 'time',\n",
       " 'id',\n",
       " 'duration']"
      ]
     },
     "execution_count": 68,
     "metadata": {},
     "output_type": "execute_result"
    }
   ],
   "source": [
    "cols_test = X_test.columns\n",
    "num_cols_test = X_test._get_numeric_data().columns\n",
    "cat_cols_test = list(set(cols_test) - set(num_cols_test))\n",
    "cat_cols_test"
   ]
  },
  {
   "cell_type": "code",
   "execution_count": 69,
   "id": "d83811f7",
   "metadata": {},
   "outputs": [
    {
     "data": {
      "text/plain": [
       "(419040, 35)"
      ]
     },
     "execution_count": 69,
     "metadata": {},
     "output_type": "execute_result"
    }
   ],
   "source": [
    "X_train.shape"
   ]
  },
  {
   "cell_type": "code",
   "execution_count": 70,
   "id": "df3bb6c5",
   "metadata": {},
   "outputs": [
    {
     "data": {
      "text/plain": [
       "(225637, 35)"
      ]
     },
     "execution_count": 70,
     "metadata": {},
     "output_type": "execute_result"
    }
   ],
   "source": [
    "X_test.shape"
   ]
  },
  {
   "cell_type": "code",
   "execution_count": 71,
   "id": "5070f27e",
   "metadata": {},
   "outputs": [
    {
     "name": "stdout",
     "output_type": "stream",
     "text": [
      "feature_1:['UT' 'LA' 'VA' 'MI' 'NC' 'FL' 'AZ' 'WI' 'KY' 'CA' 'NY' 'MT' 'MN' 'MO'\n",
      " 'OR' 'GA' 'TN' 'WY' 'OH' 'IN' 'TX' 'IL' 'MA' 'RI' 'NE' 'NJ' 'AL' 'OK'\n",
      " 'PA' 'SC' 'MD' 'WA' 'NH' 'NV' 'CT' 'DE' 'MS' 'WV' 'CO' 'SD' 'HI' 'AR'\n",
      " 'DC' 'KS' 'NM' 'AK' 'VT' 'ME' 'ND' 'IA' 'ID']\n",
      "\n",
      "feature_12:['D' 'C' 'F' 'B' 'E' 'A' 'G']\n",
      "\n",
      "feature_23:['debt_consolidation' 'small_business' 'credit_card' 'home_improvement'\n",
      " 'medical' 'other' 'major_purchase' 'car' 'vacation' 'house' 'moving'\n",
      " 'wedding' 'renewable_energy']\n",
      "\n",
      "feature_9:['Teacher' 'Sales Rep' 'advance auto parts' ... 'Production  Manager'\n",
      " 'Forlit driver' 'Fingerprint Technician']\n",
      "\n",
      "feature_14:['w' 'f']\n",
      "\n",
      "feature_29:['Debt consolidation' 'Business' 'Credit card refinancing' ...\n",
      " 'Refinance 36 payments' 'making changes' 'Credit card re-finance']\n",
      "\n",
      "feature_35:['Source Verified' 'Verified' 'Not Verified']\n",
      "\n",
      "feature_3:['INDIVIDUAL' 'JOINT']\n",
      "\n",
      "feature_13:['RENT' 'MORTGAGE' 'OWN' 'OTHER' 'NONE' 'ANY']\n",
      "\n",
      "time:['10+ years' '< 1 year' '5 years' '8 years' '3 years' '1 year' '2 years'\n",
      " '9 years' '7 years' '4 years' '6 years']\n",
      "\n",
      "id:['eac9059b997a667954a1c2f19079c463' 'f2bdbfe82b2a63a35726cb1a630af56a'\n",
      " '0a73ee5d7841b012f1fb62542d7664c7' ... '31a8aae9a22016cde31ff8e1c5b07e3c'\n",
      " '57d90e37e3373b470e0b842d04883a19' 'b834bcccc1f882c281990b0652bb27a9']\n",
      "\n",
      "duration:['36 months' '60 months']\n",
      "\n"
     ]
    }
   ],
   "source": [
    "for col in cat_cols_train:\n",
    "    print('{}:{}'.format(col, X_train[col].unique()))\n",
    "    print()"
   ]
  },
  {
   "cell_type": "code",
   "execution_count": 72,
   "id": "7d4ca6db",
   "metadata": {},
   "outputs": [
    {
     "name": "stdout",
     "output_type": "stream",
     "text": [
      "feature_1:['CA' 'WI' 'NY' 'OH' 'PA' 'HI' 'NV' 'VA' 'AZ' 'UT' 'TN' 'MT' 'MD' 'MI'\n",
      " 'MN' 'CO' 'LA' 'MO' 'GA' 'TX' 'NM' 'KS' 'AL' 'WV' 'NJ' 'FL' 'MA' 'IL'\n",
      " 'OR' 'NC' 'OK' 'CT' 'WA' 'MS' 'SC' 'AR' 'KY' 'SD' 'DC' 'WY' 'IN' 'VT'\n",
      " 'RI' 'DE' 'NE' 'NH' 'ME' 'AK' 'ND' 'ID' 'IA']\n",
      "\n",
      "feature_12:['C' 'A' 'B' 'F' 'E' 'G' 'D']\n",
      "\n",
      "feature_23:['credit_card' 'debt_consolidation' 'home_improvement' 'other'\n",
      " 'major_purchase' 'small_business' 'wedding' 'car' 'vacation' 'moving'\n",
      " 'house' 'medical' 'renewable_energy' 'educational']\n",
      "\n",
      "feature_9:['ACCOUNTANT' 'Lead Fabricator' 'Network Administrator' ...\n",
      " 'Finance Team Leader' 'A-Tech Systems, INC'\n",
      " 'GS-13 Environmental Protection Special']\n",
      "\n",
      "feature_14:['w' 'f']\n",
      "\n",
      "feature_29:['Credit card refinancing' 'Debt consolidation' 'Home improvement' ...\n",
      " 'Stepping Stone' 'Taxes and Vacation' 'Digging out']\n",
      "\n",
      "feature_35:['Not Verified' 'Source Verified' 'Verified']\n",
      "\n",
      "feature_3:['INDIVIDUAL' 'JOINT']\n",
      "\n",
      "feature_13:['RENT' 'MORTGAGE' 'OWN' 'NONE' 'OTHER' 'ANY']\n",
      "\n",
      "time:['6 years' '5 years' '10+ years' '1 year' '8 years' '2 years' '7 years'\n",
      " '4 years' '3 years' '< 1 year' '9 years']\n",
      "\n",
      "id:['2183e7e6f5901c2fe2bc14ca6d43a6fa' 'a495f8f7ec5a034c6db1405b40c7f473'\n",
      " 'c57ccaed44245b3b7eaa76c5ec99a0ea' ... '11b58c759028d0b32695224533b47e5b'\n",
      " 'd1cff3f77d9bce11001f3c7a93a9a2c2' '914ec7ff363841226bd69e9c256f3554']\n",
      "\n",
      "duration:['36 months' '60 months']\n",
      "\n"
     ]
    }
   ],
   "source": [
    "for col in cat_cols_test:\n",
    "    print('{}:{}'.format(col, X_test[col].unique()))\n",
    "    print()"
   ]
  },
  {
   "cell_type": "code",
   "execution_count": 73,
   "id": "b6d8b191",
   "metadata": {},
   "outputs": [
    {
     "data": {
      "text/plain": [
       "array(['36 months', '60 months'], dtype=object)"
      ]
     },
     "execution_count": 73,
     "metadata": {},
     "output_type": "execute_result"
    }
   ],
   "source": [
    "X_train[\"duration\"].unique()"
   ]
  },
  {
   "cell_type": "code",
   "execution_count": 74,
   "id": "326abacc",
   "metadata": {},
   "outputs": [],
   "source": [
    "#X_train[df_train[\"feature_35\"] == \"Not Verified\"]"
   ]
  },
  {
   "cell_type": "code",
   "execution_count": 75,
   "id": "f2d1a52b",
   "metadata": {},
   "outputs": [],
   "source": [
    "X_train.drop(columns=[\"id\", \"feature_1\", \"feature_9\", \"feature_12\", \"feature_13\", \"feature_29\"], axis = 1, inplace=True)"
   ]
  },
  {
   "cell_type": "code",
   "execution_count": 76,
   "id": "48bbf273",
   "metadata": {},
   "outputs": [],
   "source": [
    "X_test.drop(columns=[\"id\", \"feature_1\", \"feature_9\", \"feature_12\", \"feature_13\", \"feature_29\"], axis = 1, inplace=True)"
   ]
  },
  {
   "cell_type": "code",
   "execution_count": 74,
   "id": "24a7ec3a",
   "metadata": {},
   "outputs": [],
   "source": [
    "# X_train.drop(columns=[\"feature_1\"], axis = 1, inplace=True)"
   ]
  },
  {
   "cell_type": "code",
   "execution_count": 75,
   "id": "d7ae66a6",
   "metadata": {},
   "outputs": [],
   "source": [
    "# X_train.drop(columns=[\"feature_9\"], axis = 1, inplace=True)"
   ]
  },
  {
   "cell_type": "code",
   "execution_count": 76,
   "id": "e83f9759",
   "metadata": {},
   "outputs": [],
   "source": [
    "# X_test.drop(columns=[\"feature_1\", \"feature_9\"], axis=1, inplace=True)"
   ]
  },
  {
   "cell_type": "code",
   "execution_count": 77,
   "id": "ac9961d7",
   "metadata": {},
   "outputs": [
    {
     "data": {
      "text/plain": [
       "['feature_23', 'feature_14', 'feature_35', 'feature_3', 'time', 'duration']"
      ]
     },
     "execution_count": 77,
     "metadata": {},
     "output_type": "execute_result"
    }
   ],
   "source": [
    "cols_train = X_train.columns\n",
    "num_cols_train = X_train._get_numeric_data().columns\n",
    "cat_cols_train = list(set(cols_train) - set(num_cols_train))\n",
    "cat_cols_train\n"
   ]
  },
  {
   "cell_type": "code",
   "execution_count": 78,
   "id": "6c255be6",
   "metadata": {},
   "outputs": [
    {
     "data": {
      "text/plain": [
       "['feature_23', 'feature_14', 'feature_35', 'feature_3', 'time', 'duration']"
      ]
     },
     "execution_count": 78,
     "metadata": {},
     "output_type": "execute_result"
    }
   ],
   "source": [
    "cols_test = X_test.columns\n",
    "num_cols_test = X_test._get_numeric_data().columns\n",
    "cat_cols_test = list(set(cols_test) - set(num_cols_test))\n",
    "cat_cols_test"
   ]
  },
  {
   "cell_type": "code",
   "execution_count": 79,
   "id": "5e43b9ea",
   "metadata": {},
   "outputs": [
    {
     "data": {
      "text/plain": [
       "Index(['time', 'duration', 'feature_0', 'feature_2', 'feature_3', 'feature_5',\n",
       "       'feature_6', 'feature_7', 'feature_8', 'feature_10', 'feature_11',\n",
       "       'feature_14', 'feature_15', 'feature_16', 'feature_17', 'feature_18',\n",
       "       'feature_19', 'feature_20', 'feature_22', 'feature_23', 'feature_25',\n",
       "       'feature_26', 'feature_27', 'feature_30', 'feature_31', 'feature_32',\n",
       "       'feature_33', 'feature_34', 'feature_35'],\n",
       "      dtype='object')"
      ]
     },
     "execution_count": 79,
     "metadata": {},
     "output_type": "execute_result"
    }
   ],
   "source": [
    "X_train.columns"
   ]
  },
  {
   "cell_type": "code",
   "execution_count": 80,
   "id": "a316a5fa",
   "metadata": {},
   "outputs": [
    {
     "data": {
      "text/plain": [
       "Index(['time', 'duration', 'feature_0', 'feature_2', 'feature_3', 'feature_5',\n",
       "       'feature_6', 'feature_7', 'feature_8', 'feature_10', 'feature_11',\n",
       "       'feature_14', 'feature_15', 'feature_16', 'feature_17', 'feature_18',\n",
       "       'feature_19', 'feature_20', 'feature_22', 'feature_23', 'feature_25',\n",
       "       'feature_26', 'feature_27', 'feature_30', 'feature_31', 'feature_32',\n",
       "       'feature_33', 'feature_34', 'feature_35'],\n",
       "      dtype='object')"
      ]
     },
     "execution_count": 80,
     "metadata": {},
     "output_type": "execute_result"
    }
   ],
   "source": [
    "X_test.columns"
   ]
  },
  {
   "cell_type": "code",
   "execution_count": 82,
   "id": "3b486259",
   "metadata": {},
   "outputs": [],
   "source": [
    "combined_df = pd.concat([X_train, X_test], axis=0)"
   ]
  },
  {
   "cell_type": "code",
   "execution_count": 83,
   "id": "bd985c9b",
   "metadata": {},
   "outputs": [
    {
     "data": {
      "text/plain": [
       "['feature_23', 'feature_14', 'feature_35', 'feature_3', 'time', 'duration']"
      ]
     },
     "execution_count": 83,
     "metadata": {},
     "output_type": "execute_result"
    }
   ],
   "source": [
    "cols = combined_df.columns\n",
    "num_cols = combined_df._get_numeric_data().columns\n",
    "cat_cols = list(set(cols) - set(num_cols))\n",
    "cat_cols"
   ]
  },
  {
   "cell_type": "code",
   "execution_count": null,
   "id": "b2d9216a",
   "metadata": {},
   "outputs": [],
   "source": []
  },
  {
   "cell_type": "code",
   "execution_count": 84,
   "id": "b4c19198",
   "metadata": {},
   "outputs": [
    {
     "data": {
      "text/plain": [
       "14"
      ]
     },
     "execution_count": 84,
     "metadata": {},
     "output_type": "execute_result"
    }
   ],
   "source": [
    "len(combined_df[\"feature_23\"].unique())"
   ]
  },
  {
   "cell_type": "code",
   "execution_count": null,
   "id": "88738896",
   "metadata": {},
   "outputs": [],
   "source": []
  },
  {
   "cell_type": "code",
   "execution_count": null,
   "id": "54034ef3",
   "metadata": {},
   "outputs": [],
   "source": []
  },
  {
   "cell_type": "code",
   "execution_count": null,
   "id": "95888e21",
   "metadata": {},
   "outputs": [],
   "source": []
  },
  {
   "cell_type": "code",
   "execution_count": null,
   "id": "e9267abf",
   "metadata": {},
   "outputs": [],
   "source": []
  },
  {
   "cell_type": "code",
   "execution_count": 85,
   "id": "972f696e",
   "metadata": {},
   "outputs": [
    {
     "data": {
      "text/plain": [
       "['feature_23', 'feature_14', 'feature_35', 'feature_3', 'time', 'duration']"
      ]
     },
     "execution_count": 85,
     "metadata": {},
     "output_type": "execute_result"
    }
   ],
   "source": [
    "cols = combined_df.columns\n",
    "num_cols = combined_df._get_numeric_data().columns\n",
    "cat_cols = list(set(cols) - set(num_cols))\n",
    "cat_cols"
   ]
  },
  {
   "cell_type": "code",
   "execution_count": 87,
   "id": "28eeec9d",
   "metadata": {},
   "outputs": [],
   "source": [
    "from sklearn.preprocessing import StandardScaler\n",
    "\n",
    "scaler = StandardScaler()\n",
    "\n",
    "df_stand = combined_df.copy()\n"
   ]
  },
  {
   "cell_type": "code",
   "execution_count": 88,
   "id": "61d73b34",
   "metadata": {},
   "outputs": [],
   "source": [
    "from sklearn.preprocessing import StandardScaler\n",
    "\n",
    "scaler = StandardScaler()\n",
    "df_stand = combined_df.copy()\n",
    "df_stand = pd.get_dummies(data = df_stand, columns = cat_cols, drop_first=True) "
   ]
  },
  {
   "cell_type": "code",
   "execution_count": 91,
   "id": "c3db5c50",
   "metadata": {},
   "outputs": [],
   "source": [
    "scaled_numerical = scaler.fit_transform(df_stand[num_cols])"
   ]
  },
  {
   "cell_type": "code",
   "execution_count": 92,
   "id": "3ceb2cff",
   "metadata": {},
   "outputs": [],
   "source": [
    "scaled_numerical_df = pd.DataFrame(scaled_numerical, columns=num_cols)"
   ]
  },
  {
   "cell_type": "code",
   "execution_count": 93,
   "id": "44f1a27c",
   "metadata": {},
   "outputs": [],
   "source": [
    "missing_columns = list(set(df_stand.columns) - set(scaled_numerical_df.columns))"
   ]
  },
  {
   "cell_type": "code",
   "execution_count": 94,
   "id": "af052541",
   "metadata": {},
   "outputs": [],
   "source": [
    "categorical_df = df_stand[missing_columns]"
   ]
  },
  {
   "cell_type": "code",
   "execution_count": 95,
   "id": "d44c55ef",
   "metadata": {},
   "outputs": [],
   "source": [
    "scaled_numerical_df = scaled_numerical_df.reset_index(drop=True)\n",
    "categorical_df = categorical_df.reset_index(drop=True)"
   ]
  },
  {
   "cell_type": "code",
   "execution_count": 96,
   "id": "4eaffa6f",
   "metadata": {},
   "outputs": [],
   "source": [
    "df_dummy_combined = pd.concat([scaled_numerical_df, categorical_df],axis=1) "
   ]
  },
  {
   "cell_type": "code",
   "execution_count": 160,
   "id": "d2d1bc4b",
   "metadata": {},
   "outputs": [
    {
     "data": {
      "text/html": [
       "<div>\n",
       "<style scoped>\n",
       "    .dataframe tbody tr th:only-of-type {\n",
       "        vertical-align: middle;\n",
       "    }\n",
       "\n",
       "    .dataframe tbody tr th {\n",
       "        vertical-align: top;\n",
       "    }\n",
       "\n",
       "    .dataframe thead th {\n",
       "        text-align: right;\n",
       "    }\n",
       "</style>\n",
       "<table border=\"1\" class=\"dataframe\">\n",
       "  <thead>\n",
       "    <tr style=\"text-align: right;\">\n",
       "      <th></th>\n",
       "      <th>feature_0</th>\n",
       "      <th>feature_2</th>\n",
       "      <th>feature_5</th>\n",
       "      <th>feature_6</th>\n",
       "      <th>feature_7</th>\n",
       "      <th>feature_8</th>\n",
       "      <th>feature_10</th>\n",
       "      <th>feature_11</th>\n",
       "      <th>feature_15</th>\n",
       "      <th>feature_16</th>\n",
       "      <th>...</th>\n",
       "      <th>feature_23_home_improvement</th>\n",
       "      <th>feature_3_JOINT</th>\n",
       "      <th>time_&lt; 1 year</th>\n",
       "      <th>duration_60 months</th>\n",
       "      <th>feature_23_small_business</th>\n",
       "      <th>time_8 years</th>\n",
       "      <th>feature_35_Verified</th>\n",
       "      <th>time_10+ years</th>\n",
       "      <th>time_9 years</th>\n",
       "      <th>feature_23_moving</th>\n",
       "    </tr>\n",
       "  </thead>\n",
       "  <tbody>\n",
       "    <tr>\n",
       "      <th>0</th>\n",
       "      <td>-0.067644</td>\n",
       "      <td>0.824910</td>\n",
       "      <td>-0.081076</td>\n",
       "      <td>-0.111513</td>\n",
       "      <td>-0.371245</td>\n",
       "      <td>0.020507</td>\n",
       "      <td>-0.707691</td>\n",
       "      <td>-0.707676</td>\n",
       "      <td>3.475635</td>\n",
       "      <td>0.968689</td>\n",
       "      <td>...</td>\n",
       "      <td>0</td>\n",
       "      <td>0</td>\n",
       "      <td>0</td>\n",
       "      <td>0</td>\n",
       "      <td>0</td>\n",
       "      <td>0</td>\n",
       "      <td>0</td>\n",
       "      <td>1</td>\n",
       "      <td>0</td>\n",
       "      <td>0</td>\n",
       "    </tr>\n",
       "    <tr>\n",
       "      <th>1</th>\n",
       "      <td>-0.067644</td>\n",
       "      <td>-0.387490</td>\n",
       "      <td>-0.081076</td>\n",
       "      <td>-0.111513</td>\n",
       "      <td>3.020569</td>\n",
       "      <td>0.443138</td>\n",
       "      <td>-0.757824</td>\n",
       "      <td>-0.757812</td>\n",
       "      <td>2.431923</td>\n",
       "      <td>0.737278</td>\n",
       "      <td>...</td>\n",
       "      <td>0</td>\n",
       "      <td>0</td>\n",
       "      <td>0</td>\n",
       "      <td>0</td>\n",
       "      <td>1</td>\n",
       "      <td>0</td>\n",
       "      <td>1</td>\n",
       "      <td>1</td>\n",
       "      <td>0</td>\n",
       "      <td>0</td>\n",
       "    </tr>\n",
       "    <tr>\n",
       "      <th>2</th>\n",
       "      <td>-0.067644</td>\n",
       "      <td>-0.539040</td>\n",
       "      <td>-0.081076</td>\n",
       "      <td>-0.111513</td>\n",
       "      <td>-0.371245</td>\n",
       "      <td>0.481653</td>\n",
       "      <td>-0.728228</td>\n",
       "      <td>-0.728214</td>\n",
       "      <td>-0.699215</td>\n",
       "      <td>-0.070393</td>\n",
       "      <td>...</td>\n",
       "      <td>0</td>\n",
       "      <td>0</td>\n",
       "      <td>0</td>\n",
       "      <td>0</td>\n",
       "      <td>0</td>\n",
       "      <td>0</td>\n",
       "      <td>1</td>\n",
       "      <td>1</td>\n",
       "      <td>0</td>\n",
       "      <td>0</td>\n",
       "    </tr>\n",
       "    <tr>\n",
       "      <th>3</th>\n",
       "      <td>-0.067644</td>\n",
       "      <td>-0.387490</td>\n",
       "      <td>-0.081076</td>\n",
       "      <td>-0.111513</td>\n",
       "      <td>0.759360</td>\n",
       "      <td>-0.012872</td>\n",
       "      <td>-0.712721</td>\n",
       "      <td>-0.712776</td>\n",
       "      <td>2.431923</td>\n",
       "      <td>2.198345</td>\n",
       "      <td>...</td>\n",
       "      <td>0</td>\n",
       "      <td>0</td>\n",
       "      <td>1</td>\n",
       "      <td>1</td>\n",
       "      <td>0</td>\n",
       "      <td>0</td>\n",
       "      <td>0</td>\n",
       "      <td>0</td>\n",
       "      <td>0</td>\n",
       "      <td>0</td>\n",
       "    </tr>\n",
       "    <tr>\n",
       "      <th>4</th>\n",
       "      <td>-0.067644</td>\n",
       "      <td>-0.463265</td>\n",
       "      <td>-0.081076</td>\n",
       "      <td>-0.111513</td>\n",
       "      <td>-0.371245</td>\n",
       "      <td>-0.266040</td>\n",
       "      <td>-0.736779</td>\n",
       "      <td>-0.736766</td>\n",
       "      <td>-0.699215</td>\n",
       "      <td>0.179168</td>\n",
       "      <td>...</td>\n",
       "      <td>0</td>\n",
       "      <td>0</td>\n",
       "      <td>0</td>\n",
       "      <td>0</td>\n",
       "      <td>0</td>\n",
       "      <td>0</td>\n",
       "      <td>1</td>\n",
       "      <td>0</td>\n",
       "      <td>0</td>\n",
       "      <td>0</td>\n",
       "    </tr>\n",
       "  </tbody>\n",
       "</table>\n",
       "<p>5 rows × 51 columns</p>\n",
       "</div>"
      ],
      "text/plain": [
       "   feature_0  feature_2  feature_5  feature_6  feature_7  feature_8  \\\n",
       "0  -0.067644   0.824910  -0.081076  -0.111513  -0.371245   0.020507   \n",
       "1  -0.067644  -0.387490  -0.081076  -0.111513   3.020569   0.443138   \n",
       "2  -0.067644  -0.539040  -0.081076  -0.111513  -0.371245   0.481653   \n",
       "3  -0.067644  -0.387490  -0.081076  -0.111513   0.759360  -0.012872   \n",
       "4  -0.067644  -0.463265  -0.081076  -0.111513  -0.371245  -0.266040   \n",
       "\n",
       "   feature_10  feature_11  feature_15  feature_16  ...  \\\n",
       "0   -0.707691   -0.707676    3.475635    0.968689  ...   \n",
       "1   -0.757824   -0.757812    2.431923    0.737278  ...   \n",
       "2   -0.728228   -0.728214   -0.699215   -0.070393  ...   \n",
       "3   -0.712721   -0.712776    2.431923    2.198345  ...   \n",
       "4   -0.736779   -0.736766   -0.699215    0.179168  ...   \n",
       "\n",
       "   feature_23_home_improvement  feature_3_JOINT  time_< 1 year  \\\n",
       "0                            0                0              0   \n",
       "1                            0                0              0   \n",
       "2                            0                0              0   \n",
       "3                            0                0              1   \n",
       "4                            0                0              0   \n",
       "\n",
       "   duration_60 months  feature_23_small_business  time_8 years  \\\n",
       "0                   0                          0             0   \n",
       "1                   0                          1             0   \n",
       "2                   0                          0             0   \n",
       "3                   1                          0             0   \n",
       "4                   0                          0             0   \n",
       "\n",
       "   feature_35_Verified  time_10+ years  time_9 years  feature_23_moving  \n",
       "0                    0               1             0                  0  \n",
       "1                    1               1             0                  0  \n",
       "2                    1               1             0                  0  \n",
       "3                    0               0             0                  0  \n",
       "4                    1               0             0                  0  \n",
       "\n",
       "[5 rows x 51 columns]"
      ]
     },
     "execution_count": 160,
     "metadata": {},
     "output_type": "execute_result"
    }
   ],
   "source": [
    "df_dummy_combined.head()"
   ]
  },
  {
   "cell_type": "code",
   "execution_count": 111,
   "id": "12de7250",
   "metadata": {},
   "outputs": [],
   "source": [
    "# from sklearn.decomposition import PCA\n",
    "\n",
    "# # Initialize PCA instance\n",
    "# pca = PCA(n_components=30)  # Set the desired number of components\n",
    "\n",
    "# # Apply PCA on the combined data\n",
    "# pca_result = pca.fit_transform(df_dummy_combined)\n",
    "\n",
    "# # Create a DataFrame for the PCA results\n",
    "\n",
    "# pca_df = pd.DataFrame(data=pca_result, columns=['PC' + str(i) for i in range(1,31)])  # Adjust column names as needed"
   ]
  },
  {
   "cell_type": "code",
   "execution_count": 174,
   "id": "d44bbeae",
   "metadata": {},
   "outputs": [],
   "source": [
    "X_train = df_dummy_combined.iloc[:df_train.shape[0], :]"
   ]
  },
  {
   "cell_type": "code",
   "execution_count": 175,
   "id": "008abf52",
   "metadata": {},
   "outputs": [],
   "source": [
    "X_test = df_dummy_combined.iloc[df_train.shape[0]:, :]"
   ]
  },
  {
   "cell_type": "code",
   "execution_count": 176,
   "id": "592ad67f",
   "metadata": {},
   "outputs": [
    {
     "data": {
      "text/html": [
       "<div>\n",
       "<style scoped>\n",
       "    .dataframe tbody tr th:only-of-type {\n",
       "        vertical-align: middle;\n",
       "    }\n",
       "\n",
       "    .dataframe tbody tr th {\n",
       "        vertical-align: top;\n",
       "    }\n",
       "\n",
       "    .dataframe thead th {\n",
       "        text-align: right;\n",
       "    }\n",
       "</style>\n",
       "<table border=\"1\" class=\"dataframe\">\n",
       "  <thead>\n",
       "    <tr style=\"text-align: right;\">\n",
       "      <th></th>\n",
       "      <th>feature_0</th>\n",
       "      <th>feature_2</th>\n",
       "      <th>feature_5</th>\n",
       "      <th>feature_6</th>\n",
       "      <th>feature_7</th>\n",
       "      <th>feature_8</th>\n",
       "      <th>feature_10</th>\n",
       "      <th>feature_11</th>\n",
       "      <th>feature_15</th>\n",
       "      <th>feature_16</th>\n",
       "      <th>...</th>\n",
       "      <th>feature_23_home_improvement</th>\n",
       "      <th>feature_3_JOINT</th>\n",
       "      <th>time_&lt; 1 year</th>\n",
       "      <th>duration_60 months</th>\n",
       "      <th>feature_23_small_business</th>\n",
       "      <th>time_8 years</th>\n",
       "      <th>feature_35_Verified</th>\n",
       "      <th>time_10+ years</th>\n",
       "      <th>time_9 years</th>\n",
       "      <th>feature_23_moving</th>\n",
       "    </tr>\n",
       "  </thead>\n",
       "  <tbody>\n",
       "    <tr>\n",
       "      <th>0</th>\n",
       "      <td>-0.067644</td>\n",
       "      <td>0.824910</td>\n",
       "      <td>-0.081076</td>\n",
       "      <td>-0.111513</td>\n",
       "      <td>-0.371245</td>\n",
       "      <td>0.020507</td>\n",
       "      <td>-0.707691</td>\n",
       "      <td>-0.707676</td>\n",
       "      <td>3.475635</td>\n",
       "      <td>0.968689</td>\n",
       "      <td>...</td>\n",
       "      <td>0</td>\n",
       "      <td>0</td>\n",
       "      <td>0</td>\n",
       "      <td>0</td>\n",
       "      <td>0</td>\n",
       "      <td>0</td>\n",
       "      <td>0</td>\n",
       "      <td>1</td>\n",
       "      <td>0</td>\n",
       "      <td>0</td>\n",
       "    </tr>\n",
       "    <tr>\n",
       "      <th>1</th>\n",
       "      <td>-0.067644</td>\n",
       "      <td>-0.387490</td>\n",
       "      <td>-0.081076</td>\n",
       "      <td>-0.111513</td>\n",
       "      <td>3.020569</td>\n",
       "      <td>0.443138</td>\n",
       "      <td>-0.757824</td>\n",
       "      <td>-0.757812</td>\n",
       "      <td>2.431923</td>\n",
       "      <td>0.737278</td>\n",
       "      <td>...</td>\n",
       "      <td>0</td>\n",
       "      <td>0</td>\n",
       "      <td>0</td>\n",
       "      <td>0</td>\n",
       "      <td>1</td>\n",
       "      <td>0</td>\n",
       "      <td>1</td>\n",
       "      <td>1</td>\n",
       "      <td>0</td>\n",
       "      <td>0</td>\n",
       "    </tr>\n",
       "    <tr>\n",
       "      <th>2</th>\n",
       "      <td>-0.067644</td>\n",
       "      <td>-0.539040</td>\n",
       "      <td>-0.081076</td>\n",
       "      <td>-0.111513</td>\n",
       "      <td>-0.371245</td>\n",
       "      <td>0.481653</td>\n",
       "      <td>-0.728228</td>\n",
       "      <td>-0.728214</td>\n",
       "      <td>-0.699215</td>\n",
       "      <td>-0.070393</td>\n",
       "      <td>...</td>\n",
       "      <td>0</td>\n",
       "      <td>0</td>\n",
       "      <td>0</td>\n",
       "      <td>0</td>\n",
       "      <td>0</td>\n",
       "      <td>0</td>\n",
       "      <td>1</td>\n",
       "      <td>1</td>\n",
       "      <td>0</td>\n",
       "      <td>0</td>\n",
       "    </tr>\n",
       "    <tr>\n",
       "      <th>3</th>\n",
       "      <td>-0.067644</td>\n",
       "      <td>-0.387490</td>\n",
       "      <td>-0.081076</td>\n",
       "      <td>-0.111513</td>\n",
       "      <td>0.759360</td>\n",
       "      <td>-0.012872</td>\n",
       "      <td>-0.712721</td>\n",
       "      <td>-0.712776</td>\n",
       "      <td>2.431923</td>\n",
       "      <td>2.198345</td>\n",
       "      <td>...</td>\n",
       "      <td>0</td>\n",
       "      <td>0</td>\n",
       "      <td>1</td>\n",
       "      <td>1</td>\n",
       "      <td>0</td>\n",
       "      <td>0</td>\n",
       "      <td>0</td>\n",
       "      <td>0</td>\n",
       "      <td>0</td>\n",
       "      <td>0</td>\n",
       "    </tr>\n",
       "    <tr>\n",
       "      <th>4</th>\n",
       "      <td>-0.067644</td>\n",
       "      <td>-0.463265</td>\n",
       "      <td>-0.081076</td>\n",
       "      <td>-0.111513</td>\n",
       "      <td>-0.371245</td>\n",
       "      <td>-0.266040</td>\n",
       "      <td>-0.736779</td>\n",
       "      <td>-0.736766</td>\n",
       "      <td>-0.699215</td>\n",
       "      <td>0.179168</td>\n",
       "      <td>...</td>\n",
       "      <td>0</td>\n",
       "      <td>0</td>\n",
       "      <td>0</td>\n",
       "      <td>0</td>\n",
       "      <td>0</td>\n",
       "      <td>0</td>\n",
       "      <td>1</td>\n",
       "      <td>0</td>\n",
       "      <td>0</td>\n",
       "      <td>0</td>\n",
       "    </tr>\n",
       "  </tbody>\n",
       "</table>\n",
       "<p>5 rows × 51 columns</p>\n",
       "</div>"
      ],
      "text/plain": [
       "   feature_0  feature_2  feature_5  feature_6  feature_7  feature_8  \\\n",
       "0  -0.067644   0.824910  -0.081076  -0.111513  -0.371245   0.020507   \n",
       "1  -0.067644  -0.387490  -0.081076  -0.111513   3.020569   0.443138   \n",
       "2  -0.067644  -0.539040  -0.081076  -0.111513  -0.371245   0.481653   \n",
       "3  -0.067644  -0.387490  -0.081076  -0.111513   0.759360  -0.012872   \n",
       "4  -0.067644  -0.463265  -0.081076  -0.111513  -0.371245  -0.266040   \n",
       "\n",
       "   feature_10  feature_11  feature_15  feature_16  ...  \\\n",
       "0   -0.707691   -0.707676    3.475635    0.968689  ...   \n",
       "1   -0.757824   -0.757812    2.431923    0.737278  ...   \n",
       "2   -0.728228   -0.728214   -0.699215   -0.070393  ...   \n",
       "3   -0.712721   -0.712776    2.431923    2.198345  ...   \n",
       "4   -0.736779   -0.736766   -0.699215    0.179168  ...   \n",
       "\n",
       "   feature_23_home_improvement  feature_3_JOINT  time_< 1 year  \\\n",
       "0                            0                0              0   \n",
       "1                            0                0              0   \n",
       "2                            0                0              0   \n",
       "3                            0                0              1   \n",
       "4                            0                0              0   \n",
       "\n",
       "   duration_60 months  feature_23_small_business  time_8 years  \\\n",
       "0                   0                          0             0   \n",
       "1                   0                          1             0   \n",
       "2                   0                          0             0   \n",
       "3                   1                          0             0   \n",
       "4                   0                          0             0   \n",
       "\n",
       "   feature_35_Verified  time_10+ years  time_9 years  feature_23_moving  \n",
       "0                    0               1             0                  0  \n",
       "1                    1               1             0                  0  \n",
       "2                    1               1             0                  0  \n",
       "3                    0               0             0                  0  \n",
       "4                    1               0             0                  0  \n",
       "\n",
       "[5 rows x 51 columns]"
      ]
     },
     "execution_count": 176,
     "metadata": {},
     "output_type": "execute_result"
    }
   ],
   "source": [
    "X_train.head()"
   ]
  },
  {
   "cell_type": "code",
   "execution_count": 177,
   "id": "b822efe4",
   "metadata": {},
   "outputs": [
    {
     "data": {
      "text/plain": [
       "(419040, 51)"
      ]
     },
     "execution_count": 177,
     "metadata": {},
     "output_type": "execute_result"
    }
   ],
   "source": [
    "X_train.shape"
   ]
  },
  {
   "cell_type": "code",
   "execution_count": 178,
   "id": "971f5661",
   "metadata": {},
   "outputs": [
    {
     "data": {
      "text/plain": [
       "0         28.0\n",
       "1         39.0\n",
       "2         29.0\n",
       "3         15.0\n",
       "4         18.0\n",
       "          ... \n",
       "419035    27.0\n",
       "419036    27.0\n",
       "419037    46.0\n",
       "419038    13.0\n",
       "419039    20.0\n",
       "Name: target, Length: 419040, dtype: float64"
      ]
     },
     "execution_count": 178,
     "metadata": {},
     "output_type": "execute_result"
    }
   ],
   "source": [
    "y_train"
   ]
  },
  {
   "cell_type": "code",
   "execution_count": 179,
   "id": "c0432668",
   "metadata": {},
   "outputs": [
    {
     "name": "stderr",
     "output_type": "stream",
     "text": [
      "[Parallel(n_jobs=-1)]: Using backend ThreadingBackend with 12 concurrent workers.\n"
     ]
    },
    {
     "name": "stdout",
     "output_type": "stream",
     "text": [
      "building tree 1 of 100\n",
      "building tree 2 of 100\n",
      "building tree 3 of 100\n",
      "building tree 4 of 100\n",
      "building tree 5 of 100\n",
      "building tree 6 of 100\n",
      "building tree 7 of 100\n",
      "building tree 8 of 100\n",
      "building tree 9 of 100\n",
      "building tree 10 of 100\n",
      "building tree 11 of 100\n",
      "building tree 12 of 100\n",
      "building tree 13 of 100\n",
      "building tree 14 of 100\n",
      "building tree 15 of 100\n",
      "building tree 16 of 100\n",
      "building tree 17 of 100\n",
      "building tree 18 of 100\n",
      "building tree 19 of 100\n",
      "building tree 20 of 100\n",
      "building tree 21 of 100\n"
     ]
    },
    {
     "name": "stderr",
     "output_type": "stream",
     "text": [
      "[Parallel(n_jobs=-1)]: Done   8 tasks      | elapsed:    3.9s\n"
     ]
    },
    {
     "name": "stdout",
     "output_type": "stream",
     "text": [
      "building tree 22 of 100\n",
      "building tree 23 of 100\n",
      "building tree 24 of 100\n",
      "building tree 25 of 100\n",
      "building tree 26 of 100\n",
      "building tree 27 of 100\n",
      "building tree 28 of 100\n",
      "building tree 29 of 100\n",
      "building tree 30 of 100\n",
      "building tree 31 of 100\n",
      "building tree 32 of 100\n",
      "building tree 33 of 100\n",
      "building tree 34 of 100\n",
      "building tree 35 of 100\n",
      "building tree 36 of 100\n",
      "building tree 37 of 100\n",
      "building tree 38 of 100\n",
      "building tree 39 of 100\n",
      "building tree 40 of 100\n",
      "building tree 41 of 100\n",
      "building tree 42 of 100\n",
      "building tree 43 of 100\n",
      "building tree 44 of 100\n",
      "building tree 45 of 100\n",
      "building tree 46 of 100\n",
      "building tree 47 of 100\n",
      "building tree 48 of 100\n",
      "building tree 49 of 100\n",
      "building tree 50 of 100\n",
      "building tree 51 of 100\n",
      "building tree 52 of 100\n",
      "building tree 53 of 100\n",
      "building tree 54 of 100\n",
      "building tree 55 of 100\n",
      "building tree 56 of 100\n",
      "building tree 57 of 100\n",
      "building tree 58 of 100\n",
      "building tree 59 of 100\n",
      "building tree 60 of 100\n",
      "building tree 61 of 100building tree 62 of 100\n",
      "\n",
      "building tree 63 of 100\n",
      "building tree 64 of 100\n",
      "building tree 65 of 100\n",
      "building tree 66 of 100\n",
      "building tree 67 of 100\n",
      "building tree 68 of 100\n",
      "building tree 69 of 100\n",
      "building tree 70 of 100\n",
      "building tree 71 of 100\n",
      "building tree 72 of 100\n",
      "building tree 73 of 100\n",
      "building tree 74 of 100\n",
      "building tree 75 of 100\n",
      "building tree 76 of 100\n",
      "building tree 77 of 100\n",
      "building tree 78 of 100\n",
      "building tree 79 of 100\n",
      "building tree 80 of 100\n",
      "building tree 81 of 100\n",
      "building tree 82 of 100\n",
      "building tree 83 of 100\n",
      "building tree 84 of 100\n",
      "building tree 85 of 100\n",
      "building tree 86 of 100\n",
      "building tree 87 of 100\n",
      "building tree 88 of 100\n",
      "building tree 89 of 100\n",
      "building tree 90 of 100\n",
      "building tree 91 of 100\n",
      "building tree 92 of 100\n",
      "building tree 93 of 100\n",
      "building tree 94 of 100\n",
      "building tree 95 of 100\n",
      "building tree 96 of 100\n",
      "building tree 97 of 100\n",
      "building tree 98 of 100\n",
      "building tree 99 of 100\n",
      "building tree 100 of 100\n"
     ]
    },
    {
     "name": "stderr",
     "output_type": "stream",
     "text": [
      "[Parallel(n_jobs=-1)]: Done 100 out of 100 | elapsed:   33.9s finished\n"
     ]
    },
    {
     "data": {
      "text/html": [
       "<style>#sk-container-id-4 {color: black;background-color: white;}#sk-container-id-4 pre{padding: 0;}#sk-container-id-4 div.sk-toggleable {background-color: white;}#sk-container-id-4 label.sk-toggleable__label {cursor: pointer;display: block;width: 100%;margin-bottom: 0;padding: 0.3em;box-sizing: border-box;text-align: center;}#sk-container-id-4 label.sk-toggleable__label-arrow:before {content: \"▸\";float: left;margin-right: 0.25em;color: #696969;}#sk-container-id-4 label.sk-toggleable__label-arrow:hover:before {color: black;}#sk-container-id-4 div.sk-estimator:hover label.sk-toggleable__label-arrow:before {color: black;}#sk-container-id-4 div.sk-toggleable__content {max-height: 0;max-width: 0;overflow: hidden;text-align: left;background-color: #f0f8ff;}#sk-container-id-4 div.sk-toggleable__content pre {margin: 0.2em;color: black;border-radius: 0.25em;background-color: #f0f8ff;}#sk-container-id-4 input.sk-toggleable__control:checked~div.sk-toggleable__content {max-height: 200px;max-width: 100%;overflow: auto;}#sk-container-id-4 input.sk-toggleable__control:checked~label.sk-toggleable__label-arrow:before {content: \"▾\";}#sk-container-id-4 div.sk-estimator input.sk-toggleable__control:checked~label.sk-toggleable__label {background-color: #d4ebff;}#sk-container-id-4 div.sk-label input.sk-toggleable__control:checked~label.sk-toggleable__label {background-color: #d4ebff;}#sk-container-id-4 input.sk-hidden--visually {border: 0;clip: rect(1px 1px 1px 1px);clip: rect(1px, 1px, 1px, 1px);height: 1px;margin: -1px;overflow: hidden;padding: 0;position: absolute;width: 1px;}#sk-container-id-4 div.sk-estimator {font-family: monospace;background-color: #f0f8ff;border: 1px dotted black;border-radius: 0.25em;box-sizing: border-box;margin-bottom: 0.5em;}#sk-container-id-4 div.sk-estimator:hover {background-color: #d4ebff;}#sk-container-id-4 div.sk-parallel-item::after {content: \"\";width: 100%;border-bottom: 1px solid gray;flex-grow: 1;}#sk-container-id-4 div.sk-label:hover label.sk-toggleable__label {background-color: #d4ebff;}#sk-container-id-4 div.sk-serial::before {content: \"\";position: absolute;border-left: 1px solid gray;box-sizing: border-box;top: 0;bottom: 0;left: 50%;z-index: 0;}#sk-container-id-4 div.sk-serial {display: flex;flex-direction: column;align-items: center;background-color: white;padding-right: 0.2em;padding-left: 0.2em;position: relative;}#sk-container-id-4 div.sk-item {position: relative;z-index: 1;}#sk-container-id-4 div.sk-parallel {display: flex;align-items: stretch;justify-content: center;background-color: white;position: relative;}#sk-container-id-4 div.sk-item::before, #sk-container-id-4 div.sk-parallel-item::before {content: \"\";position: absolute;border-left: 1px solid gray;box-sizing: border-box;top: 0;bottom: 0;left: 50%;z-index: -1;}#sk-container-id-4 div.sk-parallel-item {display: flex;flex-direction: column;z-index: 1;position: relative;background-color: white;}#sk-container-id-4 div.sk-parallel-item:first-child::after {align-self: flex-end;width: 50%;}#sk-container-id-4 div.sk-parallel-item:last-child::after {align-self: flex-start;width: 50%;}#sk-container-id-4 div.sk-parallel-item:only-child::after {width: 0;}#sk-container-id-4 div.sk-dashed-wrapped {border: 1px dashed gray;margin: 0 0.4em 0.5em 0.4em;box-sizing: border-box;padding-bottom: 0.4em;background-color: white;}#sk-container-id-4 div.sk-label label {font-family: monospace;font-weight: bold;display: inline-block;line-height: 1.2em;}#sk-container-id-4 div.sk-label-container {text-align: center;}#sk-container-id-4 div.sk-container {/* jupyter's `normalize.less` sets `[hidden] { display: none; }` but bootstrap.min.css set `[hidden] { display: none !important; }` so we also need the `!important` here to be able to override the default hidden behavior on the sphinx rendered scikit-learn.org. See: https://github.com/scikit-learn/scikit-learn/issues/21755 */display: inline-block !important;position: relative;}#sk-container-id-4 div.sk-text-repr-fallback {display: none;}</style><div id=\"sk-container-id-4\" class=\"sk-top-container\"><div class=\"sk-text-repr-fallback\"><pre>ExtraTreesRegressor(bootstrap=True, max_features=&#x27;sqrt&#x27;, n_jobs=-1,\n",
       "                    random_state=42, verbose=3)</pre><b>In a Jupyter environment, please rerun this cell to show the HTML representation or trust the notebook. <br />On GitHub, the HTML representation is unable to render, please try loading this page with nbviewer.org.</b></div><div class=\"sk-container\" hidden><div class=\"sk-item\"><div class=\"sk-estimator sk-toggleable\"><input class=\"sk-toggleable__control sk-hidden--visually\" id=\"sk-estimator-id-4\" type=\"checkbox\" checked><label for=\"sk-estimator-id-4\" class=\"sk-toggleable__label sk-toggleable__label-arrow\">ExtraTreesRegressor</label><div class=\"sk-toggleable__content\"><pre>ExtraTreesRegressor(bootstrap=True, max_features=&#x27;sqrt&#x27;, n_jobs=-1,\n",
       "                    random_state=42, verbose=3)</pre></div></div></div></div></div>"
      ],
      "text/plain": [
       "ExtraTreesRegressor(bootstrap=True, max_features='sqrt', n_jobs=-1,\n",
       "                    random_state=42, verbose=3)"
      ]
     },
     "execution_count": 179,
     "metadata": {},
     "output_type": "execute_result"
    }
   ],
   "source": [
    "from sklearn.ensemble import ExtraTreesRegressor\n",
    "model = ExtraTreesRegressor(max_features='sqrt', bootstrap=True, n_jobs=-1, random_state=42, verbose=3)\n",
    "model.fit(X_train,y_train)"
   ]
  },
  {
   "cell_type": "code",
   "execution_count": 180,
   "id": "3ae23221",
   "metadata": {},
   "outputs": [
    {
     "data": {
      "image/png": "[encoded data removed]",
      "text/plain": [
       "<Figure size 640x480 with 1 Axes>"
      ]
     },
     "metadata": {},
     "output_type": "display_data"
    }
   ],
   "source": [
    "feat_importance = pd.Series(model.feature_importances_, index=X_train.columns)\n",
    "feat_importance.nlargest(20).plot(kind=\"barh\")\n",
    "plt.show()"
   ]
  },
  {
   "cell_type": "code",
   "execution_count": 183,
   "id": "65c843b7",
   "metadata": {},
   "outputs": [],
   "source": [
    "top_40 = feat_importance.sort_values(ascending=False)[:40]\n",
    "Xtrain = pd.DataFrame()\n",
    "Xtest = pd.DataFrame()\n",
    "for col in top_40.index.tolist():\n",
    "    Xtrain[col] = X_train[col]\n",
    "    Xtest[col] = X_test[col]"
   ]
  },
  {
   "cell_type": "code",
   "execution_count": 184,
   "id": "cbe5beb4",
   "metadata": {},
   "outputs": [
    {
     "data": {
      "text/plain": [
       "Index(['feature_31', 'feature_34', 'feature_8', 'feature_2', 'feature_27',\n",
       "       'feature_26', 'feature_11', 'feature_16', 'feature_17', 'feature_10',\n",
       "       'feature_19', 'feature_18', 'feature_32', 'feature_15', 'feature_20',\n",
       "       'feature_22', 'feature_7', 'feature_30', 'feature_14_w',\n",
       "       'feature_35_Source Verified', 'duration_60 months',\n",
       "       'feature_35_Verified', 'time_10+ years',\n",
       "       'feature_23_debt_consolidation', 'feature_23_credit_card',\n",
       "       'time_3 years', 'time_< 1 year', 'time_2 years', 'time_5 years',\n",
       "       'time_4 years', 'time_8 years', 'time_6 years', 'time_7 years',\n",
       "       'feature_23_home_improvement', 'time_9 years', 'feature_23_other',\n",
       "       'feature_6', 'feature_25', 'feature_5', 'feature_33'],\n",
       "      dtype='object')"
      ]
     },
     "execution_count": 184,
     "metadata": {},
     "output_type": "execute_result"
    }
   ],
   "source": [
    "Xtrain.columns"
   ]
  },
  {
   "cell_type": "code",
   "execution_count": 185,
   "id": "4aa51c94",
   "metadata": {},
   "outputs": [
    {
     "data": {
      "text/plain": [
       "(419040, 40)"
      ]
     },
     "execution_count": 185,
     "metadata": {},
     "output_type": "execute_result"
    }
   ],
   "source": [
    "Xtrain.shape"
   ]
  },
  {
   "cell_type": "code",
   "execution_count": 186,
   "id": "3726d7c5",
   "metadata": {},
   "outputs": [
    {
     "data": {
      "text/plain": [
       "(225637, 40)"
      ]
     },
     "execution_count": 186,
     "metadata": {},
     "output_type": "execute_result"
    }
   ],
   "source": [
    "Xtest.shape"
   ]
  },
  {
   "cell_type": "code",
   "execution_count": 187,
   "id": "b9ff7ee4",
   "metadata": {},
   "outputs": [],
   "source": [
    "Xtrain.rename(columns={'60 months': 'Sixty_months'}, inplace=True)"
   ]
  },
  {
   "cell_type": "code",
   "execution_count": 188,
   "id": "5471a960",
   "metadata": {},
   "outputs": [],
   "source": [
    "Xtest.rename(columns={'60 months': 'Sixty_months'}, inplace=True)"
   ]
  },
  {
   "cell_type": "code",
   "execution_count": 189,
   "id": "d76ce6ff",
   "metadata": {},
   "outputs": [],
   "source": [
    "# X_train.drop(columns=cat_cols_train, axis=1, inplace=True)"
   ]
  },
  {
   "cell_type": "code",
   "execution_count": 190,
   "id": "c8a170e6",
   "metadata": {},
   "outputs": [
    {
     "data": {
      "text/html": [
       "<div>\n",
       "<style scoped>\n",
       "    .dataframe tbody tr th:only-of-type {\n",
       "        vertical-align: middle;\n",
       "    }\n",
       "\n",
       "    .dataframe tbody tr th {\n",
       "        vertical-align: top;\n",
       "    }\n",
       "\n",
       "    .dataframe thead th {\n",
       "        text-align: right;\n",
       "    }\n",
       "</style>\n",
       "<table border=\"1\" class=\"dataframe\">\n",
       "  <thead>\n",
       "    <tr style=\"text-align: right;\">\n",
       "      <th></th>\n",
       "      <th>feature_31</th>\n",
       "      <th>feature_34</th>\n",
       "      <th>feature_8</th>\n",
       "      <th>feature_2</th>\n",
       "      <th>feature_27</th>\n",
       "      <th>feature_26</th>\n",
       "      <th>feature_11</th>\n",
       "      <th>feature_16</th>\n",
       "      <th>feature_17</th>\n",
       "      <th>feature_10</th>\n",
       "      <th>...</th>\n",
       "      <th>time_8 years</th>\n",
       "      <th>time_6 years</th>\n",
       "      <th>time_7 years</th>\n",
       "      <th>feature_23_home_improvement</th>\n",
       "      <th>time_9 years</th>\n",
       "      <th>feature_23_other</th>\n",
       "      <th>feature_6</th>\n",
       "      <th>feature_25</th>\n",
       "      <th>feature_5</th>\n",
       "      <th>feature_33</th>\n",
       "    </tr>\n",
       "  </thead>\n",
       "  <tbody>\n",
       "    <tr>\n",
       "      <th>0</th>\n",
       "      <td>-0.648317</td>\n",
       "      <td>0.144160</td>\n",
       "      <td>0.020507</td>\n",
       "      <td>0.824910</td>\n",
       "      <td>1.519837</td>\n",
       "      <td>0.746676</td>\n",
       "      <td>-0.707676</td>\n",
       "      <td>0.968689</td>\n",
       "      <td>-0.707691</td>\n",
       "      <td>-0.707691</td>\n",
       "      <td>...</td>\n",
       "      <td>0</td>\n",
       "      <td>0</td>\n",
       "      <td>0</td>\n",
       "      <td>0</td>\n",
       "      <td>0</td>\n",
       "      <td>0</td>\n",
       "      <td>-0.111513</td>\n",
       "      <td>-0.107284</td>\n",
       "      <td>-0.081076</td>\n",
       "      <td>-0.086984</td>\n",
       "    </tr>\n",
       "    <tr>\n",
       "      <th>1</th>\n",
       "      <td>-0.155785</td>\n",
       "      <td>0.459453</td>\n",
       "      <td>0.443138</td>\n",
       "      <td>-0.387490</td>\n",
       "      <td>-0.199386</td>\n",
       "      <td>0.338926</td>\n",
       "      <td>-0.757812</td>\n",
       "      <td>0.737278</td>\n",
       "      <td>-0.757824</td>\n",
       "      <td>-0.757824</td>\n",
       "      <td>...</td>\n",
       "      <td>0</td>\n",
       "      <td>0</td>\n",
       "      <td>0</td>\n",
       "      <td>0</td>\n",
       "      <td>0</td>\n",
       "      <td>0</td>\n",
       "      <td>-0.111513</td>\n",
       "      <td>-0.107284</td>\n",
       "      <td>-0.081076</td>\n",
       "      <td>-0.086984</td>\n",
       "    </tr>\n",
       "    <tr>\n",
       "      <th>2</th>\n",
       "      <td>-0.646396</td>\n",
       "      <td>-0.394013</td>\n",
       "      <td>0.481653</td>\n",
       "      <td>-0.539040</td>\n",
       "      <td>0.651714</td>\n",
       "      <td>-0.209654</td>\n",
       "      <td>-0.728214</td>\n",
       "      <td>-0.070393</td>\n",
       "      <td>-0.728228</td>\n",
       "      <td>-0.728228</td>\n",
       "      <td>...</td>\n",
       "      <td>0</td>\n",
       "      <td>0</td>\n",
       "      <td>0</td>\n",
       "      <td>0</td>\n",
       "      <td>0</td>\n",
       "      <td>0</td>\n",
       "      <td>-0.111513</td>\n",
       "      <td>-0.107284</td>\n",
       "      <td>-0.081076</td>\n",
       "      <td>-0.086984</td>\n",
       "    </tr>\n",
       "    <tr>\n",
       "      <th>3</th>\n",
       "      <td>-0.773697</td>\n",
       "      <td>-0.326062</td>\n",
       "      <td>-0.012872</td>\n",
       "      <td>-0.387490</td>\n",
       "      <td>-1.905844</td>\n",
       "      <td>-0.666192</td>\n",
       "      <td>-0.712776</td>\n",
       "      <td>2.198345</td>\n",
       "      <td>-0.712722</td>\n",
       "      <td>-0.712721</td>\n",
       "      <td>...</td>\n",
       "      <td>0</td>\n",
       "      <td>0</td>\n",
       "      <td>0</td>\n",
       "      <td>0</td>\n",
       "      <td>0</td>\n",
       "      <td>0</td>\n",
       "      <td>-0.111513</td>\n",
       "      <td>-0.107284</td>\n",
       "      <td>-0.081076</td>\n",
       "      <td>-0.086984</td>\n",
       "    </tr>\n",
       "    <tr>\n",
       "      <th>4</th>\n",
       "      <td>-0.251098</td>\n",
       "      <td>-0.464682</td>\n",
       "      <td>-0.266040</td>\n",
       "      <td>-0.463265</td>\n",
       "      <td>0.745335</td>\n",
       "      <td>-0.276063</td>\n",
       "      <td>-0.736766</td>\n",
       "      <td>0.179168</td>\n",
       "      <td>-0.736779</td>\n",
       "      <td>-0.736779</td>\n",
       "      <td>...</td>\n",
       "      <td>0</td>\n",
       "      <td>0</td>\n",
       "      <td>0</td>\n",
       "      <td>0</td>\n",
       "      <td>0</td>\n",
       "      <td>0</td>\n",
       "      <td>-0.111513</td>\n",
       "      <td>-0.107284</td>\n",
       "      <td>-0.081076</td>\n",
       "      <td>-0.086984</td>\n",
       "    </tr>\n",
       "  </tbody>\n",
       "</table>\n",
       "<p>5 rows × 40 columns</p>\n",
       "</div>"
      ],
      "text/plain": [
       "   feature_31  feature_34  feature_8  feature_2  feature_27  feature_26  \\\n",
       "0   -0.648317    0.144160   0.020507   0.824910    1.519837    0.746676   \n",
       "1   -0.155785    0.459453   0.443138  -0.387490   -0.199386    0.338926   \n",
       "2   -0.646396   -0.394013   0.481653  -0.539040    0.651714   -0.209654   \n",
       "3   -0.773697   -0.326062  -0.012872  -0.387490   -1.905844   -0.666192   \n",
       "4   -0.251098   -0.464682  -0.266040  -0.463265    0.745335   -0.276063   \n",
       "\n",
       "   feature_11  feature_16  feature_17  feature_10  ...  time_8 years  \\\n",
       "0   -0.707676    0.968689   -0.707691   -0.707691  ...             0   \n",
       "1   -0.757812    0.737278   -0.757824   -0.757824  ...             0   \n",
       "2   -0.728214   -0.070393   -0.728228   -0.728228  ...             0   \n",
       "3   -0.712776    2.198345   -0.712722   -0.712721  ...             0   \n",
       "4   -0.736766    0.179168   -0.736779   -0.736779  ...             0   \n",
       "\n",
       "   time_6 years  time_7 years  feature_23_home_improvement  time_9 years  \\\n",
       "0             0             0                            0             0   \n",
       "1             0             0                            0             0   \n",
       "2             0             0                            0             0   \n",
       "3             0             0                            0             0   \n",
       "4             0             0                            0             0   \n",
       "\n",
       "   feature_23_other  feature_6  feature_25  feature_5  feature_33  \n",
       "0                 0  -0.111513   -0.107284  -0.081076   -0.086984  \n",
       "1                 0  -0.111513   -0.107284  -0.081076   -0.086984  \n",
       "2                 0  -0.111513   -0.107284  -0.081076   -0.086984  \n",
       "3                 0  -0.111513   -0.107284  -0.081076   -0.086984  \n",
       "4                 0  -0.111513   -0.107284  -0.081076   -0.086984  \n",
       "\n",
       "[5 rows x 40 columns]"
      ]
     },
     "execution_count": 190,
     "metadata": {},
     "output_type": "execute_result"
    }
   ],
   "source": [
    "Xtrain.head()"
   ]
  },
  {
   "cell_type": "code",
   "execution_count": 191,
   "id": "7bf8bf77",
   "metadata": {},
   "outputs": [
    {
     "data": {
      "text/html": [
       "<div>\n",
       "<style scoped>\n",
       "    .dataframe tbody tr th:only-of-type {\n",
       "        vertical-align: middle;\n",
       "    }\n",
       "\n",
       "    .dataframe tbody tr th {\n",
       "        vertical-align: top;\n",
       "    }\n",
       "\n",
       "    .dataframe thead th {\n",
       "        text-align: right;\n",
       "    }\n",
       "</style>\n",
       "<table border=\"1\" class=\"dataframe\">\n",
       "  <thead>\n",
       "    <tr style=\"text-align: right;\">\n",
       "      <th></th>\n",
       "      <th>feature_31</th>\n",
       "      <th>feature_34</th>\n",
       "      <th>feature_8</th>\n",
       "      <th>feature_2</th>\n",
       "      <th>feature_27</th>\n",
       "      <th>feature_26</th>\n",
       "      <th>feature_11</th>\n",
       "      <th>feature_16</th>\n",
       "      <th>feature_17</th>\n",
       "      <th>feature_10</th>\n",
       "      <th>...</th>\n",
       "      <th>time_8 years</th>\n",
       "      <th>time_6 years</th>\n",
       "      <th>time_7 years</th>\n",
       "      <th>feature_23_home_improvement</th>\n",
       "      <th>time_9 years</th>\n",
       "      <th>feature_23_other</th>\n",
       "      <th>feature_6</th>\n",
       "      <th>feature_25</th>\n",
       "      <th>feature_5</th>\n",
       "      <th>feature_33</th>\n",
       "    </tr>\n",
       "  </thead>\n",
       "  <tbody>\n",
       "    <tr>\n",
       "      <th>419040</th>\n",
       "      <td>-0.800941</td>\n",
       "      <td>-0.328780</td>\n",
       "      <td>0.629034</td>\n",
       "      <td>-0.508730</td>\n",
       "      <td>1.026199</td>\n",
       "      <td>-0.056250</td>\n",
       "      <td>1.289602</td>\n",
       "      <td>0.156481</td>\n",
       "      <td>1.289481</td>\n",
       "      <td>1.289481</td>\n",
       "      <td>...</td>\n",
       "      <td>0</td>\n",
       "      <td>1</td>\n",
       "      <td>0</td>\n",
       "      <td>0</td>\n",
       "      <td>0</td>\n",
       "      <td>0</td>\n",
       "      <td>-0.111513</td>\n",
       "      <td>-0.107284</td>\n",
       "      <td>-0.081076</td>\n",
       "      <td>-0.086984</td>\n",
       "    </tr>\n",
       "    <tr>\n",
       "      <th>419041</th>\n",
       "      <td>-0.096748</td>\n",
       "      <td>1.247686</td>\n",
       "      <td>-0.237282</td>\n",
       "      <td>-0.357180</td>\n",
       "      <td>-1.182408</td>\n",
       "      <td>0.190481</td>\n",
       "      <td>1.478556</td>\n",
       "      <td>-1.545073</td>\n",
       "      <td>1.478425</td>\n",
       "      <td>1.478426</td>\n",
       "      <td>...</td>\n",
       "      <td>0</td>\n",
       "      <td>0</td>\n",
       "      <td>0</td>\n",
       "      <td>0</td>\n",
       "      <td>0</td>\n",
       "      <td>0</td>\n",
       "      <td>-0.111513</td>\n",
       "      <td>-0.107284</td>\n",
       "      <td>-0.081076</td>\n",
       "      <td>-0.086984</td>\n",
       "    </tr>\n",
       "    <tr>\n",
       "      <th>419042</th>\n",
       "      <td>1.749403</td>\n",
       "      <td>0.989472</td>\n",
       "      <td>-0.536667</td>\n",
       "      <td>0.749135</td>\n",
       "      <td>-0.156831</td>\n",
       "      <td>0.804717</td>\n",
       "      <td>1.555018</td>\n",
       "      <td>-1.227450</td>\n",
       "      <td>1.554882</td>\n",
       "      <td>1.554883</td>\n",
       "      <td>...</td>\n",
       "      <td>0</td>\n",
       "      <td>0</td>\n",
       "      <td>0</td>\n",
       "      <td>0</td>\n",
       "      <td>0</td>\n",
       "      <td>0</td>\n",
       "      <td>-0.111513</td>\n",
       "      <td>-0.107284</td>\n",
       "      <td>-0.081076</td>\n",
       "      <td>-0.086984</td>\n",
       "    </tr>\n",
       "    <tr>\n",
       "      <th>419043</th>\n",
       "      <td>2.187143</td>\n",
       "      <td>0.818235</td>\n",
       "      <td>0.478058</td>\n",
       "      <td>0.094924</td>\n",
       "      <td>-0.612170</td>\n",
       "      <td>0.367659</td>\n",
       "      <td>1.342414</td>\n",
       "      <td>-0.410704</td>\n",
       "      <td>1.342290</td>\n",
       "      <td>1.342290</td>\n",
       "      <td>...</td>\n",
       "      <td>0</td>\n",
       "      <td>0</td>\n",
       "      <td>0</td>\n",
       "      <td>0</td>\n",
       "      <td>0</td>\n",
       "      <td>0</td>\n",
       "      <td>-0.111513</td>\n",
       "      <td>-0.107284</td>\n",
       "      <td>-0.081076</td>\n",
       "      <td>-0.086984</td>\n",
       "    </tr>\n",
       "    <tr>\n",
       "      <th>419044</th>\n",
       "      <td>-0.084541</td>\n",
       "      <td>1.845656</td>\n",
       "      <td>-0.232147</td>\n",
       "      <td>0.294485</td>\n",
       "      <td>-0.876012</td>\n",
       "      <td>0.775807</td>\n",
       "      <td>1.607829</td>\n",
       "      <td>-0.937051</td>\n",
       "      <td>1.607692</td>\n",
       "      <td>1.607692</td>\n",
       "      <td>...</td>\n",
       "      <td>0</td>\n",
       "      <td>0</td>\n",
       "      <td>0</td>\n",
       "      <td>0</td>\n",
       "      <td>0</td>\n",
       "      <td>0</td>\n",
       "      <td>-0.111513</td>\n",
       "      <td>-0.107284</td>\n",
       "      <td>-0.081076</td>\n",
       "      <td>-0.086984</td>\n",
       "    </tr>\n",
       "  </tbody>\n",
       "</table>\n",
       "<p>5 rows × 40 columns</p>\n",
       "</div>"
      ],
      "text/plain": [
       "        feature_31  feature_34  feature_8  feature_2  feature_27  feature_26  \\\n",
       "419040   -0.800941   -0.328780   0.629034  -0.508730    1.026199   -0.056250   \n",
       "419041   -0.096748    1.247686  -0.237282  -0.357180   -1.182408    0.190481   \n",
       "419042    1.749403    0.989472  -0.536667   0.749135   -0.156831    0.804717   \n",
       "419043    2.187143    0.818235   0.478058   0.094924   -0.612170    0.367659   \n",
       "419044   -0.084541    1.845656  -0.232147   0.294485   -0.876012    0.775807   \n",
       "\n",
       "        feature_11  feature_16  feature_17  feature_10  ...  time_8 years  \\\n",
       "419040    1.289602    0.156481    1.289481    1.289481  ...             0   \n",
       "419041    1.478556   -1.545073    1.478425    1.478426  ...             0   \n",
       "419042    1.555018   -1.227450    1.554882    1.554883  ...             0   \n",
       "419043    1.342414   -0.410704    1.342290    1.342290  ...             0   \n",
       "419044    1.607829   -0.937051    1.607692    1.607692  ...             0   \n",
       "\n",
       "        time_6 years  time_7 years  feature_23_home_improvement  time_9 years  \\\n",
       "419040             1             0                            0             0   \n",
       "419041             0             0                            0             0   \n",
       "419042             0             0                            0             0   \n",
       "419043             0             0                            0             0   \n",
       "419044             0             0                            0             0   \n",
       "\n",
       "        feature_23_other  feature_6  feature_25  feature_5  feature_33  \n",
       "419040                 0  -0.111513   -0.107284  -0.081076   -0.086984  \n",
       "419041                 0  -0.111513   -0.107284  -0.081076   -0.086984  \n",
       "419042                 0  -0.111513   -0.107284  -0.081076   -0.086984  \n",
       "419043                 0  -0.111513   -0.107284  -0.081076   -0.086984  \n",
       "419044                 0  -0.111513   -0.107284  -0.081076   -0.086984  \n",
       "\n",
       "[5 rows x 40 columns]"
      ]
     },
     "execution_count": 191,
     "metadata": {},
     "output_type": "execute_result"
    }
   ],
   "source": [
    "Xtest.head()"
   ]
  },
  {
   "cell_type": "code",
   "execution_count": 192,
   "id": "c009f4f4",
   "metadata": {},
   "outputs": [
    {
     "name": "stdout",
     "output_type": "stream",
     "text": [
      "(419040, 40)\n"
     ]
    }
   ],
   "source": [
    "print(Xtrain.shape)"
   ]
  },
  {
   "cell_type": "code",
   "execution_count": 193,
   "id": "999a0714",
   "metadata": {},
   "outputs": [
    {
     "name": "stdout",
     "output_type": "stream",
     "text": [
      "(225637, 40)\n"
     ]
    }
   ],
   "source": [
    "print(Xtest.shape)"
   ]
  },
  {
   "cell_type": "code",
   "execution_count": 194,
   "id": "25f660fc",
   "metadata": {},
   "outputs": [
    {
     "data": {
      "text/plain": [
       "False"
      ]
     },
     "execution_count": 194,
     "metadata": {},
     "output_type": "execute_result"
    }
   ],
   "source": [
    "'target' in Xtrain.columns"
   ]
  },
  {
   "cell_type": "code",
   "execution_count": 195,
   "id": "35d6813d",
   "metadata": {},
   "outputs": [
    {
     "name": "stdout",
     "output_type": "stream",
     "text": [
      "(419040,)\n"
     ]
    }
   ],
   "source": [
    "print(y_train.shape)"
   ]
  },
  {
   "cell_type": "code",
   "execution_count": 196,
   "id": "e1c86db7",
   "metadata": {},
   "outputs": [],
   "source": [
    "params = {\n",
    "    'learning_rate':[0.05, 0.1, 0.15, 0.2, 0.25, 0.3],\n",
    "    'max_depth':[3, 5, 7, 9, 11],\n",
    "    'min_child_weight':[1, 3, 5],\n",
    "    'gamma':[0.0, 0.1, 0.2, 0.3],\n",
    "    'colsample_bytree':[0.3, 0.4, 0.5, 0.7]\n",
    "}"
   ]
  },
  {
   "cell_type": "code",
   "execution_count": 197,
   "id": "31364ee0",
   "metadata": {},
   "outputs": [],
   "source": [
    "from sklearn.model_selection import RandomizedSearchCV\n",
    "import xgboost\n",
    "import datetime"
   ]
  },
  {
   "cell_type": "code",
   "execution_count": 198,
   "id": "0671d649",
   "metadata": {},
   "outputs": [
    {
     "name": "stdout",
     "output_type": "stream",
     "text": [
      "(419040, 40)\n",
      "(419040,)\n"
     ]
    }
   ],
   "source": [
    "def timer(start_time=None):\n",
    "    if not start_time:\n",
    "        start_time = datetime.now()\n",
    "        return start_time\n",
    "    elif start_time:\n",
    "        thour, temp_sec = divmod((datetime.now() - start_time).total_seconds(), 3600)\n",
    "        tmin, tsec = divmod(temp_sec, 60)\n",
    "        print('\\n Time taken: %i hours %i minutes and %s seconds'%(thour, tmin, round(tsec,2)))\n",
    "    \n",
    "print(Xtrain.shape)\n",
    "print(y_train.shape)"
   ]
  },
  {
   "cell_type": "code",
   "execution_count": 212,
   "id": "54e913e4",
   "metadata": {},
   "outputs": [],
   "source": [
    "Xtrain.rename(columns={'time_2 years': '2_years', \n",
    "                       'time_< 1 year' : 'less_than_1_year', \n",
    "                       'time_3 years' : '3_years', \n",
    "                       'time_4 years': '4_years', \n",
    "                       'time_5 years': '5_years',\n",
    "                       'time_8 years': '8_years', \n",
    "                       'time_7 years': '7_years', \n",
    "                       'time_6 years': '6_years', \n",
    "                       'time_9 years' : '9_years',\n",
    "                       'time_10+ years': 'ten_plus_years',\n",
    "                      'feature_35_Source Verified' : 'Source_Verified'}, inplace=True)"
   ]
  },
  {
   "cell_type": "code",
   "execution_count": 217,
   "id": "fd610e71",
   "metadata": {},
   "outputs": [],
   "source": [
    "Xtest.rename(columns={'time_2 years': '2_years', \n",
    "                       'time_< 1 year' : 'less_than_1_year', \n",
    "                       'time_3 years' : '3_years', \n",
    "                       'time_4 years': '4_years', \n",
    "                       'time_5 years': '5_years',\n",
    "                       'time_8 years': '8_years', \n",
    "                       'time_7 years': '7_years', \n",
    "                       'time_6 years': '6_years', \n",
    "                       'time_9 years' : '9_years',\n",
    "                       'time_10+ years': 'ten_plus_years',\n",
    "                      'feature_35_Source Verified' : 'Source_Verified'}, inplace=True)"
   ]
  },
  {
   "cell_type": "code",
   "execution_count": 218,
   "id": "bb84cc70",
   "metadata": {},
   "outputs": [],
   "source": [
    "from sklearn.model_selection import train_test_split\n",
    "X_train, X_val, y_train, y_val = train_test_split(Xtrain, y_train, test_size=0.33, random_state=42)"
   ]
  },
  {
   "cell_type": "code",
   "execution_count": 219,
   "id": "4e4183d2",
   "metadata": {},
   "outputs": [
    {
     "data": {
      "text/plain": [
       "(138284, 40)"
      ]
     },
     "execution_count": 219,
     "metadata": {},
     "output_type": "execute_result"
    }
   ],
   "source": [
    "X_train.shape\n",
    "X_val.shape"
   ]
  },
  {
   "cell_type": "code",
   "execution_count": 220,
   "id": "9e4fe0b1",
   "metadata": {},
   "outputs": [
    {
     "data": {
      "text/html": [
       "<div>\n",
       "<style scoped>\n",
       "    .dataframe tbody tr th:only-of-type {\n",
       "        vertical-align: middle;\n",
       "    }\n",
       "\n",
       "    .dataframe tbody tr th {\n",
       "        vertical-align: top;\n",
       "    }\n",
       "\n",
       "    .dataframe thead th {\n",
       "        text-align: right;\n",
       "    }\n",
       "</style>\n",
       "<table border=\"1\" class=\"dataframe\">\n",
       "  <thead>\n",
       "    <tr style=\"text-align: right;\">\n",
       "      <th></th>\n",
       "      <th>feature_31</th>\n",
       "      <th>feature_34</th>\n",
       "      <th>feature_8</th>\n",
       "      <th>feature_2</th>\n",
       "      <th>feature_27</th>\n",
       "      <th>feature_26</th>\n",
       "      <th>feature_11</th>\n",
       "      <th>feature_16</th>\n",
       "      <th>feature_17</th>\n",
       "      <th>feature_10</th>\n",
       "      <th>...</th>\n",
       "      <th>8_years</th>\n",
       "      <th>6_years</th>\n",
       "      <th>7_years</th>\n",
       "      <th>feature_23_home_improvement</th>\n",
       "      <th>9_years</th>\n",
       "      <th>feature_23_other</th>\n",
       "      <th>feature_6</th>\n",
       "      <th>feature_25</th>\n",
       "      <th>feature_5</th>\n",
       "      <th>feature_33</th>\n",
       "    </tr>\n",
       "  </thead>\n",
       "  <tbody>\n",
       "    <tr>\n",
       "      <th>298545</th>\n",
       "      <td>-0.480079</td>\n",
       "      <td>-0.358678</td>\n",
       "      <td>0.863715</td>\n",
       "      <td>-0.387490</td>\n",
       "      <td>-0.531316</td>\n",
       "      <td>-0.401310</td>\n",
       "      <td>-0.734526</td>\n",
       "      <td>1.034482</td>\n",
       "      <td>-0.734540</td>\n",
       "      <td>-0.734540</td>\n",
       "      <td>...</td>\n",
       "      <td>0</td>\n",
       "      <td>0</td>\n",
       "      <td>0</td>\n",
       "      <td>0</td>\n",
       "      <td>0</td>\n",
       "      <td>0</td>\n",
       "      <td>-0.111513</td>\n",
       "      <td>-0.107284</td>\n",
       "      <td>-0.081076</td>\n",
       "      <td>-0.086984</td>\n",
       "    </tr>\n",
       "    <tr>\n",
       "      <th>320007</th>\n",
       "      <td>-0.535923</td>\n",
       "      <td>-0.540788</td>\n",
       "      <td>0.033345</td>\n",
       "      <td>0.036850</td>\n",
       "      <td>-0.952611</td>\n",
       "      <td>-0.581543</td>\n",
       "      <td>-0.735544</td>\n",
       "      <td>0.306217</td>\n",
       "      <td>-0.735162</td>\n",
       "      <td>-0.735162</td>\n",
       "      <td>...</td>\n",
       "      <td>0</td>\n",
       "      <td>0</td>\n",
       "      <td>0</td>\n",
       "      <td>0</td>\n",
       "      <td>0</td>\n",
       "      <td>0</td>\n",
       "      <td>-0.111513</td>\n",
       "      <td>-0.107284</td>\n",
       "      <td>-0.081076</td>\n",
       "      <td>-0.086984</td>\n",
       "    </tr>\n",
       "    <tr>\n",
       "      <th>99624</th>\n",
       "      <td>-0.754832</td>\n",
       "      <td>-0.451092</td>\n",
       "      <td>-0.333825</td>\n",
       "      <td>-0.129855</td>\n",
       "      <td>1.119820</td>\n",
       "      <td>-0.199117</td>\n",
       "      <td>-0.717229</td>\n",
       "      <td>-1.454324</td>\n",
       "      <td>-0.717243</td>\n",
       "      <td>-0.717243</td>\n",
       "      <td>...</td>\n",
       "      <td>0</td>\n",
       "      <td>0</td>\n",
       "      <td>0</td>\n",
       "      <td>0</td>\n",
       "      <td>0</td>\n",
       "      <td>0</td>\n",
       "      <td>-0.111513</td>\n",
       "      <td>-0.107284</td>\n",
       "      <td>-0.081076</td>\n",
       "      <td>-0.086984</td>\n",
       "    </tr>\n",
       "    <tr>\n",
       "      <th>305088</th>\n",
       "      <td>0.456982</td>\n",
       "      <td>-0.345088</td>\n",
       "      <td>0.456490</td>\n",
       "      <td>0.446035</td>\n",
       "      <td>0.370851</td>\n",
       "      <td>-0.209698</td>\n",
       "      <td>-0.723279</td>\n",
       "      <td>1.411093</td>\n",
       "      <td>-0.723293</td>\n",
       "      <td>-0.723293</td>\n",
       "      <td>...</td>\n",
       "      <td>0</td>\n",
       "      <td>0</td>\n",
       "      <td>0</td>\n",
       "      <td>0</td>\n",
       "      <td>1</td>\n",
       "      <td>0</td>\n",
       "      <td>-0.111513</td>\n",
       "      <td>-0.107284</td>\n",
       "      <td>-0.081076</td>\n",
       "      <td>-0.086984</td>\n",
       "    </tr>\n",
       "    <tr>\n",
       "      <th>239482</th>\n",
       "      <td>0.674976</td>\n",
       "      <td>0.225701</td>\n",
       "      <td>-0.419583</td>\n",
       "      <td>0.370260</td>\n",
       "      <td>-0.475994</td>\n",
       "      <td>0.030214</td>\n",
       "      <td>-0.708846</td>\n",
       "      <td>-0.998307</td>\n",
       "      <td>-0.708861</td>\n",
       "      <td>-0.708861</td>\n",
       "      <td>...</td>\n",
       "      <td>0</td>\n",
       "      <td>0</td>\n",
       "      <td>0</td>\n",
       "      <td>0</td>\n",
       "      <td>0</td>\n",
       "      <td>0</td>\n",
       "      <td>-0.111513</td>\n",
       "      <td>-0.107284</td>\n",
       "      <td>-0.081076</td>\n",
       "      <td>-0.086984</td>\n",
       "    </tr>\n",
       "  </tbody>\n",
       "</table>\n",
       "<p>5 rows × 40 columns</p>\n",
       "</div>"
      ],
      "text/plain": [
       "        feature_31  feature_34  feature_8  feature_2  feature_27  feature_26  \\\n",
       "298545   -0.480079   -0.358678   0.863715  -0.387490   -0.531316   -0.401310   \n",
       "320007   -0.535923   -0.540788   0.033345   0.036850   -0.952611   -0.581543   \n",
       "99624    -0.754832   -0.451092  -0.333825  -0.129855    1.119820   -0.199117   \n",
       "305088    0.456982   -0.345088   0.456490   0.446035    0.370851   -0.209698   \n",
       "239482    0.674976    0.225701  -0.419583   0.370260   -0.475994    0.030214   \n",
       "\n",
       "        feature_11  feature_16  feature_17  feature_10  ...  8_years  6_years  \\\n",
       "298545   -0.734526    1.034482   -0.734540   -0.734540  ...        0        0   \n",
       "320007   -0.735544    0.306217   -0.735162   -0.735162  ...        0        0   \n",
       "99624    -0.717229   -1.454324   -0.717243   -0.717243  ...        0        0   \n",
       "305088   -0.723279    1.411093   -0.723293   -0.723293  ...        0        0   \n",
       "239482   -0.708846   -0.998307   -0.708861   -0.708861  ...        0        0   \n",
       "\n",
       "        7_years  feature_23_home_improvement  9_years  feature_23_other  \\\n",
       "298545        0                            0        0                 0   \n",
       "320007        0                            0        0                 0   \n",
       "99624         0                            0        0                 0   \n",
       "305088        0                            0        1                 0   \n",
       "239482        0                            0        0                 0   \n",
       "\n",
       "        feature_6  feature_25  feature_5  feature_33  \n",
       "298545  -0.111513   -0.107284  -0.081076   -0.086984  \n",
       "320007  -0.111513   -0.107284  -0.081076   -0.086984  \n",
       "99624   -0.111513   -0.107284  -0.081076   -0.086984  \n",
       "305088  -0.111513   -0.107284  -0.081076   -0.086984  \n",
       "239482  -0.111513   -0.107284  -0.081076   -0.086984  \n",
       "\n",
       "[5 rows x 40 columns]"
      ]
     },
     "execution_count": 220,
     "metadata": {},
     "output_type": "execute_result"
    }
   ],
   "source": [
    "X_train.head()"
   ]
  },
  {
   "cell_type": "code",
   "execution_count": 221,
   "id": "19b4d5ea",
   "metadata": {},
   "outputs": [
    {
     "data": {
      "text/plain": [
       "Index(['feature_31', 'feature_34', 'feature_8', 'feature_2', 'feature_27',\n",
       "       'feature_26', 'feature_11', 'feature_16', 'feature_17', 'feature_10',\n",
       "       'feature_19', 'feature_18', 'feature_32', 'feature_15', 'feature_20',\n",
       "       'feature_22', 'feature_7', 'feature_30', 'feature_14_w',\n",
       "       'Source_Verified', 'duration_60 months', 'feature_35_Verified',\n",
       "       'ten_plus_years', 'feature_23_debt_consolidation',\n",
       "       'feature_23_credit_card', '3_years', 'less_than_1_year', '2_years',\n",
       "       '5_years', '4_years', '8_years', '6_years', '7_years',\n",
       "       'feature_23_home_improvement', '9_years', 'feature_23_other',\n",
       "       'feature_6', 'feature_25', 'feature_5', 'feature_33'],\n",
       "      dtype='object')"
      ]
     },
     "execution_count": 221,
     "metadata": {},
     "output_type": "execute_result"
    }
   ],
   "source": [
    "X_train.columns"
   ]
  },
  {
   "cell_type": "code",
   "execution_count": 222,
   "id": "559d4815",
   "metadata": {},
   "outputs": [],
   "source": [
    "xgb_regressor = xgboost.XGBRegressor(reg_alpha=0.4, reg_lambda=0.7) #reg_alpha=0.4, reg_lambda=0.7"
   ]
  },
  {
   "cell_type": "code",
   "execution_count": 223,
   "id": "612396c0",
   "metadata": {},
   "outputs": [],
   "source": [
    "from sklearn.metrics import make_scorer, mean_squared_error\n",
    "def custom_scoring_function(y_true, y_pred):\n",
    "    # Apply transformation to handle negative values\n",
    "    y_true_transformed = np.log1p(y_true)\n",
    "    y_pred_transformed = np.log1p(y_pred)\n",
    "    return mean_squared_error(y_true_transformed, y_pred_transformed)\n",
    "\n",
    "custom_scorer = make_scorer(custom_scoring_function, greater_is_better=False)\n"
   ]
  },
  {
   "cell_type": "code",
   "execution_count": 224,
   "id": "d10fb746",
   "metadata": {},
   "outputs": [],
   "source": [
    "xgb_search = RandomizedSearchCV(estimator=xgb_regressor, param_distributions=params, n_iter=5, \n",
    "                               scoring=custom_scorer, error_score='raise', n_jobs=-1, cv=3, verbose=3)"
   ]
  },
  {
   "cell_type": "code",
   "execution_count": 225,
   "id": "7e5711b5",
   "metadata": {},
   "outputs": [
    {
     "data": {
      "text/plain": [
       "(280756, 40)"
      ]
     },
     "execution_count": 225,
     "metadata": {},
     "output_type": "execute_result"
    }
   ],
   "source": [
    "X_train.shape"
   ]
  },
  {
   "cell_type": "code",
   "execution_count": 226,
   "id": "7a4eddfc",
   "metadata": {},
   "outputs": [
    {
     "name": "stdout",
     "output_type": "stream",
     "text": [
      "Fitting 3 folds for each of 5 candidates, totalling 15 fits\n",
      "\n",
      " Time taken: 0 hours 2 minutes and 59.21 seconds\n"
     ]
    }
   ],
   "source": [
    "from datetime import datetime\n",
    "start_time = timer(None)\n",
    "xgb_search.fit(X_train, y_train)\n",
    "timer(start_time)"
   ]
  },
  {
   "cell_type": "code",
   "execution_count": 227,
   "id": "23b77713",
   "metadata": {},
   "outputs": [
    {
     "data": {
      "text/plain": [
       "Index(['feature_31', 'feature_34', 'feature_8', 'feature_2', 'feature_27',\n",
       "       'feature_26', 'feature_11', 'feature_16', 'feature_17', 'feature_10',\n",
       "       'feature_19', 'feature_18', 'feature_32', 'feature_15', 'feature_20',\n",
       "       'feature_22', 'feature_7', 'feature_30', 'feature_14_w',\n",
       "       'Source_Verified', 'duration_60 months', 'feature_35_Verified',\n",
       "       'ten_plus_years', 'feature_23_debt_consolidation',\n",
       "       'feature_23_credit_card', '3_years', 'less_than_1_year', '2_years',\n",
       "       '5_years', '4_years', '8_years', '6_years', '7_years',\n",
       "       'feature_23_home_improvement', '9_years', 'feature_23_other',\n",
       "       'feature_6', 'feature_25', 'feature_5', 'feature_33'],\n",
       "      dtype='object')"
      ]
     },
     "execution_count": 227,
     "metadata": {},
     "output_type": "execute_result"
    }
   ],
   "source": [
    "X_train.columns"
   ]
  },
  {
   "cell_type": "code",
   "execution_count": 228,
   "id": "f3502f17",
   "metadata": {},
   "outputs": [],
   "source": [
    "best_params = xgb_search.best_params_"
   ]
  },
  {
   "cell_type": "code",
   "execution_count": 229,
   "id": "284c2eea",
   "metadata": {},
   "outputs": [
    {
     "data": {
      "text/plain": [
       "{'min_child_weight': 5,\n",
       " 'max_depth': 9,\n",
       " 'learning_rate': 0.1,\n",
       " 'gamma': 0.2,\n",
       " 'colsample_bytree': 0.5}"
      ]
     },
     "execution_count": 229,
     "metadata": {},
     "output_type": "execute_result"
    }
   ],
   "source": [
    "best_params"
   ]
  },
  {
   "cell_type": "code",
   "execution_count": 230,
   "id": "b5026f04",
   "metadata": {},
   "outputs": [],
   "source": [
    "xgb_regressor = xgboost.XGBRegressor(**best_params)"
   ]
  },
  {
   "cell_type": "code",
   "execution_count": 231,
   "id": "ced5cc16",
   "metadata": {},
   "outputs": [
    {
     "data": {
      "text/html": [
       "<style>#sk-container-id-5 {color: black;background-color: white;}#sk-container-id-5 pre{padding: 0;}#sk-container-id-5 div.sk-toggleable {background-color: white;}#sk-container-id-5 label.sk-toggleable__label {cursor: pointer;display: block;width: 100%;margin-bottom: 0;padding: 0.3em;box-sizing: border-box;text-align: center;}#sk-container-id-5 label.sk-toggleable__label-arrow:before {content: \"▸\";float: left;margin-right: 0.25em;color: #696969;}#sk-container-id-5 label.sk-toggleable__label-arrow:hover:before {color: black;}#sk-container-id-5 div.sk-estimator:hover label.sk-toggleable__label-arrow:before {color: black;}#sk-container-id-5 div.sk-toggleable__content {max-height: 0;max-width: 0;overflow: hidden;text-align: left;background-color: #f0f8ff;}#sk-container-id-5 div.sk-toggleable__content pre {margin: 0.2em;color: black;border-radius: 0.25em;background-color: #f0f8ff;}#sk-container-id-5 input.sk-toggleable__control:checked~div.sk-toggleable__content {max-height: 200px;max-width: 100%;overflow: auto;}#sk-container-id-5 input.sk-toggleable__control:checked~label.sk-toggleable__label-arrow:before {content: \"▾\";}#sk-container-id-5 div.sk-estimator input.sk-toggleable__control:checked~label.sk-toggleable__label {background-color: #d4ebff;}#sk-container-id-5 div.sk-label input.sk-toggleable__control:checked~label.sk-toggleable__label {background-color: #d4ebff;}#sk-container-id-5 input.sk-hidden--visually {border: 0;clip: rect(1px 1px 1px 1px);clip: rect(1px, 1px, 1px, 1px);height: 1px;margin: -1px;overflow: hidden;padding: 0;position: absolute;width: 1px;}#sk-container-id-5 div.sk-estimator {font-family: monospace;background-color: #f0f8ff;border: 1px dotted black;border-radius: 0.25em;box-sizing: border-box;margin-bottom: 0.5em;}#sk-container-id-5 div.sk-estimator:hover {background-color: #d4ebff;}#sk-container-id-5 div.sk-parallel-item::after {content: \"\";width: 100%;border-bottom: 1px solid gray;flex-grow: 1;}#sk-container-id-5 div.sk-label:hover label.sk-toggleable__label {background-color: #d4ebff;}#sk-container-id-5 div.sk-serial::before {content: \"\";position: absolute;border-left: 1px solid gray;box-sizing: border-box;top: 0;bottom: 0;left: 50%;z-index: 0;}#sk-container-id-5 div.sk-serial {display: flex;flex-direction: column;align-items: center;background-color: white;padding-right: 0.2em;padding-left: 0.2em;position: relative;}#sk-container-id-5 div.sk-item {position: relative;z-index: 1;}#sk-container-id-5 div.sk-parallel {display: flex;align-items: stretch;justify-content: center;background-color: white;position: relative;}#sk-container-id-5 div.sk-item::before, #sk-container-id-5 div.sk-parallel-item::before {content: \"\";position: absolute;border-left: 1px solid gray;box-sizing: border-box;top: 0;bottom: 0;left: 50%;z-index: -1;}#sk-container-id-5 div.sk-parallel-item {display: flex;flex-direction: column;z-index: 1;position: relative;background-color: white;}#sk-container-id-5 div.sk-parallel-item:first-child::after {align-self: flex-end;width: 50%;}#sk-container-id-5 div.sk-parallel-item:last-child::after {align-self: flex-start;width: 50%;}#sk-container-id-5 div.sk-parallel-item:only-child::after {width: 0;}#sk-container-id-5 div.sk-dashed-wrapped {border: 1px dashed gray;margin: 0 0.4em 0.5em 0.4em;box-sizing: border-box;padding-bottom: 0.4em;background-color: white;}#sk-container-id-5 div.sk-label label {font-family: monospace;font-weight: bold;display: inline-block;line-height: 1.2em;}#sk-container-id-5 div.sk-label-container {text-align: center;}#sk-container-id-5 div.sk-container {/* jupyter's `normalize.less` sets `[hidden] { display: none; }` but bootstrap.min.css set `[hidden] { display: none !important; }` so we also need the `!important` here to be able to override the default hidden behavior on the sphinx rendered scikit-learn.org. See: https://github.com/scikit-learn/scikit-learn/issues/21755 */display: inline-block !important;position: relative;}#sk-container-id-5 div.sk-text-repr-fallback {display: none;}</style><div id=\"sk-container-id-5\" class=\"sk-top-container\"><div class=\"sk-text-repr-fallback\"><pre>XGBRegressor(base_score=None, booster=None, callbacks=None,\n",
       "             colsample_bylevel=None, colsample_bynode=None,\n",
       "             colsample_bytree=0.5, early_stopping_rounds=None,\n",
       "             enable_categorical=False, eval_metric=None, feature_types=None,\n",
       "             gamma=0.2, gpu_id=None, grow_policy=None, importance_type=None,\n",
       "             interaction_constraints=None, learning_rate=0.1, max_bin=None,\n",
       "             max_cat_threshold=None, max_cat_to_onehot=None,\n",
       "             max_delta_step=None, max_depth=9, max_leaves=None,\n",
       "             min_child_weight=5, missing=nan, monotone_constraints=None,\n",
       "             n_estimators=100, n_jobs=None, num_parallel_tree=None,\n",
       "             predictor=None, random_state=None, ...)</pre><b>In a Jupyter environment, please rerun this cell to show the HTML representation or trust the notebook. <br />On GitHub, the HTML representation is unable to render, please try loading this page with nbviewer.org.</b></div><div class=\"sk-container\" hidden><div class=\"sk-item\"><div class=\"sk-estimator sk-toggleable\"><input class=\"sk-toggleable__control sk-hidden--visually\" id=\"sk-estimator-id-5\" type=\"checkbox\" checked><label for=\"sk-estimator-id-5\" class=\"sk-toggleable__label sk-toggleable__label-arrow\">XGBRegressor</label><div class=\"sk-toggleable__content\"><pre>XGBRegressor(base_score=None, booster=None, callbacks=None,\n",
       "             colsample_bylevel=None, colsample_bynode=None,\n",
       "             colsample_bytree=0.5, early_stopping_rounds=None,\n",
       "             enable_categorical=False, eval_metric=None, feature_types=None,\n",
       "             gamma=0.2, gpu_id=None, grow_policy=None, importance_type=None,\n",
       "             interaction_constraints=None, learning_rate=0.1, max_bin=None,\n",
       "             max_cat_threshold=None, max_cat_to_onehot=None,\n",
       "             max_delta_step=None, max_depth=9, max_leaves=None,\n",
       "             min_child_weight=5, missing=nan, monotone_constraints=None,\n",
       "             n_estimators=100, n_jobs=None, num_parallel_tree=None,\n",
       "             predictor=None, random_state=None, ...)</pre></div></div></div></div></div>"
      ],
      "text/plain": [
       "XGBRegressor(base_score=None, booster=None, callbacks=None,\n",
       "             colsample_bylevel=None, colsample_bynode=None,\n",
       "             colsample_bytree=0.5, early_stopping_rounds=None,\n",
       "             enable_categorical=False, eval_metric=None, feature_types=None,\n",
       "             gamma=0.2, gpu_id=None, grow_policy=None, importance_type=None,\n",
       "             interaction_constraints=None, learning_rate=0.1, max_bin=None,\n",
       "             max_cat_threshold=None, max_cat_to_onehot=None,\n",
       "             max_delta_step=None, max_depth=9, max_leaves=None,\n",
       "             min_child_weight=5, missing=nan, monotone_constraints=None,\n",
       "             n_estimators=100, n_jobs=None, num_parallel_tree=None,\n",
       "             predictor=None, random_state=None, ...)"
      ]
     },
     "execution_count": 231,
     "metadata": {},
     "output_type": "execute_result"
    }
   ],
   "source": [
    "xgb_regressor.fit(X_train, y_train)"
   ]
  },
  {
   "cell_type": "code",
   "execution_count": null,
   "id": "f5f17c2a",
   "metadata": {},
   "outputs": [],
   "source": [
    "\n"
   ]
  },
  {
   "cell_type": "code",
   "execution_count": 232,
   "id": "5038c7b2",
   "metadata": {},
   "outputs": [
    {
     "name": "stdout",
     "output_type": "stream",
     "text": [
      "Model Performance\n",
      "Mean Squared Log Error: 0.1270\n",
      "Accuracy = 66.45%.\n"
     ]
    }
   ],
   "source": [
    "from sklearn.metrics import mean_squared_log_error\n",
    "\n",
    "def evaluate(model, test_features, test_labels):\n",
    "    predictions = model.predict(test_features)\n",
    "    errors = abs(predictions - test_labels)\n",
    "    mape = 100 * np.mean(errors / test_labels)\n",
    "    accuracy = 100 - mape\n",
    "    print('Model Performance')\n",
    "    print('Mean Squared Log Error: {:0.4f}'.format(mean_squared_log_error(test_labels, predictions)))\n",
    "    print('Accuracy = {:0.2f}%.'.format(accuracy))\n",
    "    \n",
    "    return accuracy\n",
    "\n",
    "\n",
    "random_accuracy = evaluate(xgb_regressor, X_val, y_val)"
   ]
  },
  {
   "cell_type": "code",
   "execution_count": 242,
   "id": "94802363",
   "metadata": {},
   "outputs": [
    {
     "data": {
      "text/html": [
       "<div>\n",
       "<style scoped>\n",
       "    .dataframe tbody tr th:only-of-type {\n",
       "        vertical-align: middle;\n",
       "    }\n",
       "\n",
       "    .dataframe tbody tr th {\n",
       "        vertical-align: top;\n",
       "    }\n",
       "\n",
       "    .dataframe thead th {\n",
       "        text-align: right;\n",
       "    }\n",
       "</style>\n",
       "<table border=\"1\" class=\"dataframe\">\n",
       "  <thead>\n",
       "    <tr style=\"text-align: right;\">\n",
       "      <th></th>\n",
       "      <th>Actual</th>\n",
       "      <th>Target</th>\n",
       "    </tr>\n",
       "  </thead>\n",
       "  <tbody>\n",
       "    <tr>\n",
       "      <th>307395</th>\n",
       "      <td>31.0</td>\n",
       "      <td>27.141558</td>\n",
       "    </tr>\n",
       "    <tr>\n",
       "      <th>336221</th>\n",
       "      <td>75.0</td>\n",
       "      <td>38.653011</td>\n",
       "    </tr>\n",
       "    <tr>\n",
       "      <th>9058</th>\n",
       "      <td>12.0</td>\n",
       "      <td>19.330744</td>\n",
       "    </tr>\n",
       "    <tr>\n",
       "      <th>85757</th>\n",
       "      <td>9.0</td>\n",
       "      <td>14.500270</td>\n",
       "    </tr>\n",
       "    <tr>\n",
       "      <th>11972</th>\n",
       "      <td>28.0</td>\n",
       "      <td>28.446810</td>\n",
       "    </tr>\n",
       "    <tr>\n",
       "      <th>...</th>\n",
       "      <td>...</td>\n",
       "      <td>...</td>\n",
       "    </tr>\n",
       "    <tr>\n",
       "      <th>4513</th>\n",
       "      <td>27.0</td>\n",
       "      <td>33.654976</td>\n",
       "    </tr>\n",
       "    <tr>\n",
       "      <th>347666</th>\n",
       "      <td>16.0</td>\n",
       "      <td>21.226402</td>\n",
       "    </tr>\n",
       "    <tr>\n",
       "      <th>306284</th>\n",
       "      <td>17.0</td>\n",
       "      <td>21.063713</td>\n",
       "    </tr>\n",
       "    <tr>\n",
       "      <th>393961</th>\n",
       "      <td>15.0</td>\n",
       "      <td>20.593975</td>\n",
       "    </tr>\n",
       "    <tr>\n",
       "      <th>331919</th>\n",
       "      <td>47.0</td>\n",
       "      <td>32.460262</td>\n",
       "    </tr>\n",
       "  </tbody>\n",
       "</table>\n",
       "<p>138284 rows × 2 columns</p>\n",
       "</div>"
      ],
      "text/plain": [
       "        Actual     Target\n",
       "307395    31.0  27.141558\n",
       "336221    75.0  38.653011\n",
       "9058      12.0  19.330744\n",
       "85757      9.0  14.500270\n",
       "11972     28.0  28.446810\n",
       "...        ...        ...\n",
       "4513      27.0  33.654976\n",
       "347666    16.0  21.226402\n",
       "306284    17.0  21.063713\n",
       "393961    15.0  20.593975\n",
       "331919    47.0  32.460262\n",
       "\n",
       "[138284 rows x 2 columns]"
      ]
     },
     "execution_count": 242,
     "metadata": {},
     "output_type": "execute_result"
    }
   ],
   "source": [
    "pd.DataFrame({'Actual': y_val, 'Target': xgb_regressor.predict(X_val)})"
   ]
  },
  {
   "cell_type": "code",
   "execution_count": 233,
   "id": "f5f3cb50",
   "metadata": {},
   "outputs": [
    {
     "name": "stdout",
     "output_type": "stream",
     "text": [
      "Model Performance\n",
      "Mean Squared Log Error: 0.1095\n",
      "Accuracy = 69.10%.\n"
     ]
    }
   ],
   "source": [
    "random_accuracy = evaluate(xgb_regressor, X_train, y_train)"
   ]
  },
  {
   "cell_type": "code",
   "execution_count": 234,
   "id": "1cbe4db9",
   "metadata": {
    "scrolled": true
   },
   "outputs": [],
   "source": [
    "y_pred = xgb_regressor.predict(Xtest)"
   ]
  },
  {
   "cell_type": "code",
   "execution_count": 235,
   "id": "91f33e7b",
   "metadata": {},
   "outputs": [
    {
     "data": {
      "text/plain": [
       "(225637,)"
      ]
     },
     "execution_count": 235,
     "metadata": {},
     "output_type": "execute_result"
    }
   ],
   "source": [
    "y_pred.shape"
   ]
  },
  {
   "cell_type": "code",
   "execution_count": 236,
   "id": "b2dcee0d",
   "metadata": {},
   "outputs": [
    {
     "data": {
      "text/plain": [
       "0         2183e7e6f5901c2fe2bc14ca6d43a6fa\n",
       "1         a495f8f7ec5a034c6db1405b40c7f473\n",
       "2         c57ccaed44245b3b7eaa76c5ec99a0ea\n",
       "3         f19d65cf813f5ddbdefa6075278c1d41\n",
       "4         5aaec38f837a17c42fab041c2c6b5a4f\n",
       "                        ...               \n",
       "225632    c2d12c317da392b4c805a5267accf5bf\n",
       "225633    ce24f3311881d184c48c4ed2d7be96c1\n",
       "225634    11b58c759028d0b32695224533b47e5b\n",
       "225635    d1cff3f77d9bce11001f3c7a93a9a2c2\n",
       "225636    914ec7ff363841226bd69e9c256f3554\n",
       "Name: id, Length: 225637, dtype: object"
      ]
     },
     "execution_count": 236,
     "metadata": {},
     "output_type": "execute_result"
    }
   ],
   "source": [
    "ids_test"
   ]
  },
  {
   "cell_type": "code",
   "execution_count": 237,
   "id": "ef1b9559",
   "metadata": {},
   "outputs": [],
   "source": [
    "submission_3 = pd.DataFrame({'id': ids_test.values, 'target': y_pred})"
   ]
  },
  {
   "cell_type": "code",
   "execution_count": 238,
   "id": "cfe03c04",
   "metadata": {},
   "outputs": [
    {
     "data": {
      "image/png": "[encoded data removed]",
      "text/plain": [
       "<Figure size 1000x1000 with 1 Axes>"
      ]
     },
     "metadata": {},
     "output_type": "display_data"
    }
   ],
   "source": [
    "plt.figure(figsize=(10,10))\n",
    "plt.scatter(y_val, xgb_regressor.predict(X_val), c='crimson')\n",
    "\n",
    "plt.xlabel('True Values', fontsize=15)\n",
    "plt.ylabel('Predictions', fontsize=15)\n",
    "plt.axis('equal')\n",
    "plt.grid()\n",
    "plt.show()"
   ]
  },
  {
   "cell_type": "code",
   "execution_count": 243,
   "id": "55014299",
   "metadata": {},
   "outputs": [
    {
     "data": {
      "text/html": [
       "<div>\n",
       "<style scoped>\n",
       "    .dataframe tbody tr th:only-of-type {\n",
       "        vertical-align: middle;\n",
       "    }\n",
       "\n",
       "    .dataframe tbody tr th {\n",
       "        vertical-align: top;\n",
       "    }\n",
       "\n",
       "    .dataframe thead th {\n",
       "        text-align: right;\n",
       "    }\n",
       "</style>\n",
       "<table border=\"1\" class=\"dataframe\">\n",
       "  <thead>\n",
       "    <tr style=\"text-align: right;\">\n",
       "      <th></th>\n",
       "      <th>id</th>\n",
       "      <th>target</th>\n",
       "    </tr>\n",
       "  </thead>\n",
       "  <tbody>\n",
       "    <tr>\n",
       "      <th>0</th>\n",
       "      <td>2183e7e6f5901c2fe2bc14ca6d43a6fa</td>\n",
       "      <td>22.206724</td>\n",
       "    </tr>\n",
       "    <tr>\n",
       "      <th>1</th>\n",
       "      <td>a495f8f7ec5a034c6db1405b40c7f473</td>\n",
       "      <td>28.749670</td>\n",
       "    </tr>\n",
       "    <tr>\n",
       "      <th>2</th>\n",
       "      <td>c57ccaed44245b3b7eaa76c5ec99a0ea</td>\n",
       "      <td>26.252455</td>\n",
       "    </tr>\n",
       "    <tr>\n",
       "      <th>3</th>\n",
       "      <td>f19d65cf813f5ddbdefa6075278c1d41</td>\n",
       "      <td>43.463810</td>\n",
       "    </tr>\n",
       "    <tr>\n",
       "      <th>4</th>\n",
       "      <td>5aaec38f837a17c42fab041c2c6b5a4f</td>\n",
       "      <td>32.919975</td>\n",
       "    </tr>\n",
       "    <tr>\n",
       "      <th>...</th>\n",
       "      <td>...</td>\n",
       "      <td>...</td>\n",
       "    </tr>\n",
       "    <tr>\n",
       "      <th>225632</th>\n",
       "      <td>c2d12c317da392b4c805a5267accf5bf</td>\n",
       "      <td>20.478422</td>\n",
       "    </tr>\n",
       "    <tr>\n",
       "      <th>225633</th>\n",
       "      <td>ce24f3311881d184c48c4ed2d7be96c1</td>\n",
       "      <td>27.134991</td>\n",
       "    </tr>\n",
       "    <tr>\n",
       "      <th>225634</th>\n",
       "      <td>11b58c759028d0b32695224533b47e5b</td>\n",
       "      <td>21.094416</td>\n",
       "    </tr>\n",
       "    <tr>\n",
       "      <th>225635</th>\n",
       "      <td>d1cff3f77d9bce11001f3c7a93a9a2c2</td>\n",
       "      <td>23.840544</td>\n",
       "    </tr>\n",
       "    <tr>\n",
       "      <th>225636</th>\n",
       "      <td>914ec7ff363841226bd69e9c256f3554</td>\n",
       "      <td>25.980877</td>\n",
       "    </tr>\n",
       "  </tbody>\n",
       "</table>\n",
       "<p>225637 rows × 2 columns</p>\n",
       "</div>"
      ],
      "text/plain": [
       "                                      id     target\n",
       "0       2183e7e6f5901c2fe2bc14ca6d43a6fa  22.206724\n",
       "1       a495f8f7ec5a034c6db1405b40c7f473  28.749670\n",
       "2       c57ccaed44245b3b7eaa76c5ec99a0ea  26.252455\n",
       "3       f19d65cf813f5ddbdefa6075278c1d41  43.463810\n",
       "4       5aaec38f837a17c42fab041c2c6b5a4f  32.919975\n",
       "...                                  ...        ...\n",
       "225632  c2d12c317da392b4c805a5267accf5bf  20.478422\n",
       "225633  ce24f3311881d184c48c4ed2d7be96c1  27.134991\n",
       "225634  11b58c759028d0b32695224533b47e5b  21.094416\n",
       "225635  d1cff3f77d9bce11001f3c7a93a9a2c2  23.840544\n",
       "225636  914ec7ff363841226bd69e9c256f3554  25.980877\n",
       "\n",
       "[225637 rows x 2 columns]"
      ]
     },
     "execution_count": 243,
     "metadata": {},
     "output_type": "execute_result"
    }
   ],
   "source": [
    "submission_3"
   ]
  },
  {
   "cell_type": "code",
   "execution_count": 244,
   "id": "03cd3643",
   "metadata": {},
   "outputs": [],
   "source": [
    "submission_3.to_csv('xgb_submission_final.csv', index=False)"
   ]
  },
  {
   "cell_type": "code",
   "execution_count": 245,
   "id": "6636f9fe",
   "metadata": {},
   "outputs": [
    {
     "data": {
      "text/html": [
       "<div>\n",
       "<style scoped>\n",
       "    .dataframe tbody tr th:only-of-type {\n",
       "        vertical-align: middle;\n",
       "    }\n",
       "\n",
       "    .dataframe tbody tr th {\n",
       "        vertical-align: top;\n",
       "    }\n",
       "\n",
       "    .dataframe thead th {\n",
       "        text-align: right;\n",
       "    }\n",
       "</style>\n",
       "<table border=\"1\" class=\"dataframe\">\n",
       "  <thead>\n",
       "    <tr style=\"text-align: right;\">\n",
       "      <th></th>\n",
       "      <th>id</th>\n",
       "      <th>time</th>\n",
       "      <th>duration</th>\n",
       "      <th>feature_0</th>\n",
       "      <th>checkpoint</th>\n",
       "      <th>feature_1</th>\n",
       "      <th>feature_2</th>\n",
       "      <th>feature_3</th>\n",
       "      <th>feature_5</th>\n",
       "      <th>feature_6</th>\n",
       "      <th>...</th>\n",
       "      <th>feature_28</th>\n",
       "      <th>feature_29</th>\n",
       "      <th>feature_30</th>\n",
       "      <th>feature_31</th>\n",
       "      <th>feature_32</th>\n",
       "      <th>feature_33</th>\n",
       "      <th>feature_34</th>\n",
       "      <th>feature_35</th>\n",
       "      <th>feature_36</th>\n",
       "      <th>target</th>\n",
       "    </tr>\n",
       "  </thead>\n",
       "  <tbody>\n",
       "    <tr>\n",
       "      <th>0</th>\n",
       "      <td>eac9059b997a667954a1c2f19079c463</td>\n",
       "      <td>10+ years</td>\n",
       "      <td>36 months</td>\n",
       "      <td>0.0</td>\n",
       "      <td>91th week</td>\n",
       "      <td>UT</td>\n",
       "      <td>130000.0</td>\n",
       "      <td>INDIVIDUAL</td>\n",
       "      <td>0.0</td>\n",
       "      <td>0.0</td>\n",
       "      <td>...</td>\n",
       "      <td>D2</td>\n",
       "      <td>Debt consolidation</td>\n",
       "      <td>0.0</td>\n",
       "      <td>39779.0</td>\n",
       "      <td>5701.17</td>\n",
       "      <td>0.0</td>\n",
       "      <td>37400.0</td>\n",
       "      <td>Source Verified</td>\n",
       "      <td>841xx</td>\n",
       "      <td>28.0</td>\n",
       "    </tr>\n",
       "    <tr>\n",
       "      <th>1</th>\n",
       "      <td>f2bdbfe82b2a63a35726cb1a630af56a</td>\n",
       "      <td>10+ years</td>\n",
       "      <td>36 months</td>\n",
       "      <td>0.0</td>\n",
       "      <td>4th week</td>\n",
       "      <td>LA</td>\n",
       "      <td>50000.0</td>\n",
       "      <td>INDIVIDUAL</td>\n",
       "      <td>0.0</td>\n",
       "      <td>0.0</td>\n",
       "      <td>...</td>\n",
       "      <td>D2</td>\n",
       "      <td>Business</td>\n",
       "      <td>138.0</td>\n",
       "      <td>115674.0</td>\n",
       "      <td>11.84</td>\n",
       "      <td>0.0</td>\n",
       "      <td>49000.0</td>\n",
       "      <td>Verified</td>\n",
       "      <td>701xx</td>\n",
       "      <td>39.0</td>\n",
       "    </tr>\n",
       "    <tr>\n",
       "      <th>2</th>\n",
       "      <td>0a73ee5d7841b012f1fb62542d7664c7</td>\n",
       "      <td>10+ years</td>\n",
       "      <td>36 months</td>\n",
       "      <td>0.0</td>\n",
       "      <td>65th week</td>\n",
       "      <td>VA</td>\n",
       "      <td>40000.0</td>\n",
       "      <td>INDIVIDUAL</td>\n",
       "      <td>0.0</td>\n",
       "      <td>0.0</td>\n",
       "      <td>...</td>\n",
       "      <td>C1</td>\n",
       "      <td>Debt consolidation</td>\n",
       "      <td>0.0</td>\n",
       "      <td>40075.0</td>\n",
       "      <td>1689.09</td>\n",
       "      <td>0.0</td>\n",
       "      <td>17600.0</td>\n",
       "      <td>Verified</td>\n",
       "      <td>241xx</td>\n",
       "      <td>29.0</td>\n",
       "    </tr>\n",
       "    <tr>\n",
       "      <th>3</th>\n",
       "      <td>d9a39c969e294fe16601279e114fc9c0</td>\n",
       "      <td>&lt; 1 year</td>\n",
       "      <td>60 months</td>\n",
       "      <td>0.0</td>\n",
       "      <td>9th week</td>\n",
       "      <td>MI</td>\n",
       "      <td>50000.0</td>\n",
       "      <td>INDIVIDUAL</td>\n",
       "      <td>0.0</td>\n",
       "      <td>0.0</td>\n",
       "      <td>...</td>\n",
       "      <td>F2</td>\n",
       "      <td>Credit card refinancing</td>\n",
       "      <td>0.0</td>\n",
       "      <td>20459.0</td>\n",
       "      <td>348.68</td>\n",
       "      <td>0.0</td>\n",
       "      <td>20100.0</td>\n",
       "      <td>Source Verified</td>\n",
       "      <td>480xx</td>\n",
       "      <td>15.0</td>\n",
       "    </tr>\n",
       "    <tr>\n",
       "      <th>4</th>\n",
       "      <td>3a44d3ab14792dcc7aaf391db0bdb72c</td>\n",
       "      <td>5 years</td>\n",
       "      <td>36 months</td>\n",
       "      <td>0.0</td>\n",
       "      <td>139th week</td>\n",
       "      <td>NC</td>\n",
       "      <td>45000.0</td>\n",
       "      <td>INDIVIDUAL</td>\n",
       "      <td>0.0</td>\n",
       "      <td>0.0</td>\n",
       "      <td>...</td>\n",
       "      <td>B5</td>\n",
       "      <td>debt consolidation</td>\n",
       "      <td>0.0</td>\n",
       "      <td>100987.0</td>\n",
       "      <td>2164.96</td>\n",
       "      <td>0.0</td>\n",
       "      <td>15000.0</td>\n",
       "      <td>Verified</td>\n",
       "      <td>282xx</td>\n",
       "      <td>18.0</td>\n",
       "    </tr>\n",
       "    <tr>\n",
       "      <th>...</th>\n",
       "      <td>...</td>\n",
       "      <td>...</td>\n",
       "      <td>...</td>\n",
       "      <td>...</td>\n",
       "      <td>...</td>\n",
       "      <td>...</td>\n",
       "      <td>...</td>\n",
       "      <td>...</td>\n",
       "      <td>...</td>\n",
       "      <td>...</td>\n",
       "      <td>...</td>\n",
       "      <td>...</td>\n",
       "      <td>...</td>\n",
       "      <td>...</td>\n",
       "      <td>...</td>\n",
       "      <td>...</td>\n",
       "      <td>...</td>\n",
       "      <td>...</td>\n",
       "      <td>...</td>\n",
       "      <td>...</td>\n",
       "      <td>...</td>\n",
       "    </tr>\n",
       "    <tr>\n",
       "      <th>419035</th>\n",
       "      <td>2197fcc823c2957bec79a0a2d7ef0ad8</td>\n",
       "      <td>10+ years</td>\n",
       "      <td>60 months</td>\n",
       "      <td>0.0</td>\n",
       "      <td>13th week</td>\n",
       "      <td>IL</td>\n",
       "      <td>62000.0</td>\n",
       "      <td>INDIVIDUAL</td>\n",
       "      <td>0.0</td>\n",
       "      <td>0.0</td>\n",
       "      <td>...</td>\n",
       "      <td>E3</td>\n",
       "      <td>Debt consolidation</td>\n",
       "      <td>1162.0</td>\n",
       "      <td>258381.0</td>\n",
       "      <td>1068.18</td>\n",
       "      <td>0.0</td>\n",
       "      <td>10700.0</td>\n",
       "      <td>Verified</td>\n",
       "      <td>600xx</td>\n",
       "      <td>27.0</td>\n",
       "    </tr>\n",
       "    <tr>\n",
       "      <th>419036</th>\n",
       "      <td>b13f673efa3c5d69015a79bf0d2c48c7</td>\n",
       "      <td>9 years</td>\n",
       "      <td>36 months</td>\n",
       "      <td>0.0</td>\n",
       "      <td>22th week</td>\n",
       "      <td>NC</td>\n",
       "      <td>37500.0</td>\n",
       "      <td>INDIVIDUAL</td>\n",
       "      <td>0.0</td>\n",
       "      <td>0.0</td>\n",
       "      <td>...</td>\n",
       "      <td>B1</td>\n",
       "      <td>Credit card refinancing</td>\n",
       "      <td>0.0</td>\n",
       "      <td>109406.0</td>\n",
       "      <td>192.84</td>\n",
       "      <td>0.0</td>\n",
       "      <td>54900.0</td>\n",
       "      <td>Not Verified</td>\n",
       "      <td>282xx</td>\n",
       "      <td>27.0</td>\n",
       "    </tr>\n",
       "    <tr>\n",
       "      <th>419037</th>\n",
       "      <td>31a8aae9a22016cde31ff8e1c5b07e3c</td>\n",
       "      <td>5 years</td>\n",
       "      <td>36 months</td>\n",
       "      <td>0.0</td>\n",
       "      <td>78th week</td>\n",
       "      <td>MD</td>\n",
       "      <td>145000.0</td>\n",
       "      <td>INDIVIDUAL</td>\n",
       "      <td>0.0</td>\n",
       "      <td>0.0</td>\n",
       "      <td>...</td>\n",
       "      <td>C2</td>\n",
       "      <td>Credit card refinancing</td>\n",
       "      <td>0.0</td>\n",
       "      <td>761455.0</td>\n",
       "      <td>6422.71</td>\n",
       "      <td>0.0</td>\n",
       "      <td>22200.0</td>\n",
       "      <td>Source Verified</td>\n",
       "      <td>208xx</td>\n",
       "      <td>46.0</td>\n",
       "    </tr>\n",
       "    <tr>\n",
       "      <th>419038</th>\n",
       "      <td>57d90e37e3373b470e0b842d04883a19</td>\n",
       "      <td>2 years</td>\n",
       "      <td>36 months</td>\n",
       "      <td>0.0</td>\n",
       "      <td>56th week</td>\n",
       "      <td>CA</td>\n",
       "      <td>40000.0</td>\n",
       "      <td>INDIVIDUAL</td>\n",
       "      <td>0.0</td>\n",
       "      <td>0.0</td>\n",
       "      <td>...</td>\n",
       "      <td>A4</td>\n",
       "      <td>Debt consolidation</td>\n",
       "      <td>0.0</td>\n",
       "      <td>7712.0</td>\n",
       "      <td>687.07</td>\n",
       "      <td>0.0</td>\n",
       "      <td>13800.0</td>\n",
       "      <td>Source Verified</td>\n",
       "      <td>900xx</td>\n",
       "      <td>13.0</td>\n",
       "    </tr>\n",
       "    <tr>\n",
       "      <th>419039</th>\n",
       "      <td>b834bcccc1f882c281990b0652bb27a9</td>\n",
       "      <td>10+ years</td>\n",
       "      <td>60 months</td>\n",
       "      <td>0.0</td>\n",
       "      <td>83th week</td>\n",
       "      <td>CA</td>\n",
       "      <td>56000.0</td>\n",
       "      <td>INDIVIDUAL</td>\n",
       "      <td>0.0</td>\n",
       "      <td>0.0</td>\n",
       "      <td>...</td>\n",
       "      <td>E4</td>\n",
       "      <td>Debt consolidation</td>\n",
       "      <td>0.0</td>\n",
       "      <td>28062.0</td>\n",
       "      <td>5653.46</td>\n",
       "      <td>0.0</td>\n",
       "      <td>24200.0</td>\n",
       "      <td>Source Verified</td>\n",
       "      <td>945xx</td>\n",
       "      <td>20.0</td>\n",
       "    </tr>\n",
       "  </tbody>\n",
       "</table>\n",
       "<p>419040 rows × 40 columns</p>\n",
       "</div>"
      ],
      "text/plain": [
       "                                      id       time   duration  feature_0  \\\n",
       "0       eac9059b997a667954a1c2f19079c463  10+ years  36 months        0.0   \n",
       "1       f2bdbfe82b2a63a35726cb1a630af56a  10+ years  36 months        0.0   \n",
       "2       0a73ee5d7841b012f1fb62542d7664c7  10+ years  36 months        0.0   \n",
       "3       d9a39c969e294fe16601279e114fc9c0   < 1 year  60 months        0.0   \n",
       "4       3a44d3ab14792dcc7aaf391db0bdb72c    5 years  36 months        0.0   \n",
       "...                                  ...        ...        ...        ...   \n",
       "419035  2197fcc823c2957bec79a0a2d7ef0ad8  10+ years  60 months        0.0   \n",
       "419036  b13f673efa3c5d69015a79bf0d2c48c7    9 years  36 months        0.0   \n",
       "419037  31a8aae9a22016cde31ff8e1c5b07e3c    5 years  36 months        0.0   \n",
       "419038  57d90e37e3373b470e0b842d04883a19    2 years  36 months        0.0   \n",
       "419039  b834bcccc1f882c281990b0652bb27a9  10+ years  60 months        0.0   \n",
       "\n",
       "        checkpoint feature_1  feature_2   feature_3  feature_5  feature_6  \\\n",
       "0        91th week        UT   130000.0  INDIVIDUAL        0.0        0.0   \n",
       "1         4th week        LA    50000.0  INDIVIDUAL        0.0        0.0   \n",
       "2        65th week        VA    40000.0  INDIVIDUAL        0.0        0.0   \n",
       "3         9th week        MI    50000.0  INDIVIDUAL        0.0        0.0   \n",
       "4       139th week        NC    45000.0  INDIVIDUAL        0.0        0.0   \n",
       "...            ...       ...        ...         ...        ...        ...   \n",
       "419035   13th week        IL    62000.0  INDIVIDUAL        0.0        0.0   \n",
       "419036   22th week        NC    37500.0  INDIVIDUAL        0.0        0.0   \n",
       "419037   78th week        MD   145000.0  INDIVIDUAL        0.0        0.0   \n",
       "419038   56th week        CA    40000.0  INDIVIDUAL        0.0        0.0   \n",
       "419039   83th week        CA    56000.0  INDIVIDUAL        0.0        0.0   \n",
       "\n",
       "        ...  feature_28               feature_29 feature_30  feature_31  \\\n",
       "0       ...          D2       Debt consolidation        0.0     39779.0   \n",
       "1       ...          D2                 Business      138.0    115674.0   \n",
       "2       ...          C1       Debt consolidation        0.0     40075.0   \n",
       "3       ...          F2  Credit card refinancing        0.0     20459.0   \n",
       "4       ...          B5       debt consolidation        0.0    100987.0   \n",
       "...     ...         ...                      ...        ...         ...   \n",
       "419035  ...          E3       Debt consolidation     1162.0    258381.0   \n",
       "419036  ...          B1  Credit card refinancing        0.0    109406.0   \n",
       "419037  ...          C2  Credit card refinancing        0.0    761455.0   \n",
       "419038  ...          A4       Debt consolidation        0.0      7712.0   \n",
       "419039  ...          E4       Debt consolidation        0.0     28062.0   \n",
       "\n",
       "        feature_32 feature_33 feature_34       feature_35  feature_36  target  \n",
       "0          5701.17        0.0    37400.0  Source Verified       841xx    28.0  \n",
       "1            11.84        0.0    49000.0         Verified       701xx    39.0  \n",
       "2          1689.09        0.0    17600.0         Verified       241xx    29.0  \n",
       "3           348.68        0.0    20100.0  Source Verified       480xx    15.0  \n",
       "4          2164.96        0.0    15000.0         Verified       282xx    18.0  \n",
       "...            ...        ...        ...              ...         ...     ...  \n",
       "419035     1068.18        0.0    10700.0         Verified       600xx    27.0  \n",
       "419036      192.84        0.0    54900.0     Not Verified       282xx    27.0  \n",
       "419037     6422.71        0.0    22200.0  Source Verified       208xx    46.0  \n",
       "419038      687.07        0.0    13800.0  Source Verified       900xx    13.0  \n",
       "419039     5653.46        0.0    24200.0  Source Verified       945xx    20.0  \n",
       "\n",
       "[419040 rows x 40 columns]"
      ]
     },
     "execution_count": 245,
     "metadata": {},
     "output_type": "execute_result"
    }
   ],
   "source": [
    "train_df"
   ]
  },
  {
   "cell_type": "code",
   "execution_count": 246,
   "id": "bf16f056",
   "metadata": {},
   "outputs": [
    {
     "data": {
      "text/plain": [
       "419040"
      ]
     },
     "execution_count": 246,
     "metadata": {},
     "output_type": "execute_result"
    }
   ],
   "source": [
    "len(train_df[\"id\"].unique())"
   ]
  },
  {
   "cell_type": "code",
   "execution_count": null,
   "id": "57914cca",
   "metadata": {},
   "outputs": [],
   "source": [
    "X_train.columns"
   ]
  },
  {
   "cell_type": "code",
   "execution_count": null,
   "id": "75c85b63",
   "metadata": {},
   "outputs": [],
   "source": [
    "train_df[\"feature_3\"].unique()"
   ]
  },
  {
   "cell_type": "code",
   "execution_count": null,
   "id": "777bb486",
   "metadata": {},
   "outputs": [],
   "source": [
    "train_df[\"duration\"].unique()"
   ]
  },
  {
   "cell_type": "code",
   "execution_count": null,
   "id": "936acdb6",
   "metadata": {},
   "outputs": [],
   "source": []
  },
  {
   "cell_type": "code",
   "execution_count": 134,
   "id": "c77d338f",
   "metadata": {},
   "outputs": [],
   "source": []
  },
  {
   "cell_type": "code",
   "execution_count": 135,
   "id": "e01d2a9f",
   "metadata": {},
   "outputs": [
    {
     "name": "stdout",
     "output_type": "stream",
     "text": [
      "{'bootstrap': [True],\n",
      " 'max_depth': [10, 30, 50, None],\n",
      " 'max_features': [1.0, 'sqrt'],\n",
      " 'min_samples_leaf': [1, 2, 4],\n",
      " 'min_samples_split': [2],\n",
      " 'n_estimators': [300, 500, 700]}\n"
     ]
    }
   ],
   "source": []
  },
  {
   "cell_type": "code",
   "execution_count": 136,
   "id": "60d069cc",
   "metadata": {},
   "outputs": [],
   "source": []
  },
  {
   "cell_type": "code",
   "execution_count": null,
   "id": "706aeb19",
   "metadata": {},
   "outputs": [
    {
     "name": "stdout",
     "output_type": "stream",
     "text": [
      "Fitting 5 folds for each of 5 candidates, totalling 25 fits\n"
     ]
    }
   ],
   "source": []
  },
  {
   "cell_type": "code",
   "execution_count": null,
   "id": "f4c8e54d",
   "metadata": {},
   "outputs": [],
   "source": [
    "\n"
   ]
  },
  {
   "cell_type": "code",
   "execution_count": null,
   "id": "d590b63d",
   "metadata": {},
   "outputs": [],
   "source": []
  },
  {
   "cell_type": "code",
   "execution_count": null,
   "id": "966b7b4e",
   "metadata": {},
   "outputs": [],
   "source": []
  },
  {
   "cell_type": "code",
   "execution_count": null,
   "id": "09c70569",
   "metadata": {},
   "outputs": [],
   "source": []
  }
 ],
 "metadata": {
  "kernelspec": {
   "display_name": "Python 3 (ipykernel)",
   "language": "python",
   "name": "python3"
  },
  "language_info": {
   "codemirror_mode": {
    "name": "ipython",
    "version": 3
   },
   "file_extension": ".py",
   "mimetype": "text/x-python",
   "name": "python",
   "nbconvert_exporter": "python",
   "pygments_lexer": "ipython3",
   "version": "3.10.9"
  }
 },
 "nbformat": 4,
 "nbformat_minor": 5
}
